{
  "cells": [
    {
      "cell_type": "markdown",
      "metadata": {
        "id": "view-in-github",
        "colab_type": "text"
      },
      "source": [
        "<a href=\"https://colab.research.google.com/github/pranilbasu/ML-Projects/blob/main/PCA_Project.ipynb\" target=\"_parent\"><img src=\"https://colab.research.google.com/assets/colab-badge.svg\" alt=\"Open In Colab\"/></a>"
      ]
    },
    {
      "cell_type": "markdown",
      "id": "656fc1d2",
      "metadata": {
        "id": "656fc1d2"
      },
      "source": [
        "# PCA of Water Chemistry Data"
      ]
    },
    {
      "cell_type": "code",
      "execution_count": null,
      "id": "7c2abb3b",
      "metadata": {
        "id": "7c2abb3b"
      },
      "outputs": [],
      "source": [
        "#Libraries\n",
        "import numpy as np\n",
        "import matplotlib.pyplot as plt\n",
        "import pandas as pd"
      ]
    },
    {
      "cell_type": "code",
      "execution_count": null,
      "id": "a6a573ea",
      "metadata": {
        "id": "a6a573ea"
      },
      "outputs": [],
      "source": [
        "dataset = pd.read_csv('waterQuality1.csv')  # dataset"
      ]
    },
    {
      "cell_type": "code",
      "execution_count": null,
      "id": "af455931",
      "metadata": {
        "id": "af455931",
        "outputId": "9da0458f-a4a9-4e7f-ee3d-38680864d984"
      },
      "outputs": [
        {
          "data": {
            "text/plain": [
              "aluminium      0\n",
              "ammonia        3\n",
              "arsenic        0\n",
              "barium         0\n",
              "cadmium        0\n",
              "chloramine     0\n",
              "chromium       0\n",
              "copper         0\n",
              "flouride       0\n",
              "bacteria       0\n",
              "viruses        0\n",
              "lead           0\n",
              "nitrates       0\n",
              "nitrites       0\n",
              "mercury        0\n",
              "perchlorate    0\n",
              "radium         0\n",
              "selenium       0\n",
              "silver         0\n",
              "uranium        0\n",
              "is_safe        3\n",
              "dtype: int64"
            ]
          },
          "execution_count": 3,
          "metadata": {},
          "output_type": "execute_result"
        }
      ],
      "source": [
        "dataset.isnull().sum()"
      ]
    },
    {
      "cell_type": "code",
      "execution_count": null,
      "id": "97096f56",
      "metadata": {
        "id": "97096f56"
      },
      "outputs": [],
      "source": [
        "dataset = dataset.dropna()"
      ]
    },
    {
      "cell_type": "code",
      "execution_count": null,
      "id": "0b706cee",
      "metadata": {
        "id": "0b706cee",
        "outputId": "6783112d-b514-41c0-e0d7-f9079e550b31"
      },
      "outputs": [
        {
          "data": {
            "text/html": [
              "<div>\n",
              "<style scoped>\n",
              "    .dataframe tbody tr th:only-of-type {\n",
              "        vertical-align: middle;\n",
              "    }\n",
              "\n",
              "    .dataframe tbody tr th {\n",
              "        vertical-align: top;\n",
              "    }\n",
              "\n",
              "    .dataframe thead th {\n",
              "        text-align: right;\n",
              "    }\n",
              "</style>\n",
              "<table border=\"1\" class=\"dataframe\">\n",
              "  <thead>\n",
              "    <tr style=\"text-align: right;\">\n",
              "      <th></th>\n",
              "      <th>aluminium</th>\n",
              "      <th>ammonia</th>\n",
              "      <th>arsenic</th>\n",
              "      <th>barium</th>\n",
              "      <th>cadmium</th>\n",
              "      <th>chloramine</th>\n",
              "      <th>chromium</th>\n",
              "      <th>copper</th>\n",
              "      <th>flouride</th>\n",
              "      <th>bacteria</th>\n",
              "      <th>viruses</th>\n",
              "      <th>lead</th>\n",
              "      <th>nitrates</th>\n",
              "      <th>nitrites</th>\n",
              "      <th>mercury</th>\n",
              "      <th>perchlorate</th>\n",
              "      <th>radium</th>\n",
              "      <th>selenium</th>\n",
              "      <th>silver</th>\n",
              "      <th>uranium</th>\n",
              "    </tr>\n",
              "  </thead>\n",
              "  <tbody>\n",
              "    <tr>\n",
              "      <th>0</th>\n",
              "      <td>1.65</td>\n",
              "      <td>9.08</td>\n",
              "      <td>0.04</td>\n",
              "      <td>2.85</td>\n",
              "      <td>0.007</td>\n",
              "      <td>0.35</td>\n",
              "      <td>0.83</td>\n",
              "      <td>0.17</td>\n",
              "      <td>0.05</td>\n",
              "      <td>0.20</td>\n",
              "      <td>0.000</td>\n",
              "      <td>0.054</td>\n",
              "      <td>16.08</td>\n",
              "      <td>1.13</td>\n",
              "      <td>0.007</td>\n",
              "      <td>37.75</td>\n",
              "      <td>6.78</td>\n",
              "      <td>0.08</td>\n",
              "      <td>0.34</td>\n",
              "      <td>0.02</td>\n",
              "    </tr>\n",
              "    <tr>\n",
              "      <th>1</th>\n",
              "      <td>2.32</td>\n",
              "      <td>21.16</td>\n",
              "      <td>0.01</td>\n",
              "      <td>3.31</td>\n",
              "      <td>0.002</td>\n",
              "      <td>5.28</td>\n",
              "      <td>0.68</td>\n",
              "      <td>0.66</td>\n",
              "      <td>0.90</td>\n",
              "      <td>0.65</td>\n",
              "      <td>0.650</td>\n",
              "      <td>0.100</td>\n",
              "      <td>2.01</td>\n",
              "      <td>1.93</td>\n",
              "      <td>0.003</td>\n",
              "      <td>32.26</td>\n",
              "      <td>3.21</td>\n",
              "      <td>0.08</td>\n",
              "      <td>0.27</td>\n",
              "      <td>0.05</td>\n",
              "    </tr>\n",
              "    <tr>\n",
              "      <th>2</th>\n",
              "      <td>1.01</td>\n",
              "      <td>14.02</td>\n",
              "      <td>0.04</td>\n",
              "      <td>0.58</td>\n",
              "      <td>0.008</td>\n",
              "      <td>4.24</td>\n",
              "      <td>0.53</td>\n",
              "      <td>0.02</td>\n",
              "      <td>0.99</td>\n",
              "      <td>0.05</td>\n",
              "      <td>0.003</td>\n",
              "      <td>0.078</td>\n",
              "      <td>14.16</td>\n",
              "      <td>1.11</td>\n",
              "      <td>0.006</td>\n",
              "      <td>50.28</td>\n",
              "      <td>7.07</td>\n",
              "      <td>0.07</td>\n",
              "      <td>0.44</td>\n",
              "      <td>0.01</td>\n",
              "    </tr>\n",
              "    <tr>\n",
              "      <th>3</th>\n",
              "      <td>1.36</td>\n",
              "      <td>11.33</td>\n",
              "      <td>0.04</td>\n",
              "      <td>2.96</td>\n",
              "      <td>0.001</td>\n",
              "      <td>7.23</td>\n",
              "      <td>0.03</td>\n",
              "      <td>1.66</td>\n",
              "      <td>1.08</td>\n",
              "      <td>0.71</td>\n",
              "      <td>0.710</td>\n",
              "      <td>0.016</td>\n",
              "      <td>1.41</td>\n",
              "      <td>1.29</td>\n",
              "      <td>0.004</td>\n",
              "      <td>9.12</td>\n",
              "      <td>1.72</td>\n",
              "      <td>0.02</td>\n",
              "      <td>0.45</td>\n",
              "      <td>0.05</td>\n",
              "    </tr>\n",
              "    <tr>\n",
              "      <th>4</th>\n",
              "      <td>0.92</td>\n",
              "      <td>24.33</td>\n",
              "      <td>0.03</td>\n",
              "      <td>0.20</td>\n",
              "      <td>0.006</td>\n",
              "      <td>2.67</td>\n",
              "      <td>0.69</td>\n",
              "      <td>0.57</td>\n",
              "      <td>0.61</td>\n",
              "      <td>0.13</td>\n",
              "      <td>0.001</td>\n",
              "      <td>0.117</td>\n",
              "      <td>6.74</td>\n",
              "      <td>1.11</td>\n",
              "      <td>0.003</td>\n",
              "      <td>16.90</td>\n",
              "      <td>2.41</td>\n",
              "      <td>0.02</td>\n",
              "      <td>0.06</td>\n",
              "      <td>0.02</td>\n",
              "    </tr>\n",
              "  </tbody>\n",
              "</table>\n",
              "</div>"
            ],
            "text/plain": [
              "   aluminium  ammonia  arsenic  barium  cadmium  chloramine  chromium  copper  \\\n",
              "0       1.65     9.08     0.04    2.85    0.007        0.35      0.83    0.17   \n",
              "1       2.32    21.16     0.01    3.31    0.002        5.28      0.68    0.66   \n",
              "2       1.01    14.02     0.04    0.58    0.008        4.24      0.53    0.02   \n",
              "3       1.36    11.33     0.04    2.96    0.001        7.23      0.03    1.66   \n",
              "4       0.92    24.33     0.03    0.20    0.006        2.67      0.69    0.57   \n",
              "\n",
              "   flouride  bacteria  viruses   lead  nitrates  nitrites  mercury  \\\n",
              "0      0.05      0.20    0.000  0.054     16.08      1.13    0.007   \n",
              "1      0.90      0.65    0.650  0.100      2.01      1.93    0.003   \n",
              "2      0.99      0.05    0.003  0.078     14.16      1.11    0.006   \n",
              "3      1.08      0.71    0.710  0.016      1.41      1.29    0.004   \n",
              "4      0.61      0.13    0.001  0.117      6.74      1.11    0.003   \n",
              "\n",
              "   perchlorate  radium  selenium  silver  uranium  \n",
              "0        37.75    6.78      0.08    0.34     0.02  \n",
              "1        32.26    3.21      0.08    0.27     0.05  \n",
              "2        50.28    7.07      0.07    0.44     0.01  \n",
              "3         9.12    1.72      0.02    0.45     0.05  \n",
              "4        16.90    2.41      0.02    0.06     0.02  "
            ]
          },
          "execution_count": 5,
          "metadata": {},
          "output_type": "execute_result"
        }
      ],
      "source": [
        "data = dataset.iloc[:, :-1]\n",
        "data.head()"
      ]
    },
    {
      "cell_type": "code",
      "execution_count": null,
      "id": "d50f7bee",
      "metadata": {
        "id": "d50f7bee",
        "outputId": "2b59385a-ec8e-4e59-e119-6503f2e3ed71"
      },
      "outputs": [
        {
          "data": {
            "text/html": [
              "<div>\n",
              "<style scoped>\n",
              "    .dataframe tbody tr th:only-of-type {\n",
              "        vertical-align: middle;\n",
              "    }\n",
              "\n",
              "    .dataframe tbody tr th {\n",
              "        vertical-align: top;\n",
              "    }\n",
              "\n",
              "    .dataframe thead th {\n",
              "        text-align: right;\n",
              "    }\n",
              "</style>\n",
              "<table border=\"1\" class=\"dataframe\">\n",
              "  <thead>\n",
              "    <tr style=\"text-align: right;\">\n",
              "      <th></th>\n",
              "      <th>aluminium</th>\n",
              "      <th>ammonia</th>\n",
              "      <th>arsenic</th>\n",
              "      <th>barium</th>\n",
              "      <th>cadmium</th>\n",
              "      <th>chloramine</th>\n",
              "      <th>chromium</th>\n",
              "      <th>copper</th>\n",
              "      <th>flouride</th>\n",
              "      <th>bacteria</th>\n",
              "      <th>viruses</th>\n",
              "      <th>lead</th>\n",
              "      <th>nitrates</th>\n",
              "      <th>nitrites</th>\n",
              "      <th>mercury</th>\n",
              "      <th>perchlorate</th>\n",
              "      <th>radium</th>\n",
              "      <th>selenium</th>\n",
              "      <th>silver</th>\n",
              "      <th>uranium</th>\n",
              "    </tr>\n",
              "  </thead>\n",
              "  <tbody>\n",
              "    <tr>\n",
              "      <th>count</th>\n",
              "      <td>7996.000000</td>\n",
              "      <td>7996.000000</td>\n",
              "      <td>7996.000000</td>\n",
              "      <td>7996.000000</td>\n",
              "      <td>7996.000000</td>\n",
              "      <td>7996.000000</td>\n",
              "      <td>7996.000000</td>\n",
              "      <td>7996.000000</td>\n",
              "      <td>7996.000000</td>\n",
              "      <td>7996.000000</td>\n",
              "      <td>7996.000000</td>\n",
              "      <td>7996.000000</td>\n",
              "      <td>7996.000000</td>\n",
              "      <td>7996.000000</td>\n",
              "      <td>7996.000000</td>\n",
              "      <td>7996.000000</td>\n",
              "      <td>7996.000000</td>\n",
              "      <td>7996.000000</td>\n",
              "      <td>7996.000000</td>\n",
              "      <td>7996.000000</td>\n",
              "    </tr>\n",
              "    <tr>\n",
              "      <th>mean</th>\n",
              "      <td>0.666396</td>\n",
              "      <td>14.278212</td>\n",
              "      <td>0.161477</td>\n",
              "      <td>1.567928</td>\n",
              "      <td>0.042803</td>\n",
              "      <td>2.177589</td>\n",
              "      <td>0.247300</td>\n",
              "      <td>0.805940</td>\n",
              "      <td>0.771646</td>\n",
              "      <td>0.319714</td>\n",
              "      <td>0.328706</td>\n",
              "      <td>0.099431</td>\n",
              "      <td>9.819250</td>\n",
              "      <td>1.329846</td>\n",
              "      <td>0.005193</td>\n",
              "      <td>16.465266</td>\n",
              "      <td>2.920106</td>\n",
              "      <td>0.049684</td>\n",
              "      <td>0.147811</td>\n",
              "      <td>0.044672</td>\n",
              "    </tr>\n",
              "    <tr>\n",
              "      <th>std</th>\n",
              "      <td>1.265323</td>\n",
              "      <td>8.878930</td>\n",
              "      <td>0.252632</td>\n",
              "      <td>1.216227</td>\n",
              "      <td>0.036049</td>\n",
              "      <td>2.567210</td>\n",
              "      <td>0.270663</td>\n",
              "      <td>0.653595</td>\n",
              "      <td>0.435423</td>\n",
              "      <td>0.329497</td>\n",
              "      <td>0.378113</td>\n",
              "      <td>0.058169</td>\n",
              "      <td>5.541977</td>\n",
              "      <td>0.573271</td>\n",
              "      <td>0.002967</td>\n",
              "      <td>17.688827</td>\n",
              "      <td>2.322805</td>\n",
              "      <td>0.028773</td>\n",
              "      <td>0.143569</td>\n",
              "      <td>0.026906</td>\n",
              "    </tr>\n",
              "    <tr>\n",
              "      <th>min</th>\n",
              "      <td>0.000000</td>\n",
              "      <td>-0.080000</td>\n",
              "      <td>0.000000</td>\n",
              "      <td>0.000000</td>\n",
              "      <td>0.000000</td>\n",
              "      <td>0.000000</td>\n",
              "      <td>0.000000</td>\n",
              "      <td>0.000000</td>\n",
              "      <td>0.000000</td>\n",
              "      <td>0.000000</td>\n",
              "      <td>0.000000</td>\n",
              "      <td>0.000000</td>\n",
              "      <td>0.000000</td>\n",
              "      <td>0.000000</td>\n",
              "      <td>0.000000</td>\n",
              "      <td>0.000000</td>\n",
              "      <td>0.000000</td>\n",
              "      <td>0.000000</td>\n",
              "      <td>0.000000</td>\n",
              "      <td>0.000000</td>\n",
              "    </tr>\n",
              "    <tr>\n",
              "      <th>25%</th>\n",
              "      <td>0.040000</td>\n",
              "      <td>6.577500</td>\n",
              "      <td>0.030000</td>\n",
              "      <td>0.560000</td>\n",
              "      <td>0.008000</td>\n",
              "      <td>0.100000</td>\n",
              "      <td>0.050000</td>\n",
              "      <td>0.090000</td>\n",
              "      <td>0.407500</td>\n",
              "      <td>0.000000</td>\n",
              "      <td>0.002000</td>\n",
              "      <td>0.048000</td>\n",
              "      <td>5.000000</td>\n",
              "      <td>1.000000</td>\n",
              "      <td>0.003000</td>\n",
              "      <td>2.170000</td>\n",
              "      <td>0.820000</td>\n",
              "      <td>0.020000</td>\n",
              "      <td>0.040000</td>\n",
              "      <td>0.020000</td>\n",
              "    </tr>\n",
              "    <tr>\n",
              "      <th>50%</th>\n",
              "      <td>0.070000</td>\n",
              "      <td>14.130000</td>\n",
              "      <td>0.050000</td>\n",
              "      <td>1.190000</td>\n",
              "      <td>0.040000</td>\n",
              "      <td>0.530000</td>\n",
              "      <td>0.090000</td>\n",
              "      <td>0.750000</td>\n",
              "      <td>0.770000</td>\n",
              "      <td>0.220000</td>\n",
              "      <td>0.008000</td>\n",
              "      <td>0.102000</td>\n",
              "      <td>9.930000</td>\n",
              "      <td>1.420000</td>\n",
              "      <td>0.005000</td>\n",
              "      <td>7.745000</td>\n",
              "      <td>2.410000</td>\n",
              "      <td>0.050000</td>\n",
              "      <td>0.080000</td>\n",
              "      <td>0.050000</td>\n",
              "    </tr>\n",
              "    <tr>\n",
              "      <th>75%</th>\n",
              "      <td>0.280000</td>\n",
              "      <td>22.132500</td>\n",
              "      <td>0.100000</td>\n",
              "      <td>2.482500</td>\n",
              "      <td>0.070000</td>\n",
              "      <td>4.240000</td>\n",
              "      <td>0.440000</td>\n",
              "      <td>1.390000</td>\n",
              "      <td>1.160000</td>\n",
              "      <td>0.610000</td>\n",
              "      <td>0.700000</td>\n",
              "      <td>0.151000</td>\n",
              "      <td>14.610000</td>\n",
              "      <td>1.760000</td>\n",
              "      <td>0.008000</td>\n",
              "      <td>29.487500</td>\n",
              "      <td>4.670000</td>\n",
              "      <td>0.070000</td>\n",
              "      <td>0.240000</td>\n",
              "      <td>0.070000</td>\n",
              "    </tr>\n",
              "    <tr>\n",
              "      <th>max</th>\n",
              "      <td>5.050000</td>\n",
              "      <td>29.840000</td>\n",
              "      <td>1.050000</td>\n",
              "      <td>4.940000</td>\n",
              "      <td>0.130000</td>\n",
              "      <td>8.680000</td>\n",
              "      <td>0.900000</td>\n",
              "      <td>2.000000</td>\n",
              "      <td>1.500000</td>\n",
              "      <td>1.000000</td>\n",
              "      <td>1.000000</td>\n",
              "      <td>0.200000</td>\n",
              "      <td>19.830000</td>\n",
              "      <td>2.930000</td>\n",
              "      <td>0.010000</td>\n",
              "      <td>60.010000</td>\n",
              "      <td>7.990000</td>\n",
              "      <td>0.100000</td>\n",
              "      <td>0.500000</td>\n",
              "      <td>0.090000</td>\n",
              "    </tr>\n",
              "  </tbody>\n",
              "</table>\n",
              "</div>"
            ],
            "text/plain": [
              "         aluminium      ammonia      arsenic       barium      cadmium  \\\n",
              "count  7996.000000  7996.000000  7996.000000  7996.000000  7996.000000   \n",
              "mean      0.666396    14.278212     0.161477     1.567928     0.042803   \n",
              "std       1.265323     8.878930     0.252632     1.216227     0.036049   \n",
              "min       0.000000    -0.080000     0.000000     0.000000     0.000000   \n",
              "25%       0.040000     6.577500     0.030000     0.560000     0.008000   \n",
              "50%       0.070000    14.130000     0.050000     1.190000     0.040000   \n",
              "75%       0.280000    22.132500     0.100000     2.482500     0.070000   \n",
              "max       5.050000    29.840000     1.050000     4.940000     0.130000   \n",
              "\n",
              "        chloramine     chromium       copper     flouride     bacteria  \\\n",
              "count  7996.000000  7996.000000  7996.000000  7996.000000  7996.000000   \n",
              "mean      2.177589     0.247300     0.805940     0.771646     0.319714   \n",
              "std       2.567210     0.270663     0.653595     0.435423     0.329497   \n",
              "min       0.000000     0.000000     0.000000     0.000000     0.000000   \n",
              "25%       0.100000     0.050000     0.090000     0.407500     0.000000   \n",
              "50%       0.530000     0.090000     0.750000     0.770000     0.220000   \n",
              "75%       4.240000     0.440000     1.390000     1.160000     0.610000   \n",
              "max       8.680000     0.900000     2.000000     1.500000     1.000000   \n",
              "\n",
              "           viruses         lead     nitrates     nitrites      mercury  \\\n",
              "count  7996.000000  7996.000000  7996.000000  7996.000000  7996.000000   \n",
              "mean      0.328706     0.099431     9.819250     1.329846     0.005193   \n",
              "std       0.378113     0.058169     5.541977     0.573271     0.002967   \n",
              "min       0.000000     0.000000     0.000000     0.000000     0.000000   \n",
              "25%       0.002000     0.048000     5.000000     1.000000     0.003000   \n",
              "50%       0.008000     0.102000     9.930000     1.420000     0.005000   \n",
              "75%       0.700000     0.151000    14.610000     1.760000     0.008000   \n",
              "max       1.000000     0.200000    19.830000     2.930000     0.010000   \n",
              "\n",
              "       perchlorate       radium     selenium       silver      uranium  \n",
              "count  7996.000000  7996.000000  7996.000000  7996.000000  7996.000000  \n",
              "mean     16.465266     2.920106     0.049684     0.147811     0.044672  \n",
              "std      17.688827     2.322805     0.028773     0.143569     0.026906  \n",
              "min       0.000000     0.000000     0.000000     0.000000     0.000000  \n",
              "25%       2.170000     0.820000     0.020000     0.040000     0.020000  \n",
              "50%       7.745000     2.410000     0.050000     0.080000     0.050000  \n",
              "75%      29.487500     4.670000     0.070000     0.240000     0.070000  \n",
              "max      60.010000     7.990000     0.100000     0.500000     0.090000  "
            ]
          },
          "execution_count": 6,
          "metadata": {},
          "output_type": "execute_result"
        }
      ],
      "source": [
        "data.describe()"
      ]
    },
    {
      "cell_type": "code",
      "execution_count": null,
      "id": "aa4bfaa8",
      "metadata": {
        "id": "aa4bfaa8",
        "outputId": "6051e038-629c-4b0d-fa26-1c816b517a8f"
      },
      "outputs": [
        {
          "data": {
            "text/plain": [
              "<AxesSubplot:>"
            ]
          },
          "execution_count": 7,
          "metadata": {},
          "output_type": "execute_result"
        },
        {
          "data": {
            "image/png": "[encoded data removed]",
            "text/plain": [
              "<Figure size 1152x504 with 1 Axes>"
            ]
          },
          "metadata": {
            "needs_background": "light"
          },
          "output_type": "display_data"
        }
      ],
      "source": [
        "# boxplot to show the distribution various chemical components\n",
        "fig = plt.figure(figsize = (16,7))\n",
        "data.boxplot()"
      ]
    },
    {
      "cell_type": "code",
      "execution_count": null,
      "id": "802325d3",
      "metadata": {
        "id": "802325d3"
      },
      "outputs": [],
      "source": [
        "X = dataset.iloc[:, :-1].values"
      ]
    },
    {
      "cell_type": "code",
      "execution_count": null,
      "id": "3ff0af5d",
      "metadata": {
        "id": "3ff0af5d"
      },
      "outputs": [],
      "source": [
        "# Feature scaling\n",
        "from sklearn.preprocessing import StandardScaler\n",
        "sc = StandardScaler()\n",
        "X_scaled = sc.fit_transform(X)"
      ]
    },
    {
      "cell_type": "markdown",
      "id": "239fe48b",
      "metadata": {
        "id": "239fe48b"
      },
      "source": [
        "### Principal Component Analysis"
      ]
    },
    {
      "cell_type": "code",
      "execution_count": null,
      "id": "69b33860",
      "metadata": {
        "id": "69b33860"
      },
      "outputs": [],
      "source": [
        "from sklearn.decomposition import PCA\n",
        "pca = PCA(n_components = X.shape[1])\n",
        "X_pca = pca.fit_transform(X_scaled)"
      ]
    },
    {
      "cell_type": "code",
      "execution_count": null,
      "id": "59527fb4",
      "metadata": {
        "id": "59527fb4",
        "outputId": "2f03aa0d-caaa-4335-baee-1763e056a69a"
      },
      "outputs": [
        {
          "data": {
            "image/png": "[encoded data removed]",
            "text/plain": [
              "<Figure size 1152x504 with 1 Axes>"
            ]
          },
          "metadata": {
            "needs_background": "light"
          },
          "output_type": "display_data"
        }
      ],
      "source": [
        "# plot for showing the variance of the principal components\n",
        "PCA_values = np.arange(pca.n_components_) + 1\n",
        "figure = plt.figure(figsize = (16,7))\n",
        "plt.plot(PCA_values, pca.explained_variance_ratio_, 'ro-', linewidth = 2)\n",
        "plt.title('Scree Plot')\n",
        "plt.xlabel('Principal Components')\n",
        "plt.ylabel('Proportion of variance')\n",
        "plt.ylim(0, pca.explained_variance_ratio_[0])\n",
        "plt.show()"
      ]
    },
    {
      "cell_type": "code",
      "execution_count": null,
      "id": "d90c91a1",
      "metadata": {
        "id": "d90c91a1"
      },
      "outputs": [],
      "source": []
    }
  ],
  "metadata": {
    "kernelspec": {
      "display_name": "Python 3 (ipykernel)",
      "language": "python",
      "name": "python3"
    },
    "language_info": {
      "codemirror_mode": {
        "name": "ipython",
        "version": 3
      },
      "file_extension": ".py",
      "mimetype": "text/x-python",
      "name": "python",
      "nbconvert_exporter": "python",
      "pygments_lexer": "ipython3",
      "version": "3.9.12"
    },
    "colab": {
      "name": "PCA Project.ipynb",
      "provenance": [],
      "include_colab_link": true
    }
  },
  "nbformat": 4,
  "nbformat_minor": 5
}