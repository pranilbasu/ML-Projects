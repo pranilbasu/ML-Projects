{
  "cells": [
    {
      "cell_type": "markdown",
      "metadata": {
        "id": "view-in-github",
        "colab_type": "text"
      },
      "source": [
        "<a href=\"https://colab.research.google.com/github/pranilbasu/ML-Projects/blob/main/DL_Project_on_Decision_of_Bank_Customer.ipynb\" target=\"_parent\"><img src=\"https://colab.research.google.com/assets/colab-badge.svg\" alt=\"Open In Colab\"/></a>"
      ]
    },
    {
      "cell_type": "markdown",
      "id": "1bf3a3c6",
      "metadata": {
        "id": "1bf3a3c6"
      },
      "source": [
        "# Prediction of decision of Bank Customer"
      ]
    },
    {
      "cell_type": "code",
      "execution_count": null,
      "id": "5c3a01c3",
      "metadata": {
        "id": "5c3a01c3"
      },
      "outputs": [],
      "source": [
        "# import libraries\n",
        "import pandas as pd\n",
        "import numpy as np\n",
        "import tensorflow as tf"
      ]
    },
    {
      "cell_type": "code",
      "execution_count": null,
      "id": "b1d82bc1",
      "metadata": {
        "id": "b1d82bc1"
      },
      "outputs": [],
      "source": [
        "dataset = pd.read_csv('Churn_Modelling.csv') "
      ]
    },
    {
      "cell_type": "code",
      "execution_count": null,
      "id": "fb13dc5c",
      "metadata": {
        "id": "fb13dc5c",
        "outputId": "02867263-be70-4ec5-b24f-4233b5574d51"
      },
      "outputs": [
        {
          "data": {
            "text/html": [
              "<div>\n",
              "<style scoped>\n",
              "    .dataframe tbody tr th:only-of-type {\n",
              "        vertical-align: middle;\n",
              "    }\n",
              "\n",
              "    .dataframe tbody tr th {\n",
              "        vertical-align: top;\n",
              "    }\n",
              "\n",
              "    .dataframe thead th {\n",
              "        text-align: right;\n",
              "    }\n",
              "</style>\n",
              "<table border=\"1\" class=\"dataframe\">\n",
              "  <thead>\n",
              "    <tr style=\"text-align: right;\">\n",
              "      <th></th>\n",
              "      <th>RowNumber</th>\n",
              "      <th>CustomerId</th>\n",
              "      <th>Surname</th>\n",
              "      <th>CreditScore</th>\n",
              "      <th>Geography</th>\n",
              "      <th>Gender</th>\n",
              "      <th>Age</th>\n",
              "      <th>Tenure</th>\n",
              "      <th>Balance</th>\n",
              "      <th>NumOfProducts</th>\n",
              "      <th>HasCrCard</th>\n",
              "      <th>IsActiveMember</th>\n",
              "      <th>EstimatedSalary</th>\n",
              "      <th>Exited</th>\n",
              "    </tr>\n",
              "  </thead>\n",
              "  <tbody>\n",
              "    <tr>\n",
              "      <th>0</th>\n",
              "      <td>1</td>\n",
              "      <td>15634602</td>\n",
              "      <td>Hargrave</td>\n",
              "      <td>619</td>\n",
              "      <td>France</td>\n",
              "      <td>Female</td>\n",
              "      <td>42</td>\n",
              "      <td>2</td>\n",
              "      <td>0.00</td>\n",
              "      <td>1</td>\n",
              "      <td>1</td>\n",
              "      <td>1</td>\n",
              "      <td>101348.88</td>\n",
              "      <td>1</td>\n",
              "    </tr>\n",
              "    <tr>\n",
              "      <th>1</th>\n",
              "      <td>2</td>\n",
              "      <td>15647311</td>\n",
              "      <td>Hill</td>\n",
              "      <td>608</td>\n",
              "      <td>Spain</td>\n",
              "      <td>Female</td>\n",
              "      <td>41</td>\n",
              "      <td>1</td>\n",
              "      <td>83807.86</td>\n",
              "      <td>1</td>\n",
              "      <td>0</td>\n",
              "      <td>1</td>\n",
              "      <td>112542.58</td>\n",
              "      <td>0</td>\n",
              "    </tr>\n",
              "    <tr>\n",
              "      <th>2</th>\n",
              "      <td>3</td>\n",
              "      <td>15619304</td>\n",
              "      <td>Onio</td>\n",
              "      <td>502</td>\n",
              "      <td>France</td>\n",
              "      <td>Female</td>\n",
              "      <td>42</td>\n",
              "      <td>8</td>\n",
              "      <td>159660.80</td>\n",
              "      <td>3</td>\n",
              "      <td>1</td>\n",
              "      <td>0</td>\n",
              "      <td>113931.57</td>\n",
              "      <td>1</td>\n",
              "    </tr>\n",
              "    <tr>\n",
              "      <th>3</th>\n",
              "      <td>4</td>\n",
              "      <td>15701354</td>\n",
              "      <td>Boni</td>\n",
              "      <td>699</td>\n",
              "      <td>France</td>\n",
              "      <td>Female</td>\n",
              "      <td>39</td>\n",
              "      <td>1</td>\n",
              "      <td>0.00</td>\n",
              "      <td>2</td>\n",
              "      <td>0</td>\n",
              "      <td>0</td>\n",
              "      <td>93826.63</td>\n",
              "      <td>0</td>\n",
              "    </tr>\n",
              "    <tr>\n",
              "      <th>4</th>\n",
              "      <td>5</td>\n",
              "      <td>15737888</td>\n",
              "      <td>Mitchell</td>\n",
              "      <td>850</td>\n",
              "      <td>Spain</td>\n",
              "      <td>Female</td>\n",
              "      <td>43</td>\n",
              "      <td>2</td>\n",
              "      <td>125510.82</td>\n",
              "      <td>1</td>\n",
              "      <td>1</td>\n",
              "      <td>1</td>\n",
              "      <td>79084.10</td>\n",
              "      <td>0</td>\n",
              "    </tr>\n",
              "  </tbody>\n",
              "</table>\n",
              "</div>"
            ],
            "text/plain": [
              "   RowNumber  CustomerId   Surname  CreditScore Geography  Gender  Age  \\\n",
              "0          1    15634602  Hargrave          619    France  Female   42   \n",
              "1          2    15647311      Hill          608     Spain  Female   41   \n",
              "2          3    15619304      Onio          502    France  Female   42   \n",
              "3          4    15701354      Boni          699    France  Female   39   \n",
              "4          5    15737888  Mitchell          850     Spain  Female   43   \n",
              "\n",
              "   Tenure    Balance  NumOfProducts  HasCrCard  IsActiveMember  \\\n",
              "0       2       0.00              1          1               1   \n",
              "1       1   83807.86              1          0               1   \n",
              "2       8  159660.80              3          1               0   \n",
              "3       1       0.00              2          0               0   \n",
              "4       2  125510.82              1          1               1   \n",
              "\n",
              "   EstimatedSalary  Exited  \n",
              "0        101348.88       1  \n",
              "1        112542.58       0  \n",
              "2        113931.57       1  \n",
              "3         93826.63       0  \n",
              "4         79084.10       0  "
            ]
          },
          "execution_count": 3,
          "metadata": {},
          "output_type": "execute_result"
        }
      ],
      "source": [
        "dataset.head()"
      ]
    },
    {
      "cell_type": "markdown",
      "id": "7307ccfe",
      "metadata": {
        "id": "7307ccfe"
      },
      "source": [
        "##### We shall predict whether any bank customer will exit the bank in future "
      ]
    },
    {
      "cell_type": "code",
      "execution_count": null,
      "id": "f6e2a0c0",
      "metadata": {
        "id": "f6e2a0c0"
      },
      "outputs": [],
      "source": [
        "X = dataset.iloc[:,3 :-1].values  # matrix of features (Customer ID, Surname have been excluded)\n",
        "Y = dataset.iloc[:,-1].values     # dependent variables"
      ]
    },
    {
      "cell_type": "code",
      "execution_count": null,
      "id": "0b700f6b",
      "metadata": {
        "id": "0b700f6b"
      },
      "outputs": [],
      "source": [
        "# Encoding Gender feature\n",
        "from sklearn.preprocessing import LabelEncoder\n",
        "le = LabelEncoder()\n",
        "X[:,2] = le.fit_transform(X[:,2])"
      ]
    },
    {
      "cell_type": "code",
      "execution_count": null,
      "id": "66965ec8",
      "metadata": {
        "id": "66965ec8"
      },
      "outputs": [],
      "source": [
        "# Encoding Geography feature\n",
        "from sklearn.compose import ColumnTransformer\n",
        "from sklearn.preprocessing import OneHotEncoder\n",
        "ct = ColumnTransformer(transformers=[('encoder', OneHotEncoder(), [1])], remainder='passthrough')\n",
        "X = np.array(ct.fit_transform(X))"
      ]
    },
    {
      "cell_type": "code",
      "execution_count": null,
      "id": "19d30290",
      "metadata": {
        "id": "19d30290",
        "outputId": "8e31e5f9-dc05-4135-8388-e2863a5d6160"
      },
      "outputs": [
        {
          "name": "stdout",
          "output_type": "stream",
          "text": [
            "[[1.0 0.0 0.0 ... 1 1 101348.88]\n",
            " [0.0 0.0 1.0 ... 0 1 112542.58]\n",
            " [1.0 0.0 0.0 ... 1 0 113931.57]\n",
            " ...\n",
            " [1.0 0.0 0.0 ... 0 1 42085.58]\n",
            " [0.0 1.0 0.0 ... 1 0 92888.52]\n",
            " [1.0 0.0 0.0 ... 1 0 38190.78]]\n"
          ]
        }
      ],
      "source": [
        "print(X)"
      ]
    },
    {
      "cell_type": "code",
      "execution_count": null,
      "id": "ab3afa4e",
      "metadata": {
        "id": "ab3afa4e"
      },
      "outputs": [],
      "source": [
        "from sklearn.model_selection import train_test_split\n",
        "X_train, X_test, Y_train, Y_test = train_test_split(X, Y, test_size = 0.2, random_state = 0)"
      ]
    },
    {
      "cell_type": "code",
      "execution_count": null,
      "id": "65784efc",
      "metadata": {
        "id": "65784efc"
      },
      "outputs": [],
      "source": [
        "# feature scaling\n",
        "from sklearn.preprocessing import StandardScaler\n",
        "sc = StandardScaler()\n",
        "X_train = sc.fit_transform(X_train)\n",
        "X_test = sc.transform(X_test)"
      ]
    },
    {
      "cell_type": "markdown",
      "id": "3b8e7986",
      "metadata": {
        "id": "3b8e7986"
      },
      "source": [
        "### Building the ANN "
      ]
    },
    {
      "cell_type": "code",
      "execution_count": null,
      "id": "3f36a41a",
      "metadata": {
        "id": "3f36a41a"
      },
      "outputs": [],
      "source": [
        "ann = tf.keras.models.Sequential()  # intitializing ANN"
      ]
    },
    {
      "cell_type": "code",
      "execution_count": null,
      "id": "b169ce58",
      "metadata": {
        "id": "b169ce58"
      },
      "outputs": [],
      "source": [
        "ann.add(tf.keras.layers.Dense(units = 6, activation = 'relu')) # Adding the input layer and first hidden layer"
      ]
    },
    {
      "cell_type": "code",
      "execution_count": null,
      "id": "c577868d",
      "metadata": {
        "id": "c577868d"
      },
      "outputs": [],
      "source": [
        "ann.add(tf.keras.layers.Dense(units = 6, activation = 'relu')) # Adding the second hidden layer"
      ]
    },
    {
      "cell_type": "code",
      "execution_count": null,
      "id": "374cd45c",
      "metadata": {
        "id": "374cd45c"
      },
      "outputs": [],
      "source": [
        "ann.add(tf.keras.layers.Dense(units = 1, activation = 'sigmoid'))  #Adding the output layer"
      ]
    },
    {
      "cell_type": "code",
      "execution_count": null,
      "id": "fa5543a8",
      "metadata": {
        "id": "fa5543a8"
      },
      "outputs": [],
      "source": [
        "ann.compile(optimizer = 'adam', loss = 'binary_crossentropy', metrics = ['accuracy']) # Compiling the ANN"
      ]
    },
    {
      "cell_type": "markdown",
      "id": "6beea95d",
      "metadata": {
        "id": "6beea95d"
      },
      "source": [
        "#### Training the ANN"
      ]
    },
    {
      "cell_type": "code",
      "execution_count": null,
      "id": "fba041af",
      "metadata": {
        "id": "fba041af",
        "outputId": "4c275827-c365-4c85-a567-79e31067c2c3"
      },
      "outputs": [
        {
          "name": "stdout",
          "output_type": "stream",
          "text": [
            "Epoch 1/100\n",
            "250/250 [==============================] - 0s 510us/step - loss: 0.6457 - accuracy: 0.6607\n",
            "Epoch 2/100\n",
            "250/250 [==============================] - 0s 473us/step - loss: 0.4944 - accuracy: 0.7993\n",
            "Epoch 3/100\n",
            "250/250 [==============================] - 0s 493us/step - loss: 0.4515 - accuracy: 0.8087\n",
            "Epoch 4/100\n",
            "250/250 [==============================] - 0s 529us/step - loss: 0.4373 - accuracy: 0.8111\n",
            "Epoch 5/100\n",
            "250/250 [==============================] - 0s 533us/step - loss: 0.4310 - accuracy: 0.8136\n",
            "Epoch 6/100\n",
            "250/250 [==============================] - 0s 553us/step - loss: 0.4266 - accuracy: 0.8160\n",
            "Epoch 7/100\n",
            "250/250 [==============================] - 0s 534us/step - loss: 0.4238 - accuracy: 0.8175\n",
            "Epoch 8/100\n",
            "250/250 [==============================] - 0s 510us/step - loss: 0.4213 - accuracy: 0.8196\n",
            "Epoch 9/100\n",
            "250/250 [==============================] - 0s 541us/step - loss: 0.4195 - accuracy: 0.8211\n",
            "Epoch 10/100\n",
            "250/250 [==============================] - 0s 511us/step - loss: 0.4176 - accuracy: 0.8249\n",
            "Epoch 11/100\n",
            "250/250 [==============================] - 0s 534us/step - loss: 0.4153 - accuracy: 0.8260\n",
            "Epoch 12/100\n",
            "250/250 [==============================] - 0s 531us/step - loss: 0.4127 - accuracy: 0.8285\n",
            "Epoch 13/100\n",
            "250/250 [==============================] - 0s 514us/step - loss: 0.4100 - accuracy: 0.8269\n",
            "Epoch 14/100\n",
            "250/250 [==============================] - 0s 527us/step - loss: 0.4060 - accuracy: 0.8316\n",
            "Epoch 15/100\n",
            "250/250 [==============================] - 0s 544us/step - loss: 0.3995 - accuracy: 0.8342\n",
            "Epoch 16/100\n",
            "250/250 [==============================] - 0s 511us/step - loss: 0.3899 - accuracy: 0.8401\n",
            "Epoch 17/100\n",
            "250/250 [==============================] - 0s 552us/step - loss: 0.3794 - accuracy: 0.8439\n",
            "Epoch 18/100\n",
            "250/250 [==============================] - 0s 523us/step - loss: 0.3698 - accuracy: 0.8506\n",
            "Epoch 19/100\n",
            "250/250 [==============================] - 0s 557us/step - loss: 0.3629 - accuracy: 0.8511\n",
            "Epoch 20/100\n",
            "250/250 [==============================] - 0s 525us/step - loss: 0.3580 - accuracy: 0.8511\n",
            "Epoch 21/100\n",
            "250/250 [==============================] - 0s 536us/step - loss: 0.3546 - accuracy: 0.8533\n",
            "Epoch 22/100\n",
            "250/250 [==============================] - 0s 545us/step - loss: 0.3515 - accuracy: 0.8540\n",
            "Epoch 23/100\n",
            "250/250 [==============================] - 0s 549us/step - loss: 0.3500 - accuracy: 0.8555\n",
            "Epoch 24/100\n",
            "250/250 [==============================] - 0s 566us/step - loss: 0.3481 - accuracy: 0.8554\n",
            "Epoch 25/100\n",
            "250/250 [==============================] - 0s 526us/step - loss: 0.3465 - accuracy: 0.8551\n",
            "Epoch 26/100\n",
            "250/250 [==============================] - 0s 541us/step - loss: 0.3458 - accuracy: 0.8562\n",
            "Epoch 27/100\n",
            "250/250 [==============================] - 0s 544us/step - loss: 0.3444 - accuracy: 0.8564\n",
            "Epoch 28/100\n",
            "250/250 [==============================] - 0s 556us/step - loss: 0.3436 - accuracy: 0.8583\n",
            "Epoch 29/100\n",
            "250/250 [==============================] - 0s 525us/step - loss: 0.3430 - accuracy: 0.8572\n",
            "Epoch 30/100\n",
            "250/250 [==============================] - 0s 569us/step - loss: 0.3424 - accuracy: 0.8580\n",
            "Epoch 31/100\n",
            "250/250 [==============================] - 0s 550us/step - loss: 0.3415 - accuracy: 0.8571\n",
            "Epoch 32/100\n",
            "250/250 [==============================] - 0s 539us/step - loss: 0.3405 - accuracy: 0.8586\n",
            "Epoch 33/100\n",
            "250/250 [==============================] - 0s 588us/step - loss: 0.3403 - accuracy: 0.8596\n",
            "Epoch 34/100\n",
            "250/250 [==============================] - 0s 518us/step - loss: 0.3399 - accuracy: 0.8595\n",
            "Epoch 35/100\n",
            "250/250 [==============================] - 0s 541us/step - loss: 0.3396 - accuracy: 0.8605\n",
            "Epoch 36/100\n",
            "250/250 [==============================] - 0s 596us/step - loss: 0.3391 - accuracy: 0.8602\n",
            "Epoch 37/100\n",
            "250/250 [==============================] - 0s 526us/step - loss: 0.3387 - accuracy: 0.8615\n",
            "Epoch 38/100\n",
            "250/250 [==============================] - 0s 534us/step - loss: 0.3385 - accuracy: 0.8604\n",
            "Epoch 39/100\n",
            "250/250 [==============================] - 0s 550us/step - loss: 0.3380 - accuracy: 0.8596\n",
            "Epoch 40/100\n",
            "250/250 [==============================] - 0s 542us/step - loss: 0.3376 - accuracy: 0.8604\n",
            "Epoch 41/100\n",
            "250/250 [==============================] - 0s 549us/step - loss: 0.3375 - accuracy: 0.8610\n",
            "Epoch 42/100\n",
            "250/250 [==============================] - 0s 543us/step - loss: 0.3373 - accuracy: 0.8627\n",
            "Epoch 43/100\n",
            "250/250 [==============================] - 0s 538us/step - loss: 0.3375 - accuracy: 0.8614\n",
            "Epoch 44/100\n",
            "250/250 [==============================] - 0s 530us/step - loss: 0.3370 - accuracy: 0.8608\n",
            "Epoch 45/100\n",
            "250/250 [==============================] - 0s 538us/step - loss: 0.3367 - accuracy: 0.8615\n",
            "Epoch 46/100\n",
            "250/250 [==============================] - 0s 554us/step - loss: 0.3370 - accuracy: 0.8627\n",
            "Epoch 47/100\n",
            "250/250 [==============================] - 0s 523us/step - loss: 0.3367 - accuracy: 0.8608\n",
            "Epoch 48/100\n",
            "250/250 [==============================] - 0s 597us/step - loss: 0.3360 - accuracy: 0.8622\n",
            "Epoch 49/100\n",
            "250/250 [==============================] - 0s 516us/step - loss: 0.3365 - accuracy: 0.8630\n",
            "Epoch 50/100\n",
            "250/250 [==============================] - 0s 538us/step - loss: 0.3363 - accuracy: 0.8605\n",
            "Epoch 51/100\n",
            "250/250 [==============================] - 0s 541us/step - loss: 0.3362 - accuracy: 0.8610\n",
            "Epoch 52/100\n",
            "250/250 [==============================] - 0s 555us/step - loss: 0.3358 - accuracy: 0.8618\n",
            "Epoch 53/100\n",
            "250/250 [==============================] - 0s 552us/step - loss: 0.3358 - accuracy: 0.8630\n",
            "Epoch 54/100\n",
            "250/250 [==============================] - 0s 556us/step - loss: 0.3362 - accuracy: 0.8625\n",
            "Epoch 55/100\n",
            "250/250 [==============================] - 0s 528us/step - loss: 0.3353 - accuracy: 0.8620\n",
            "Epoch 56/100\n",
            "250/250 [==============================] - 0s 538us/step - loss: 0.3355 - accuracy: 0.8616\n",
            "Epoch 57/100\n",
            "250/250 [==============================] - 0s 528us/step - loss: 0.3355 - accuracy: 0.8615\n",
            "Epoch 58/100\n",
            "250/250 [==============================] - 0s 503us/step - loss: 0.3352 - accuracy: 0.8643\n",
            "Epoch 59/100\n",
            "250/250 [==============================] - 0s 516us/step - loss: 0.3352 - accuracy: 0.8621\n",
            "Epoch 60/100\n",
            "250/250 [==============================] - 0s 532us/step - loss: 0.3349 - accuracy: 0.8621\n",
            "Epoch 61/100\n",
            "250/250 [==============================] - 0s 534us/step - loss: 0.3351 - accuracy: 0.8636\n",
            "Epoch 62/100\n",
            "250/250 [==============================] - 0s 533us/step - loss: 0.3350 - accuracy: 0.8616\n",
            "Epoch 63/100\n",
            "250/250 [==============================] - 0s 557us/step - loss: 0.3347 - accuracy: 0.8629\n",
            "Epoch 64/100\n",
            "250/250 [==============================] - 0s 534us/step - loss: 0.3348 - accuracy: 0.8629\n",
            "Epoch 65/100\n",
            "250/250 [==============================] - 0s 527us/step - loss: 0.3348 - accuracy: 0.8629\n",
            "Epoch 66/100\n",
            "250/250 [==============================] - 0s 568us/step - loss: 0.3346 - accuracy: 0.8615\n",
            "Epoch 67/100\n",
            "250/250 [==============================] - 0s 541us/step - loss: 0.3350 - accuracy: 0.8635\n",
            "Epoch 68/100\n",
            "250/250 [==============================] - 0s 519us/step - loss: 0.3349 - accuracy: 0.8615\n",
            "Epoch 69/100\n",
            "250/250 [==============================] - 0s 585us/step - loss: 0.3345 - accuracy: 0.8616\n",
            "Epoch 70/100\n",
            "250/250 [==============================] - 0s 511us/step - loss: 0.3341 - accuracy: 0.8622\n",
            "Epoch 71/100\n",
            "250/250 [==============================] - 0s 526us/step - loss: 0.3343 - accuracy: 0.8621\n",
            "Epoch 72/100\n",
            "250/250 [==============================] - 0s 527us/step - loss: 0.3342 - accuracy: 0.8629\n",
            "Epoch 73/100\n",
            "250/250 [==============================] - 0s 536us/step - loss: 0.3343 - accuracy: 0.8619\n",
            "Epoch 74/100\n",
            "250/250 [==============================] - 0s 533us/step - loss: 0.3348 - accuracy: 0.8629\n",
            "Epoch 75/100\n",
            "250/250 [==============================] - 0s 525us/step - loss: 0.3343 - accuracy: 0.8639\n",
            "Epoch 76/100\n",
            "250/250 [==============================] - 0s 533us/step - loss: 0.3341 - accuracy: 0.8620\n",
            "Epoch 77/100\n",
            "250/250 [==============================] - 0s 554us/step - loss: 0.3344 - accuracy: 0.8620\n",
            "Epoch 78/100\n",
            "250/250 [==============================] - 0s 565us/step - loss: 0.3345 - accuracy: 0.8620\n",
            "Epoch 79/100\n",
            "250/250 [==============================] - 0s 515us/step - loss: 0.3344 - accuracy: 0.8629\n",
            "Epoch 80/100\n",
            "250/250 [==============================] - 0s 521us/step - loss: 0.3340 - accuracy: 0.8616\n",
            "Epoch 81/100\n",
            "250/250 [==============================] - 0s 516us/step - loss: 0.3341 - accuracy: 0.8615\n",
            "Epoch 82/100\n",
            "250/250 [==============================] - 0s 519us/step - loss: 0.3341 - accuracy: 0.8621\n",
            "Epoch 83/100\n",
            "250/250 [==============================] - 0s 509us/step - loss: 0.3339 - accuracy: 0.8610\n",
            "Epoch 84/100\n",
            "250/250 [==============================] - 0s 524us/step - loss: 0.3339 - accuracy: 0.8637\n",
            "Epoch 85/100\n",
            "250/250 [==============================] - 0s 519us/step - loss: 0.3340 - accuracy: 0.8635\n",
            "Epoch 86/100\n",
            "250/250 [==============================] - 0s 523us/step - loss: 0.3334 - accuracy: 0.8629\n",
            "Epoch 87/100\n",
            "250/250 [==============================] - 0s 510us/step - loss: 0.3339 - accuracy: 0.8626\n",
            "Epoch 88/100\n",
            "250/250 [==============================] - 0s 507us/step - loss: 0.3336 - accuracy: 0.8629\n",
            "Epoch 89/100\n",
            "250/250 [==============================] - 0s 513us/step - loss: 0.3337 - accuracy: 0.8635\n",
            "Epoch 90/100\n",
            "250/250 [==============================] - 0s 539us/step - loss: 0.3334 - accuracy: 0.8631\n",
            "Epoch 91/100\n",
            "250/250 [==============================] - 0s 531us/step - loss: 0.3335 - accuracy: 0.8624\n",
            "Epoch 92/100\n",
            "250/250 [==============================] - 0s 526us/step - loss: 0.3334 - accuracy: 0.8624\n",
            "Epoch 93/100\n",
            "250/250 [==============================] - 0s 560us/step - loss: 0.3334 - accuracy: 0.8634\n",
            "Epoch 94/100\n",
            "250/250 [==============================] - 0s 508us/step - loss: 0.3334 - accuracy: 0.8629\n",
            "Epoch 95/100\n",
            "250/250 [==============================] - 0s 518us/step - loss: 0.3337 - accuracy: 0.8627\n",
            "Epoch 96/100\n",
            "250/250 [==============================] - 0s 515us/step - loss: 0.3330 - accuracy: 0.8620\n",
            "Epoch 97/100\n",
            "250/250 [==============================] - 0s 522us/step - loss: 0.3333 - accuracy: 0.8630\n",
            "Epoch 98/100\n",
            "250/250 [==============================] - 0s 517us/step - loss: 0.3325 - accuracy: 0.8637\n",
            "Epoch 99/100\n",
            "250/250 [==============================] - 0s 505us/step - loss: 0.3330 - accuracy: 0.8620\n",
            "Epoch 100/100\n",
            "250/250 [==============================] - 0s 532us/step - loss: 0.3330 - accuracy: 0.8619\n"
          ]
        },
        {
          "data": {
            "text/plain": [
              "<tensorflow.python.keras.callbacks.History at 0x1fe41969b48>"
            ]
          },
          "execution_count": 15,
          "metadata": {},
          "output_type": "execute_result"
        }
      ],
      "source": [
        "ann.fit(X_train, Y_train, batch_size = 32, epochs = 100)"
      ]
    },
    {
      "cell_type": "markdown",
      "id": "37d5d50e",
      "metadata": {
        "id": "37d5d50e"
      },
      "source": [
        "#### Prediction of a new result"
      ]
    },
    {
      "cell_type": "code",
      "execution_count": null,
      "id": "c69f0aa5",
      "metadata": {
        "id": "c69f0aa5",
        "outputId": "09eeca68-2fef-4094-dc1b-482257f1bd24"
      },
      "outputs": [
        {
          "name": "stdout",
          "output_type": "stream",
          "text": [
            "[[False]]\n"
          ]
        }
      ],
      "source": [
        "# Geography : Spain (001) | Credit Score: 600 | Gender: Female (0) | Age: 40 | Tenure:3(years) | Balance:50000 \n",
        "# Number of Products: 2 | Credict Card: No(0) | Active Member:Yes(1) | Salary : 60000\n",
        "\n",
        "# Will the customer exit the bank ?\n",
        "\n",
        "print(ann.predict(sc.transform([[0,0,1, 600, 0, 40, 3, 50000, 2, 0, 1, 60000]]))>0.45)  #if  the probability is greater than 0.45, result is True or else False "
      ]
    },
    {
      "cell_type": "code",
      "execution_count": null,
      "id": "ff9b2bef",
      "metadata": {
        "id": "ff9b2bef",
        "outputId": "ce08a3a5-bd26-47b2-9b87-6e6d7f3756aa"
      },
      "outputs": [
        {
          "name": "stdout",
          "output_type": "stream",
          "text": [
            "[[0 0]\n",
            " [0 1]\n",
            " [0 0]\n",
            " ...\n",
            " [0 0]\n",
            " [0 0]\n",
            " [0 0]]\n"
          ]
        }
      ],
      "source": [
        "#Predicting test set results\n",
        "Y_pred = ann.predict(X_test)   \n",
        "Y_pred = (Y_pred > 0.45)\n",
        "print(np.concatenate((Y_pred.reshape(len(Y_pred),1), Y_test.reshape(len(Y_test),1)),1))"
      ]
    },
    {
      "cell_type": "markdown",
      "id": "33e31db3",
      "metadata": {
        "id": "33e31db3"
      },
      "source": [
        "#### Testing the ANN model"
      ]
    },
    {
      "cell_type": "code",
      "execution_count": null,
      "id": "aced567d",
      "metadata": {
        "id": "aced567d",
        "outputId": "4a42488a-97f8-4091-e8c1-4ccfb7effba0"
      },
      "outputs": [
        {
          "name": "stdout",
          "output_type": "stream",
          "text": [
            "[[1489  106]\n",
            " [ 186  219]]\n"
          ]
        }
      ],
      "source": [
        "from sklearn.metrics import confusion_matrix, accuracy_score\n",
        "cm = confusion_matrix(Y_test, Y_pred)\n",
        "print(cm)"
      ]
    },
    {
      "cell_type": "code",
      "execution_count": null,
      "id": "a85911d3",
      "metadata": {
        "id": "a85911d3",
        "outputId": "11aba1a1-bf45-4342-effd-8a715aeef3d6"
      },
      "outputs": [
        {
          "data": {
            "text/plain": [
              "85.39999999999999"
            ]
          },
          "execution_count": 19,
          "metadata": {},
          "output_type": "execute_result"
        }
      ],
      "source": [
        "accuracy_score(Y_test, Y_pred)*100"
      ]
    }
  ],
  "metadata": {
    "kernelspec": {
      "display_name": "Python 3 (ipykernel)",
      "language": "python",
      "name": "python3"
    },
    "language_info": {
      "codemirror_mode": {
        "name": "ipython",
        "version": 3
      },
      "file_extension": ".py",
      "mimetype": "text/x-python",
      "name": "python",
      "nbconvert_exporter": "python",
      "pygments_lexer": "ipython3",
      "version": "3.7.13"
    },
    "colab": {
      "name": "DL Project on Decision of Bank Customer.ipynb",
      "provenance": [],
      "include_colab_link": true
    }
  },
  "nbformat": 4,
  "nbformat_minor": 5
}