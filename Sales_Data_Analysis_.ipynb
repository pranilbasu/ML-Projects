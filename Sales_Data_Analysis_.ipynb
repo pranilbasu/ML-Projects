{
  "cells": [
    {
      "cell_type": "markdown",
      "metadata": {
        "id": "view-in-github",
        "colab_type": "text"
      },
      "source": [
        "<a href=\"https://colab.research.google.com/github/pranilbasu/ML-Projects/blob/main/Sales_Data_Analysis_.ipynb\" target=\"_parent\"><img src=\"https://colab.research.google.com/assets/colab-badge.svg\" alt=\"Open In Colab\"/></a>"
      ]
    },
    {
      "cell_type": "markdown",
      "id": "0ba3d044",
      "metadata": {
        "id": "0ba3d044"
      },
      "source": [
        "# Sales Data Analysis"
      ]
    },
    {
      "cell_type": "code",
      "execution_count": null,
      "id": "663f178f",
      "metadata": {
        "id": "663f178f"
      },
      "outputs": [],
      "source": [
        "# Libraries\n",
        "import os\n",
        "import pandas as pd\n",
        "import matplotlib.pyplot as plt\n",
        "import seaborn as sns"
      ]
    },
    {
      "cell_type": "code",
      "execution_count": null,
      "id": "212666a7",
      "metadata": {
        "id": "212666a7"
      },
      "outputs": [],
      "source": [
        "sales_data = pd.read_csv('all_data.csv')  #dataset"
      ]
    },
    {
      "cell_type": "code",
      "execution_count": null,
      "id": "ded07ed8",
      "metadata": {
        "id": "ded07ed8",
        "outputId": "29d8e7ef-8322-4b0b-bd82-d2120cfcfc22"
      },
      "outputs": [
        {
          "data": {
            "text/plain": [
              "(186850, 6)"
            ]
          },
          "execution_count": 3,
          "metadata": {},
          "output_type": "execute_result"
        }
      ],
      "source": [
        "sales_data.shape"
      ]
    },
    {
      "cell_type": "code",
      "execution_count": null,
      "id": "62cfe8b5",
      "metadata": {
        "id": "62cfe8b5",
        "outputId": "9f34b99e-b967-4ebb-b98f-f434fd910a2f"
      },
      "outputs": [
        {
          "data": {
            "text/html": [
              "<div>\n",
              "<style scoped>\n",
              "    .dataframe tbody tr th:only-of-type {\n",
              "        vertical-align: middle;\n",
              "    }\n",
              "\n",
              "    .dataframe tbody tr th {\n",
              "        vertical-align: top;\n",
              "    }\n",
              "\n",
              "    .dataframe thead th {\n",
              "        text-align: right;\n",
              "    }\n",
              "</style>\n",
              "<table border=\"1\" class=\"dataframe\">\n",
              "  <thead>\n",
              "    <tr style=\"text-align: right;\">\n",
              "      <th></th>\n",
              "      <th>Order ID</th>\n",
              "      <th>Product</th>\n",
              "      <th>Quantity Ordered</th>\n",
              "      <th>Price Each</th>\n",
              "      <th>Order Date</th>\n",
              "      <th>Purchase Address</th>\n",
              "    </tr>\n",
              "  </thead>\n",
              "  <tbody>\n",
              "    <tr>\n",
              "      <th>0</th>\n",
              "      <td>176558</td>\n",
              "      <td>USB-C Charging Cable</td>\n",
              "      <td>2</td>\n",
              "      <td>11.95</td>\n",
              "      <td>04/19/19 08:46</td>\n",
              "      <td>917 1st St, Dallas, TX 75001</td>\n",
              "    </tr>\n",
              "    <tr>\n",
              "      <th>1</th>\n",
              "      <td>NaN</td>\n",
              "      <td>NaN</td>\n",
              "      <td>NaN</td>\n",
              "      <td>NaN</td>\n",
              "      <td>NaN</td>\n",
              "      <td>NaN</td>\n",
              "    </tr>\n",
              "    <tr>\n",
              "      <th>2</th>\n",
              "      <td>176559</td>\n",
              "      <td>Bose SoundSport Headphones</td>\n",
              "      <td>1</td>\n",
              "      <td>99.99</td>\n",
              "      <td>04/07/19 22:30</td>\n",
              "      <td>682 Chestnut St, Boston, MA 02215</td>\n",
              "    </tr>\n",
              "    <tr>\n",
              "      <th>3</th>\n",
              "      <td>176560</td>\n",
              "      <td>Google Phone</td>\n",
              "      <td>1</td>\n",
              "      <td>600</td>\n",
              "      <td>04/12/19 14:38</td>\n",
              "      <td>669 Spruce St, Los Angeles, CA 90001</td>\n",
              "    </tr>\n",
              "    <tr>\n",
              "      <th>4</th>\n",
              "      <td>176560</td>\n",
              "      <td>Wired Headphones</td>\n",
              "      <td>1</td>\n",
              "      <td>11.99</td>\n",
              "      <td>04/12/19 14:38</td>\n",
              "      <td>669 Spruce St, Los Angeles, CA 90001</td>\n",
              "    </tr>\n",
              "    <tr>\n",
              "      <th>5</th>\n",
              "      <td>176561</td>\n",
              "      <td>Wired Headphones</td>\n",
              "      <td>1</td>\n",
              "      <td>11.99</td>\n",
              "      <td>04/30/19 09:27</td>\n",
              "      <td>333 8th St, Los Angeles, CA 90001</td>\n",
              "    </tr>\n",
              "    <tr>\n",
              "      <th>6</th>\n",
              "      <td>176562</td>\n",
              "      <td>USB-C Charging Cable</td>\n",
              "      <td>1</td>\n",
              "      <td>11.95</td>\n",
              "      <td>04/29/19 13:03</td>\n",
              "      <td>381 Wilson St, San Francisco, CA 94016</td>\n",
              "    </tr>\n",
              "  </tbody>\n",
              "</table>\n",
              "</div>"
            ],
            "text/plain": [
              "  Order ID                     Product Quantity Ordered Price Each  \\\n",
              "0   176558        USB-C Charging Cable                2      11.95   \n",
              "1      NaN                         NaN              NaN        NaN   \n",
              "2   176559  Bose SoundSport Headphones                1      99.99   \n",
              "3   176560                Google Phone                1        600   \n",
              "4   176560            Wired Headphones                1      11.99   \n",
              "5   176561            Wired Headphones                1      11.99   \n",
              "6   176562        USB-C Charging Cable                1      11.95   \n",
              "\n",
              "       Order Date                        Purchase Address  \n",
              "0  04/19/19 08:46            917 1st St, Dallas, TX 75001  \n",
              "1             NaN                                     NaN  \n",
              "2  04/07/19 22:30       682 Chestnut St, Boston, MA 02215  \n",
              "3  04/12/19 14:38    669 Spruce St, Los Angeles, CA 90001  \n",
              "4  04/12/19 14:38    669 Spruce St, Los Angeles, CA 90001  \n",
              "5  04/30/19 09:27       333 8th St, Los Angeles, CA 90001  \n",
              "6  04/29/19 13:03  381 Wilson St, San Francisco, CA 94016  "
            ]
          },
          "execution_count": 4,
          "metadata": {},
          "output_type": "execute_result"
        }
      ],
      "source": [
        "sales_data.head(7) # preview of data"
      ]
    },
    {
      "cell_type": "code",
      "execution_count": null,
      "id": "20dffb06",
      "metadata": {
        "id": "20dffb06",
        "outputId": "b2d95a16-e0a3-4edb-ed61-b5766fe64a88"
      },
      "outputs": [
        {
          "data": {
            "text/plain": [
              "Order ID            545\n",
              "Product             545\n",
              "Quantity Ordered    545\n",
              "Price Each          545\n",
              "Order Date          545\n",
              "Purchase Address    545\n",
              "dtype: int64"
            ]
          },
          "execution_count": 5,
          "metadata": {},
          "output_type": "execute_result"
        }
      ],
      "source": [
        "sales_data.isnull().sum() # null values"
      ]
    },
    {
      "cell_type": "code",
      "execution_count": null,
      "id": "47fabdf7",
      "metadata": {
        "id": "47fabdf7"
      },
      "outputs": [],
      "source": [
        "sales_data = sales_data.dropna() # removal of null values"
      ]
    },
    {
      "cell_type": "code",
      "execution_count": null,
      "id": "6b2b2869",
      "metadata": {
        "id": "6b2b2869"
      },
      "outputs": [],
      "source": [
        "def month(x):\n",
        "    return x.split('/')[0]  # only the month values are taken\n",
        "sales_data['Month'] = sales_data['Order Date'].apply(month)"
      ]
    },
    {
      "cell_type": "code",
      "execution_count": null,
      "id": "d0e1a2ad",
      "metadata": {
        "id": "d0e1a2ad",
        "outputId": "f5acd9dd-4a9e-4f7b-c30b-f08f52d7fc86"
      },
      "outputs": [
        {
          "data": {
            "text/html": [
              "<div>\n",
              "<style scoped>\n",
              "    .dataframe tbody tr th:only-of-type {\n",
              "        vertical-align: middle;\n",
              "    }\n",
              "\n",
              "    .dataframe tbody tr th {\n",
              "        vertical-align: top;\n",
              "    }\n",
              "\n",
              "    .dataframe thead th {\n",
              "        text-align: right;\n",
              "    }\n",
              "</style>\n",
              "<table border=\"1\" class=\"dataframe\">\n",
              "  <thead>\n",
              "    <tr style=\"text-align: right;\">\n",
              "      <th></th>\n",
              "      <th>Order ID</th>\n",
              "      <th>Product</th>\n",
              "      <th>Quantity Ordered</th>\n",
              "      <th>Price Each</th>\n",
              "      <th>Order Date</th>\n",
              "      <th>Purchase Address</th>\n",
              "      <th>Month</th>\n",
              "    </tr>\n",
              "  </thead>\n",
              "  <tbody>\n",
              "    <tr>\n",
              "      <th>0</th>\n",
              "      <td>176558</td>\n",
              "      <td>USB-C Charging Cable</td>\n",
              "      <td>2</td>\n",
              "      <td>11.95</td>\n",
              "      <td>04/19/19 08:46</td>\n",
              "      <td>917 1st St, Dallas, TX 75001</td>\n",
              "      <td>04</td>\n",
              "    </tr>\n",
              "    <tr>\n",
              "      <th>2</th>\n",
              "      <td>176559</td>\n",
              "      <td>Bose SoundSport Headphones</td>\n",
              "      <td>1</td>\n",
              "      <td>99.99</td>\n",
              "      <td>04/07/19 22:30</td>\n",
              "      <td>682 Chestnut St, Boston, MA 02215</td>\n",
              "      <td>04</td>\n",
              "    </tr>\n",
              "    <tr>\n",
              "      <th>3</th>\n",
              "      <td>176560</td>\n",
              "      <td>Google Phone</td>\n",
              "      <td>1</td>\n",
              "      <td>600</td>\n",
              "      <td>04/12/19 14:38</td>\n",
              "      <td>669 Spruce St, Los Angeles, CA 90001</td>\n",
              "      <td>04</td>\n",
              "    </tr>\n",
              "    <tr>\n",
              "      <th>4</th>\n",
              "      <td>176560</td>\n",
              "      <td>Wired Headphones</td>\n",
              "      <td>1</td>\n",
              "      <td>11.99</td>\n",
              "      <td>04/12/19 14:38</td>\n",
              "      <td>669 Spruce St, Los Angeles, CA 90001</td>\n",
              "      <td>04</td>\n",
              "    </tr>\n",
              "    <tr>\n",
              "      <th>5</th>\n",
              "      <td>176561</td>\n",
              "      <td>Wired Headphones</td>\n",
              "      <td>1</td>\n",
              "      <td>11.99</td>\n",
              "      <td>04/30/19 09:27</td>\n",
              "      <td>333 8th St, Los Angeles, CA 90001</td>\n",
              "      <td>04</td>\n",
              "    </tr>\n",
              "  </tbody>\n",
              "</table>\n",
              "</div>"
            ],
            "text/plain": [
              "  Order ID                     Product Quantity Ordered Price Each  \\\n",
              "0   176558        USB-C Charging Cable                2      11.95   \n",
              "2   176559  Bose SoundSport Headphones                1      99.99   \n",
              "3   176560                Google Phone                1        600   \n",
              "4   176560            Wired Headphones                1      11.99   \n",
              "5   176561            Wired Headphones                1      11.99   \n",
              "\n",
              "       Order Date                      Purchase Address Month  \n",
              "0  04/19/19 08:46          917 1st St, Dallas, TX 75001    04  \n",
              "2  04/07/19 22:30     682 Chestnut St, Boston, MA 02215    04  \n",
              "3  04/12/19 14:38  669 Spruce St, Los Angeles, CA 90001    04  \n",
              "4  04/12/19 14:38  669 Spruce St, Los Angeles, CA 90001    04  \n",
              "5  04/30/19 09:27     333 8th St, Los Angeles, CA 90001    04  "
            ]
          },
          "execution_count": 8,
          "metadata": {},
          "output_type": "execute_result"
        }
      ],
      "source": [
        "sales_data.head()"
      ]
    },
    {
      "cell_type": "code",
      "execution_count": null,
      "id": "2c8242cc",
      "metadata": {
        "id": "2c8242cc",
        "outputId": "09cd722a-3211-4c1b-fa79-c07ed7b1bc71"
      },
      "outputs": [
        {
          "data": {
            "text/plain": [
              "array(['04', '05', 'Order Date', '08', '09', '12', '01', '02', '03', '07',\n",
              "       '06', '11', '10'], dtype=object)"
            ]
          },
          "execution_count": 9,
          "metadata": {},
          "output_type": "execute_result"
        }
      ],
      "source": [
        "sales_data['Month'].unique()"
      ]
    },
    {
      "cell_type": "code",
      "execution_count": null,
      "id": "9a30c0ea",
      "metadata": {
        "id": "9a30c0ea"
      },
      "outputs": [],
      "source": [
        "Od = sales_data['Month'] == 'Order Date'  \n",
        "sales_data = sales_data[~Od]  # remove 'order date' from Month"
      ]
    },
    {
      "cell_type": "code",
      "execution_count": null,
      "id": "92427040",
      "metadata": {
        "id": "92427040",
        "outputId": "540535ae-fc1d-4d95-bd58-9259eef9cae0"
      },
      "outputs": [
        {
          "data": {
            "text/plain": [
              "array(['04', '05', '08', '09', '12', '01', '02', '03', '07', '06', '11',\n",
              "       '10'], dtype=object)"
            ]
          },
          "execution_count": 11,
          "metadata": {},
          "output_type": "execute_result"
        }
      ],
      "source": [
        "sales_data['Month'].unique()"
      ]
    },
    {
      "cell_type": "code",
      "execution_count": null,
      "id": "41deae9a",
      "metadata": {
        "id": "41deae9a"
      },
      "outputs": [],
      "source": [
        "sales_data['Month']= sales_data['Month'].astype(int)  # conversion of Month values into integers"
      ]
    },
    {
      "cell_type": "code",
      "execution_count": null,
      "id": "745cb011",
      "metadata": {
        "id": "745cb011"
      },
      "outputs": [],
      "source": [
        "sales_data['Price Each'] = sales_data['Price Each'].astype(float)  # conversion of Price each values into float"
      ]
    },
    {
      "cell_type": "code",
      "execution_count": null,
      "id": "d67219d9",
      "metadata": {
        "id": "d67219d9"
      },
      "outputs": [],
      "source": [
        "sales_data['Quantity Ordered'] = sales_data['Quantity Ordered'].astype(int) "
      ]
    },
    {
      "cell_type": "code",
      "execution_count": null,
      "id": "ca48490e",
      "metadata": {
        "id": "ca48490e",
        "outputId": "9639d3dd-8512-4c6c-fe12-96dfe02be105"
      },
      "outputs": [
        {
          "data": {
            "text/html": [
              "<div>\n",
              "<style scoped>\n",
              "    .dataframe tbody tr th:only-of-type {\n",
              "        vertical-align: middle;\n",
              "    }\n",
              "\n",
              "    .dataframe tbody tr th {\n",
              "        vertical-align: top;\n",
              "    }\n",
              "\n",
              "    .dataframe thead th {\n",
              "        text-align: right;\n",
              "    }\n",
              "</style>\n",
              "<table border=\"1\" class=\"dataframe\">\n",
              "  <thead>\n",
              "    <tr style=\"text-align: right;\">\n",
              "      <th></th>\n",
              "      <th>Order ID</th>\n",
              "      <th>Product</th>\n",
              "      <th>Quantity Ordered</th>\n",
              "      <th>Price Each</th>\n",
              "      <th>Order Date</th>\n",
              "      <th>Purchase Address</th>\n",
              "      <th>Month</th>\n",
              "      <th>sales</th>\n",
              "    </tr>\n",
              "  </thead>\n",
              "  <tbody>\n",
              "    <tr>\n",
              "      <th>0</th>\n",
              "      <td>176558</td>\n",
              "      <td>USB-C Charging Cable</td>\n",
              "      <td>2</td>\n",
              "      <td>11.95</td>\n",
              "      <td>04/19/19 08:46</td>\n",
              "      <td>917 1st St, Dallas, TX 75001</td>\n",
              "      <td>4</td>\n",
              "      <td>23.90</td>\n",
              "    </tr>\n",
              "    <tr>\n",
              "      <th>2</th>\n",
              "      <td>176559</td>\n",
              "      <td>Bose SoundSport Headphones</td>\n",
              "      <td>1</td>\n",
              "      <td>99.99</td>\n",
              "      <td>04/07/19 22:30</td>\n",
              "      <td>682 Chestnut St, Boston, MA 02215</td>\n",
              "      <td>4</td>\n",
              "      <td>99.99</td>\n",
              "    </tr>\n",
              "    <tr>\n",
              "      <th>3</th>\n",
              "      <td>176560</td>\n",
              "      <td>Google Phone</td>\n",
              "      <td>1</td>\n",
              "      <td>600.00</td>\n",
              "      <td>04/12/19 14:38</td>\n",
              "      <td>669 Spruce St, Los Angeles, CA 90001</td>\n",
              "      <td>4</td>\n",
              "      <td>600.00</td>\n",
              "    </tr>\n",
              "    <tr>\n",
              "      <th>4</th>\n",
              "      <td>176560</td>\n",
              "      <td>Wired Headphones</td>\n",
              "      <td>1</td>\n",
              "      <td>11.99</td>\n",
              "      <td>04/12/19 14:38</td>\n",
              "      <td>669 Spruce St, Los Angeles, CA 90001</td>\n",
              "      <td>4</td>\n",
              "      <td>11.99</td>\n",
              "    </tr>\n",
              "    <tr>\n",
              "      <th>5</th>\n",
              "      <td>176561</td>\n",
              "      <td>Wired Headphones</td>\n",
              "      <td>1</td>\n",
              "      <td>11.99</td>\n",
              "      <td>04/30/19 09:27</td>\n",
              "      <td>333 8th St, Los Angeles, CA 90001</td>\n",
              "      <td>4</td>\n",
              "      <td>11.99</td>\n",
              "    </tr>\n",
              "  </tbody>\n",
              "</table>\n",
              "</div>"
            ],
            "text/plain": [
              "  Order ID                     Product  Quantity Ordered  Price Each  \\\n",
              "0   176558        USB-C Charging Cable                 2       11.95   \n",
              "2   176559  Bose SoundSport Headphones                 1       99.99   \n",
              "3   176560                Google Phone                 1      600.00   \n",
              "4   176560            Wired Headphones                 1       11.99   \n",
              "5   176561            Wired Headphones                 1       11.99   \n",
              "\n",
              "       Order Date                      Purchase Address  Month   sales  \n",
              "0  04/19/19 08:46          917 1st St, Dallas, TX 75001      4   23.90  \n",
              "2  04/07/19 22:30     682 Chestnut St, Boston, MA 02215      4   99.99  \n",
              "3  04/12/19 14:38  669 Spruce St, Los Angeles, CA 90001      4  600.00  \n",
              "4  04/12/19 14:38  669 Spruce St, Los Angeles, CA 90001      4   11.99  \n",
              "5  04/30/19 09:27     333 8th St, Los Angeles, CA 90001      4   11.99  "
            ]
          },
          "execution_count": 15,
          "metadata": {},
          "output_type": "execute_result"
        }
      ],
      "source": [
        "sales_data['sales']= sales_data['Quantity Ordered']*sales_data['Price Each']\n",
        "sales_data.head(5)"
      ]
    },
    {
      "cell_type": "markdown",
      "id": "9c239458",
      "metadata": {
        "id": "9c239458"
      },
      "source": [
        "### Sales value variation with Months"
      ]
    },
    {
      "cell_type": "code",
      "execution_count": null,
      "id": "626a3747",
      "metadata": {
        "id": "626a3747",
        "outputId": "5f1526d3-401b-450d-a9ee-8f2e986eeabd"
      },
      "outputs": [
        {
          "data": {
            "text/plain": [
              "Month\n",
              "1     1822256.73\n",
              "2     2202022.42\n",
              "3     2807100.38\n",
              "4     3390670.24\n",
              "5     3152606.75\n",
              "6     2577802.26\n",
              "7     2647775.76\n",
              "8     2244467.88\n",
              "9     2097560.13\n",
              "10    3736726.88\n",
              "11    3199603.20\n",
              "12    4613443.34\n",
              "Name: sales, dtype: float64"
            ]
          },
          "execution_count": 16,
          "metadata": {},
          "output_type": "execute_result"
        }
      ],
      "source": [
        "sales_data.groupby('Month')['sales'].sum()"
      ]
    },
    {
      "cell_type": "code",
      "execution_count": null,
      "id": "2c89408d",
      "metadata": {
        "id": "2c89408d",
        "outputId": "9dc49ac9-9e43-4cf2-e6b5-eff25acd5105"
      },
      "outputs": [
        {
          "data": {
            "image/png": "[encoded data removed]",
            "text/plain": [
              "<Figure size 432x288 with 1 Axes>"
            ]
          },
          "metadata": {
            "needs_background": "light"
          },
          "output_type": "display_data"
        }
      ],
      "source": [
        "months=range(1,13)\n",
        "plt.bar(months, sales_data.groupby('Month')['sales'].sum())\n",
        "plt.xticks(months)\n",
        "plt.ylabel('Sales in USD ($)')\n",
        "plt.xlabel('Month number')\n",
        "plt.show()"
      ]
    },
    {
      "cell_type": "markdown",
      "id": "56ec47c1",
      "metadata": {
        "id": "56ec47c1"
      },
      "source": [
        "### Order variation with Cities"
      ]
    },
    {
      "cell_type": "code",
      "execution_count": null,
      "id": "3177419f",
      "metadata": {
        "id": "3177419f"
      },
      "outputs": [],
      "source": [
        "def city(x):\n",
        "    return x.split(',')[1]\n",
        "\n",
        "sales_data['city'] = sales_data['Purchase Address'].apply(city)"
      ]
    },
    {
      "cell_type": "code",
      "execution_count": null,
      "id": "5d562f40",
      "metadata": {
        "id": "5d562f40",
        "outputId": "df9555df-e243-43e8-ba8b-339555ab945e"
      },
      "outputs": [
        {
          "data": {
            "text/plain": [
              "city\n",
              " Atlanta          14881\n",
              " Austin            9905\n",
              " Boston           19934\n",
              " Dallas           14820\n",
              " Los Angeles      29605\n",
              " New York City    24876\n",
              " Portland         12465\n",
              " San Francisco    44732\n",
              " Seattle          14732\n",
              "Name: city, dtype: int64"
            ]
          },
          "execution_count": 19,
          "metadata": {},
          "output_type": "execute_result"
        }
      ],
      "source": [
        "sales_data.groupby('city')['city'].count()"
      ]
    },
    {
      "cell_type": "code",
      "execution_count": null,
      "id": "9ed685a5",
      "metadata": {
        "id": "9ed685a5",
        "outputId": "48f819c5-4243-4770-e6ad-f1a027fc1023"
      },
      "outputs": [
        {
          "data": {
            "image/png": "[encoded data removed]",
            "text/plain": [
              "<Figure size 432x288 with 1 Axes>"
            ]
          },
          "metadata": {
            "needs_background": "light"
          },
          "output_type": "display_data"
        }
      ],
      "source": [
        "plt.bar(sales_data.groupby('city')['city'].count().index, sales_data.groupby('city')['city'].count())\n",
        "plt.xticks(rotation='vertical')\n",
        "plt.ylabel('received orders')\n",
        "plt.xlabel('city names')\n",
        "plt.show()"
      ]
    },
    {
      "cell_type": "markdown",
      "id": "24583730",
      "metadata": {
        "id": "24583730"
      },
      "source": [
        "### Sale of Products"
      ]
    },
    {
      "cell_type": "code",
      "execution_count": null,
      "id": "683d813d",
      "metadata": {
        "id": "683d813d",
        "outputId": "c917d95e-d11c-44f9-f55e-55f23328f044"
      },
      "outputs": [
        {
          "data": {
            "text/plain": [
              "<AxesSubplot:xlabel='Product'>"
            ]
          },
          "execution_count": 21,
          "metadata": {},
          "output_type": "execute_result"
        },
        {
          "data": {
            "image/png": "[encoded data removed]",
            "text/plain": [
              "<Figure size 432x288 with 1 Axes>"
            ]
          },
          "metadata": {
            "needs_background": "light"
          },
          "output_type": "display_data"
        }
      ],
      "source": [
        "sales_data.groupby('Product')['Quantity Ordered'].sum().plot(kind='bar')"
      ]
    },
    {
      "cell_type": "code",
      "execution_count": null,
      "id": "fb837933",
      "metadata": {
        "id": "fb837933",
        "outputId": "98c2ae3a-d807-4c59-eb39-c4fd226098d7"
      },
      "outputs": [
        {
          "data": {
            "text/plain": [
              "Product\n",
              "20in Monitor                   109.99\n",
              "27in 4K Gaming Monitor         389.99\n",
              "27in FHD Monitor               149.99\n",
              "34in Ultrawide Monitor         379.99\n",
              "AA Batteries (4-pack)            3.84\n",
              "AAA Batteries (4-pack)           2.99\n",
              "Apple Airpods Headphones       150.00\n",
              "Bose SoundSport Headphones      99.99\n",
              "Flatscreen TV                  300.00\n",
              "Google Phone                   600.00\n",
              "LG Dryer                       600.00\n",
              "LG Washing Machine             600.00\n",
              "Lightning Charging Cable        14.95\n",
              "Macbook Pro Laptop            1700.00\n",
              "ThinkPad Laptop                999.99\n",
              "USB-C Charging Cable            11.95\n",
              "Vareebadd Phone                400.00\n",
              "Wired Headphones                11.99\n",
              "iPhone                         700.00\n",
              "Name: Price Each, dtype: float64"
            ]
          },
          "execution_count": 22,
          "metadata": {},
          "output_type": "execute_result"
        }
      ],
      "source": [
        "sales_data.groupby('Product')['Price Each'].mean()"
      ]
    },
    {
      "cell_type": "code",
      "execution_count": null,
      "id": "6d2bd449",
      "metadata": {
        "id": "6d2bd449"
      },
      "outputs": [],
      "source": [
        "products = sales_data.groupby('Product')['Quantity Ordered'].sum().index\n",
        "quantity = sales_data.groupby('Product')['Quantity Ordered'].sum()\n",
        "prices = sales_data.groupby('Product')['Price Each'].mean()"
      ]
    },
    {
      "cell_type": "code",
      "execution_count": null,
      "id": "442abbc4",
      "metadata": {
        "id": "442abbc4",
        "outputId": "12da5cb0-533c-4cd3-bfd1-2db23ccfb6df"
      },
      "outputs": [
        {
          "name": "stderr",
          "output_type": "stream",
          "text": [
            "C:\\Users\\prani\\AppData\\Local\\Temp\\ipykernel_17576\\93104940.py:6: UserWarning: FixedFormatter should only be used together with FixedLocator\n",
            "  ax1.set_xticklabels(products, rotation='vertical', size= 10)\n"
          ]
        },
        {
          "data": {
            "text/plain": [
              "[Text(0, 0, '20in Monitor'),\n",
              " Text(1, 0, '27in 4K Gaming Monitor'),\n",
              " Text(2, 0, '27in FHD Monitor'),\n",
              " Text(3, 0, '34in Ultrawide Monitor'),\n",
              " Text(4, 0, 'AA Batteries (4-pack)'),\n",
              " Text(5, 0, 'AAA Batteries (4-pack)'),\n",
              " Text(6, 0, 'Apple Airpods Headphones'),\n",
              " Text(7, 0, 'Bose SoundSport Headphones'),\n",
              " Text(8, 0, 'Flatscreen TV'),\n",
              " Text(9, 0, 'Google Phone'),\n",
              " Text(10, 0, 'LG Dryer'),\n",
              " Text(11, 0, 'LG Washing Machine'),\n",
              " Text(12, 0, 'Lightning Charging Cable'),\n",
              " Text(13, 0, 'Macbook Pro Laptop'),\n",
              " Text(14, 0, 'ThinkPad Laptop'),\n",
              " Text(15, 0, 'USB-C Charging Cable'),\n",
              " Text(16, 0, 'Vareebadd Phone'),\n",
              " Text(17, 0, 'Wired Headphones'),\n",
              " Text(18, 0, 'iPhone')]"
            ]
          },
          "execution_count": 24,
          "metadata": {},
          "output_type": "execute_result"
        },
        {
          "data": {
            "text/plain": [
              "<Figure size 2880x1728 with 0 Axes>"
            ]
          },
          "metadata": {},
          "output_type": "display_data"
        },
        {
          "data": {
            "image/png": "[encoded data removed]",
            "text/plain": [
              "<Figure size 432x288 with 2 Axes>"
            ]
          },
          "metadata": {
            "needs_background": "light"
          },
          "output_type": "display_data"
        }
      ],
      "source": [
        "plt.figure(figsize=(40,24))\n",
        "fig,ax1 = plt.subplots()\n",
        "ax2=ax1.twinx()\n",
        "ax1.bar(products, quantity, color='orange')\n",
        "ax2.plot(products, prices, 'purple')\n",
        "ax1.set_xticklabels(products, rotation='vertical', size= 10)"
      ]
    }
  ],
  "metadata": {
    "kernelspec": {
      "display_name": "Python 3 (ipykernel)",
      "language": "python",
      "name": "python3"
    },
    "language_info": {
      "codemirror_mode": {
        "name": "ipython",
        "version": 3
      },
      "file_extension": ".py",
      "mimetype": "text/x-python",
      "name": "python",
      "nbconvert_exporter": "python",
      "pygments_lexer": "ipython3",
      "version": "3.9.12"
    },
    "colab": {
      "name": "Sales Data Analysis .ipynb",
      "provenance": [],
      "include_colab_link": true
    }
  },
  "nbformat": 4,
  "nbformat_minor": 5
}