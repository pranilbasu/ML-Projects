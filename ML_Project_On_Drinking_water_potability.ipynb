{
  "cells": [
    {
      "cell_type": "markdown",
      "metadata": {
        "id": "view-in-github",
        "colab_type": "text"
      },
      "source": [
        "<a href=\"https://colab.research.google.com/github/pranilbasu/ML-Projects/blob/main/ML_Project_On_Drinking_water_potability.ipynb\" target=\"_parent\"><img src=\"https://colab.research.google.com/assets/colab-badge.svg\" alt=\"Open In Colab\"/></a>"
      ]
    },
    {
      "cell_type": "markdown",
      "id": "074c1600",
      "metadata": {
        "id": "074c1600"
      },
      "source": [
        "# Prediction of Potability of Drinking Water"
      ]
    },
    {
      "cell_type": "code",
      "execution_count": null,
      "id": "80312170",
      "metadata": {
        "id": "80312170"
      },
      "outputs": [],
      "source": [
        "# Importing libraries\n",
        "import numpy as np \n",
        "import pandas as pd\n",
        "import matplotlib.pyplot as plt\n",
        "import seaborn as sns\n",
        "%matplotlib inline"
      ]
    },
    {
      "cell_type": "code",
      "execution_count": null,
      "id": "f517da4c",
      "metadata": {
        "id": "f517da4c"
      },
      "outputs": [],
      "source": [
        "# Importing Dataset\n",
        "water_data = pd.read_csv('drinking_water_potability.csv')"
      ]
    },
    {
      "cell_type": "code",
      "execution_count": null,
      "id": "081cbfeb",
      "metadata": {
        "id": "081cbfeb",
        "outputId": "b060d5f7-f631-4627-c487-b8b8c52372c3"
      },
      "outputs": [
        {
          "data": {
            "text/html": [
              "<div>\n",
              "<style scoped>\n",
              "    .dataframe tbody tr th:only-of-type {\n",
              "        vertical-align: middle;\n",
              "    }\n",
              "\n",
              "    .dataframe tbody tr th {\n",
              "        vertical-align: top;\n",
              "    }\n",
              "\n",
              "    .dataframe thead th {\n",
              "        text-align: right;\n",
              "    }\n",
              "</style>\n",
              "<table border=\"1\" class=\"dataframe\">\n",
              "  <thead>\n",
              "    <tr style=\"text-align: right;\">\n",
              "      <th></th>\n",
              "      <th>ph</th>\n",
              "      <th>Hardness</th>\n",
              "      <th>Solids</th>\n",
              "      <th>Chloramines</th>\n",
              "      <th>Sulfate</th>\n",
              "      <th>Conductivity</th>\n",
              "      <th>Organic_carbon</th>\n",
              "      <th>Trihalomethanes</th>\n",
              "      <th>Turbidity</th>\n",
              "      <th>Potability</th>\n",
              "    </tr>\n",
              "  </thead>\n",
              "  <tbody>\n",
              "    <tr>\n",
              "      <th>0</th>\n",
              "      <td>NaN</td>\n",
              "      <td>204.890456</td>\n",
              "      <td>20791.31898</td>\n",
              "      <td>7.300212</td>\n",
              "      <td>368.516441</td>\n",
              "      <td>564.308654</td>\n",
              "      <td>10.379783</td>\n",
              "      <td>86.990970</td>\n",
              "      <td>2.963135</td>\n",
              "      <td>0</td>\n",
              "    </tr>\n",
              "    <tr>\n",
              "      <th>1</th>\n",
              "      <td>3.716080</td>\n",
              "      <td>129.422921</td>\n",
              "      <td>18630.05786</td>\n",
              "      <td>6.635246</td>\n",
              "      <td>NaN</td>\n",
              "      <td>592.885359</td>\n",
              "      <td>15.180013</td>\n",
              "      <td>56.329076</td>\n",
              "      <td>4.500656</td>\n",
              "      <td>0</td>\n",
              "    </tr>\n",
              "    <tr>\n",
              "      <th>2</th>\n",
              "      <td>8.099124</td>\n",
              "      <td>224.236259</td>\n",
              "      <td>19909.54173</td>\n",
              "      <td>9.275884</td>\n",
              "      <td>NaN</td>\n",
              "      <td>418.606213</td>\n",
              "      <td>16.868637</td>\n",
              "      <td>66.420093</td>\n",
              "      <td>3.055934</td>\n",
              "      <td>0</td>\n",
              "    </tr>\n",
              "    <tr>\n",
              "      <th>3</th>\n",
              "      <td>8.316766</td>\n",
              "      <td>214.373394</td>\n",
              "      <td>22018.41744</td>\n",
              "      <td>8.059332</td>\n",
              "      <td>356.886136</td>\n",
              "      <td>363.266516</td>\n",
              "      <td>18.436525</td>\n",
              "      <td>100.341674</td>\n",
              "      <td>4.628771</td>\n",
              "      <td>0</td>\n",
              "    </tr>\n",
              "    <tr>\n",
              "      <th>4</th>\n",
              "      <td>9.092223</td>\n",
              "      <td>181.101509</td>\n",
              "      <td>17978.98634</td>\n",
              "      <td>6.546600</td>\n",
              "      <td>310.135738</td>\n",
              "      <td>398.410813</td>\n",
              "      <td>11.558279</td>\n",
              "      <td>31.997993</td>\n",
              "      <td>4.075075</td>\n",
              "      <td>0</td>\n",
              "    </tr>\n",
              "    <tr>\n",
              "      <th>5</th>\n",
              "      <td>5.584087</td>\n",
              "      <td>188.313324</td>\n",
              "      <td>28748.68774</td>\n",
              "      <td>7.544869</td>\n",
              "      <td>326.678363</td>\n",
              "      <td>280.467916</td>\n",
              "      <td>8.399735</td>\n",
              "      <td>54.917862</td>\n",
              "      <td>2.559708</td>\n",
              "      <td>0</td>\n",
              "    </tr>\n",
              "    <tr>\n",
              "      <th>6</th>\n",
              "      <td>10.223862</td>\n",
              "      <td>248.071735</td>\n",
              "      <td>28749.71654</td>\n",
              "      <td>7.513408</td>\n",
              "      <td>393.663395</td>\n",
              "      <td>283.651634</td>\n",
              "      <td>13.789695</td>\n",
              "      <td>84.603556</td>\n",
              "      <td>2.672989</td>\n",
              "      <td>0</td>\n",
              "    </tr>\n",
              "  </tbody>\n",
              "</table>\n",
              "</div>"
            ],
            "text/plain": [
              "          ph    Hardness       Solids  Chloramines     Sulfate  Conductivity  \\\n",
              "0        NaN  204.890456  20791.31898     7.300212  368.516441    564.308654   \n",
              "1   3.716080  129.422921  18630.05786     6.635246         NaN    592.885359   \n",
              "2   8.099124  224.236259  19909.54173     9.275884         NaN    418.606213   \n",
              "3   8.316766  214.373394  22018.41744     8.059332  356.886136    363.266516   \n",
              "4   9.092223  181.101509  17978.98634     6.546600  310.135738    398.410813   \n",
              "5   5.584087  188.313324  28748.68774     7.544869  326.678363    280.467916   \n",
              "6  10.223862  248.071735  28749.71654     7.513408  393.663395    283.651634   \n",
              "\n",
              "   Organic_carbon  Trihalomethanes  Turbidity  Potability  \n",
              "0       10.379783        86.990970   2.963135           0  \n",
              "1       15.180013        56.329076   4.500656           0  \n",
              "2       16.868637        66.420093   3.055934           0  \n",
              "3       18.436525       100.341674   4.628771           0  \n",
              "4       11.558279        31.997993   4.075075           0  \n",
              "5        8.399735        54.917862   2.559708           0  \n",
              "6       13.789695        84.603556   2.672989           0  "
            ]
          },
          "execution_count": 3,
          "metadata": {},
          "output_type": "execute_result"
        }
      ],
      "source": [
        "water_data.head(7) #preview of data"
      ]
    },
    {
      "cell_type": "code",
      "execution_count": null,
      "id": "da4396ef",
      "metadata": {
        "id": "da4396ef",
        "outputId": "a25644b8-8d19-4c17-bd12-2969129efc86"
      },
      "outputs": [
        {
          "data": {
            "text/plain": [
              "ph                 491\n",
              "Hardness             0\n",
              "Solids               0\n",
              "Chloramines          0\n",
              "Sulfate            781\n",
              "Conductivity         0\n",
              "Organic_carbon       0\n",
              "Trihalomethanes    162\n",
              "Turbidity            0\n",
              "Potability           0\n",
              "dtype: int64"
            ]
          },
          "execution_count": 4,
          "metadata": {},
          "output_type": "execute_result"
        }
      ],
      "source": [
        "water_data.isnull().sum()   # Null values"
      ]
    },
    {
      "cell_type": "markdown",
      "id": "db4c620e",
      "metadata": {
        "id": "db4c620e"
      },
      "source": [
        "#### Handling the Null values"
      ]
    },
    {
      "cell_type": "code",
      "execution_count": null,
      "id": "7e128e27",
      "metadata": {
        "id": "7e128e27"
      },
      "outputs": [],
      "source": [
        "null= ['ph','Sulfate','Trihalomethanes']"
      ]
    },
    {
      "cell_type": "code",
      "execution_count": null,
      "id": "4f08ce01",
      "metadata": {
        "id": "4f08ce01",
        "outputId": "00f5e454-7036-4b42-ac33-4442ac8896f6"
      },
      "outputs": [
        {
          "name": "stderr",
          "output_type": "stream",
          "text": [
            "D:\\Applications\\Python\\lib\\site-packages\\seaborn\\distributions.py:2619: FutureWarning: `distplot` is a deprecated function and will be removed in a future version. Please adapt your code to use either `displot` (a figure-level function with similar flexibility) or `histplot` (an axes-level function for histograms).\n",
            "  warnings.warn(msg, FutureWarning)\n"
          ]
        },
        {
          "data": {
            "text/plain": [
              "<AxesSubplot:xlabel='ph', ylabel='Density'>"
            ]
          },
          "execution_count": 6,
          "metadata": {},
          "output_type": "execute_result"
        },
        {
          "data": {
            "image/png": "[encoded data removed]",
            "text/plain": [
              "<Figure size 432x288 with 1 Axes>"
            ]
          },
          "metadata": {
            "needs_background": "light"
          },
          "output_type": "display_data"
        }
      ],
      "source": [
        "sns.distplot(water_data['ph'])"
      ]
    },
    {
      "cell_type": "code",
      "execution_count": null,
      "id": "a2e4c5e0",
      "metadata": {
        "id": "a2e4c5e0"
      },
      "outputs": [],
      "source": [
        "water_data['ph'] = water_data['ph'].replace(np.nan, water_data.ph.mean())  # replace the null values with mean ph values"
      ]
    },
    {
      "cell_type": "code",
      "execution_count": null,
      "id": "417d74bf",
      "metadata": {
        "id": "417d74bf",
        "outputId": "1539bb77-66ba-4e4a-89f6-bfbc97f4c28a"
      },
      "outputs": [
        {
          "name": "stderr",
          "output_type": "stream",
          "text": [
            "D:\\Applications\\Python\\lib\\site-packages\\seaborn\\distributions.py:2619: FutureWarning: `distplot` is a deprecated function and will be removed in a future version. Please adapt your code to use either `displot` (a figure-level function with similar flexibility) or `histplot` (an axes-level function for histograms).\n",
            "  warnings.warn(msg, FutureWarning)\n"
          ]
        },
        {
          "data": {
            "text/plain": [
              "<AxesSubplot:xlabel='Sulfate', ylabel='Density'>"
            ]
          },
          "execution_count": 8,
          "metadata": {},
          "output_type": "execute_result"
        },
        {
          "data": {
            "image/png": "[encoded data removed]",
            "text/plain": [
              "<Figure size 432x288 with 1 Axes>"
            ]
          },
          "metadata": {
            "needs_background": "light"
          },
          "output_type": "display_data"
        }
      ],
      "source": [
        "sns.distplot(water_data['Sulfate'])"
      ]
    },
    {
      "cell_type": "code",
      "execution_count": null,
      "id": "8d13dbd7",
      "metadata": {
        "id": "8d13dbd7"
      },
      "outputs": [],
      "source": [
        "water_data['Sulfate'] = water_data['Sulfate'].replace(np.nan, water_data.Sulfate.mean())  # replace the null values with mean Sulfate values"
      ]
    },
    {
      "cell_type": "code",
      "execution_count": null,
      "id": "2904fd4f",
      "metadata": {
        "id": "2904fd4f",
        "outputId": "4bfb10b6-b84a-47d7-f2e8-c373f1ff442a"
      },
      "outputs": [
        {
          "name": "stderr",
          "output_type": "stream",
          "text": [
            "D:\\Applications\\Python\\lib\\site-packages\\seaborn\\distributions.py:2619: FutureWarning: `distplot` is a deprecated function and will be removed in a future version. Please adapt your code to use either `displot` (a figure-level function with similar flexibility) or `histplot` (an axes-level function for histograms).\n",
            "  warnings.warn(msg, FutureWarning)\n"
          ]
        },
        {
          "data": {
            "text/plain": [
              "<AxesSubplot:xlabel='Trihalomethanes', ylabel='Density'>"
            ]
          },
          "execution_count": 10,
          "metadata": {},
          "output_type": "execute_result"
        },
        {
          "data": {
            "image/png": "[encoded data removed]",
            "text/plain": [
              "<Figure size 432x288 with 1 Axes>"
            ]
          },
          "metadata": {
            "needs_background": "light"
          },
          "output_type": "display_data"
        }
      ],
      "source": [
        "sns.distplot(water_data['Trihalomethanes'])"
      ]
    },
    {
      "cell_type": "code",
      "execution_count": null,
      "id": "8b29bd48",
      "metadata": {
        "id": "8b29bd48"
      },
      "outputs": [],
      "source": [
        "water_data['Trihalomethanes'] = water_data['Trihalomethanes'].replace(np.nan, water_data.Trihalomethanes.mean())  # replace the null values with mean Trihalomethanes values"
      ]
    },
    {
      "cell_type": "code",
      "execution_count": null,
      "id": "c4169c61",
      "metadata": {
        "id": "c4169c61",
        "outputId": "8c84540a-1ac9-4bfd-bd87-434a301ec49e"
      },
      "outputs": [
        {
          "data": {
            "text/plain": [
              "ph                 0\n",
              "Hardness           0\n",
              "Solids             0\n",
              "Chloramines        0\n",
              "Sulfate            0\n",
              "Conductivity       0\n",
              "Organic_carbon     0\n",
              "Trihalomethanes    0\n",
              "Turbidity          0\n",
              "Potability         0\n",
              "dtype: int64"
            ]
          },
          "execution_count": 12,
          "metadata": {},
          "output_type": "execute_result"
        }
      ],
      "source": [
        "water_data.isnull().sum()"
      ]
    },
    {
      "cell_type": "code",
      "execution_count": null,
      "id": "6b17d1f7",
      "metadata": {
        "id": "6b17d1f7",
        "outputId": "3d5faad5-ee68-4c45-ce2a-a2b074e6ac19"
      },
      "outputs": [
        {
          "data": {
            "text/html": [
              "<div>\n",
              "<style scoped>\n",
              "    .dataframe tbody tr th:only-of-type {\n",
              "        vertical-align: middle;\n",
              "    }\n",
              "\n",
              "    .dataframe tbody tr th {\n",
              "        vertical-align: top;\n",
              "    }\n",
              "\n",
              "    .dataframe thead th {\n",
              "        text-align: right;\n",
              "    }\n",
              "</style>\n",
              "<table border=\"1\" class=\"dataframe\">\n",
              "  <thead>\n",
              "    <tr style=\"text-align: right;\">\n",
              "      <th></th>\n",
              "      <th>ph</th>\n",
              "      <th>Hardness</th>\n",
              "      <th>Solids</th>\n",
              "      <th>Chloramines</th>\n",
              "      <th>Sulfate</th>\n",
              "      <th>Conductivity</th>\n",
              "      <th>Organic_carbon</th>\n",
              "      <th>Trihalomethanes</th>\n",
              "      <th>Turbidity</th>\n",
              "      <th>Potability</th>\n",
              "    </tr>\n",
              "  </thead>\n",
              "  <tbody>\n",
              "    <tr>\n",
              "      <th>0</th>\n",
              "      <td>7.080795</td>\n",
              "      <td>204.890456</td>\n",
              "      <td>20791.31898</td>\n",
              "      <td>7.300212</td>\n",
              "      <td>368.516441</td>\n",
              "      <td>564.308654</td>\n",
              "      <td>10.379783</td>\n",
              "      <td>86.990970</td>\n",
              "      <td>2.963135</td>\n",
              "      <td>0</td>\n",
              "    </tr>\n",
              "    <tr>\n",
              "      <th>1</th>\n",
              "      <td>3.716080</td>\n",
              "      <td>129.422921</td>\n",
              "      <td>18630.05786</td>\n",
              "      <td>6.635246</td>\n",
              "      <td>333.775777</td>\n",
              "      <td>592.885359</td>\n",
              "      <td>15.180013</td>\n",
              "      <td>56.329076</td>\n",
              "      <td>4.500656</td>\n",
              "      <td>0</td>\n",
              "    </tr>\n",
              "    <tr>\n",
              "      <th>2</th>\n",
              "      <td>8.099124</td>\n",
              "      <td>224.236259</td>\n",
              "      <td>19909.54173</td>\n",
              "      <td>9.275884</td>\n",
              "      <td>333.775777</td>\n",
              "      <td>418.606213</td>\n",
              "      <td>16.868637</td>\n",
              "      <td>66.420093</td>\n",
              "      <td>3.055934</td>\n",
              "      <td>0</td>\n",
              "    </tr>\n",
              "    <tr>\n",
              "      <th>3</th>\n",
              "      <td>8.316766</td>\n",
              "      <td>214.373394</td>\n",
              "      <td>22018.41744</td>\n",
              "      <td>8.059332</td>\n",
              "      <td>356.886136</td>\n",
              "      <td>363.266516</td>\n",
              "      <td>18.436525</td>\n",
              "      <td>100.341674</td>\n",
              "      <td>4.628771</td>\n",
              "      <td>0</td>\n",
              "    </tr>\n",
              "    <tr>\n",
              "      <th>4</th>\n",
              "      <td>9.092223</td>\n",
              "      <td>181.101509</td>\n",
              "      <td>17978.98634</td>\n",
              "      <td>6.546600</td>\n",
              "      <td>310.135738</td>\n",
              "      <td>398.410813</td>\n",
              "      <td>11.558279</td>\n",
              "      <td>31.997993</td>\n",
              "      <td>4.075075</td>\n",
              "      <td>0</td>\n",
              "    </tr>\n",
              "    <tr>\n",
              "      <th>5</th>\n",
              "      <td>5.584087</td>\n",
              "      <td>188.313324</td>\n",
              "      <td>28748.68774</td>\n",
              "      <td>7.544869</td>\n",
              "      <td>326.678363</td>\n",
              "      <td>280.467916</td>\n",
              "      <td>8.399735</td>\n",
              "      <td>54.917862</td>\n",
              "      <td>2.559708</td>\n",
              "      <td>0</td>\n",
              "    </tr>\n",
              "    <tr>\n",
              "      <th>6</th>\n",
              "      <td>10.223862</td>\n",
              "      <td>248.071735</td>\n",
              "      <td>28749.71654</td>\n",
              "      <td>7.513408</td>\n",
              "      <td>393.663395</td>\n",
              "      <td>283.651634</td>\n",
              "      <td>13.789695</td>\n",
              "      <td>84.603556</td>\n",
              "      <td>2.672989</td>\n",
              "      <td>0</td>\n",
              "    </tr>\n",
              "  </tbody>\n",
              "</table>\n",
              "</div>"
            ],
            "text/plain": [
              "          ph    Hardness       Solids  Chloramines     Sulfate  Conductivity  \\\n",
              "0   7.080795  204.890456  20791.31898     7.300212  368.516441    564.308654   \n",
              "1   3.716080  129.422921  18630.05786     6.635246  333.775777    592.885359   \n",
              "2   8.099124  224.236259  19909.54173     9.275884  333.775777    418.606213   \n",
              "3   8.316766  214.373394  22018.41744     8.059332  356.886136    363.266516   \n",
              "4   9.092223  181.101509  17978.98634     6.546600  310.135738    398.410813   \n",
              "5   5.584087  188.313324  28748.68774     7.544869  326.678363    280.467916   \n",
              "6  10.223862  248.071735  28749.71654     7.513408  393.663395    283.651634   \n",
              "\n",
              "   Organic_carbon  Trihalomethanes  Turbidity  Potability  \n",
              "0       10.379783        86.990970   2.963135           0  \n",
              "1       15.180013        56.329076   4.500656           0  \n",
              "2       16.868637        66.420093   3.055934           0  \n",
              "3       18.436525       100.341674   4.628771           0  \n",
              "4       11.558279        31.997993   4.075075           0  \n",
              "5        8.399735        54.917862   2.559708           0  \n",
              "6       13.789695        84.603556   2.672989           0  "
            ]
          },
          "execution_count": 13,
          "metadata": {},
          "output_type": "execute_result"
        }
      ],
      "source": [
        "water_data.head(7)"
      ]
    },
    {
      "cell_type": "markdown",
      "id": "71cd7940",
      "metadata": {
        "id": "71cd7940"
      },
      "source": [
        "#### Feature Engineering"
      ]
    },
    {
      "cell_type": "code",
      "execution_count": null,
      "id": "7104e596",
      "metadata": {
        "id": "7104e596",
        "outputId": "7549cda3-c84d-4c33-f210-4048475e76a0"
      },
      "outputs": [
        {
          "data": {
            "text/plain": [
              "ExtraTreesClassifier()"
            ]
          },
          "execution_count": 14,
          "metadata": {},
          "output_type": "execute_result"
        }
      ],
      "source": [
        "from sklearn.ensemble import ExtraTreesClassifier\n",
        "X = water_data.drop(['Potability'],axis=1)\n",
        "Y = water_data.Potability\n",
        "Ext = ExtraTreesClassifier()\n",
        "Ext.fit(X,Y)"
      ]
    },
    {
      "cell_type": "code",
      "execution_count": null,
      "id": "0da2178f",
      "metadata": {
        "id": "0da2178f",
        "outputId": "758d3104-af24-4ab2-aef4-8aa477c8529e"
      },
      "outputs": [
        {
          "name": "stdout",
          "output_type": "stream",
          "text": [
            "[0.12794432 0.117694   0.11248536 0.1122355  0.12622165 0.10150067\n",
            " 0.10038101 0.10129034 0.10024716]\n"
          ]
        }
      ],
      "source": [
        "print(Ext.feature_importances_)  # importance of features"
      ]
    },
    {
      "cell_type": "code",
      "execution_count": null,
      "id": "275c3086",
      "metadata": {
        "id": "275c3086",
        "outputId": "ff7cc00d-8771-45e1-c1c4-daed22d9bf92"
      },
      "outputs": [
        {
          "data": {
            "text/plain": [
              "<AxesSubplot:>"
            ]
          },
          "execution_count": 16,
          "metadata": {},
          "output_type": "execute_result"
        },
        {
          "data": {
            "image/png": "[encoded data removed]",
            "text/plain": [
              "<Figure size 432x288 with 1 Axes>"
            ]
          },
          "metadata": {
            "needs_background": "light"
          },
          "output_type": "display_data"
        }
      ],
      "source": [
        "feature = pd.Series(Ext.feature_importances_,index=X.columns)\n",
        "feature.sort_values(ascending=True).nlargest(10).plot(kind='barh')  # visualization of features in terms of their importance"
      ]
    },
    {
      "cell_type": "markdown",
      "id": "c98b5579",
      "metadata": {
        "id": "c98b5579"
      },
      "source": [
        "#### Standadization of data"
      ]
    },
    {
      "cell_type": "code",
      "execution_count": null,
      "id": "c18cf495",
      "metadata": {
        "id": "c18cf495",
        "outputId": "3ac4f123-283d-48d0-dac6-ed326982aa0b"
      },
      "outputs": [
        {
          "data": {
            "text/html": [
              "<div>\n",
              "<style scoped>\n",
              "    .dataframe tbody tr th:only-of-type {\n",
              "        vertical-align: middle;\n",
              "    }\n",
              "\n",
              "    .dataframe tbody tr th {\n",
              "        vertical-align: top;\n",
              "    }\n",
              "\n",
              "    .dataframe thead th {\n",
              "        text-align: right;\n",
              "    }\n",
              "</style>\n",
              "<table border=\"1\" class=\"dataframe\">\n",
              "  <thead>\n",
              "    <tr style=\"text-align: right;\">\n",
              "      <th></th>\n",
              "      <th>ph</th>\n",
              "      <th>Hardness</th>\n",
              "      <th>Solids</th>\n",
              "      <th>Chloramines</th>\n",
              "      <th>Sulfate</th>\n",
              "      <th>Conductivity</th>\n",
              "      <th>Organic_carbon</th>\n",
              "      <th>Trihalomethanes</th>\n",
              "      <th>Turbidity</th>\n",
              "    </tr>\n",
              "  </thead>\n",
              "  <tbody>\n",
              "    <tr>\n",
              "      <th>0</th>\n",
              "      <td>-1.027333e-14</td>\n",
              "      <td>0.259195</td>\n",
              "      <td>-0.139471</td>\n",
              "      <td>0.112415</td>\n",
              "      <td>9.613574e-01</td>\n",
              "      <td>1.708954</td>\n",
              "      <td>-1.180651</td>\n",
              "      <td>1.306149</td>\n",
              "      <td>-1.286298</td>\n",
              "    </tr>\n",
              "    <tr>\n",
              "      <th>1</th>\n",
              "      <td>-2.289339e+00</td>\n",
              "      <td>-2.036414</td>\n",
              "      <td>-0.385987</td>\n",
              "      <td>-0.307694</td>\n",
              "      <td>1.415694e-14</td>\n",
              "      <td>2.062575</td>\n",
              "      <td>0.270597</td>\n",
              "      <td>-0.638480</td>\n",
              "      <td>0.684218</td>\n",
              "    </tr>\n",
              "    <tr>\n",
              "      <th>2</th>\n",
              "      <td>6.928678e-01</td>\n",
              "      <td>0.847665</td>\n",
              "      <td>-0.240047</td>\n",
              "      <td>1.360594</td>\n",
              "      <td>1.415694e-14</td>\n",
              "      <td>-0.094032</td>\n",
              "      <td>0.781117</td>\n",
              "      <td>0.001509</td>\n",
              "      <td>-1.167365</td>\n",
              "    </tr>\n",
              "    <tr>\n",
              "      <th>3</th>\n",
              "      <td>8.409504e-01</td>\n",
              "      <td>0.547651</td>\n",
              "      <td>0.000493</td>\n",
              "      <td>0.592008</td>\n",
              "      <td>6.395190e-01</td>\n",
              "      <td>-0.778830</td>\n",
              "      <td>1.255134</td>\n",
              "      <td>2.152874</td>\n",
              "      <td>0.848412</td>\n",
              "    </tr>\n",
              "    <tr>\n",
              "      <th>4</th>\n",
              "      <td>1.368569e+00</td>\n",
              "      <td>-0.464429</td>\n",
              "      <td>-0.460249</td>\n",
              "      <td>-0.363698</td>\n",
              "      <td>-6.541765e-01</td>\n",
              "      <td>-0.343939</td>\n",
              "      <td>-0.824357</td>\n",
              "      <td>-2.181599</td>\n",
              "      <td>0.138786</td>\n",
              "    </tr>\n",
              "  </tbody>\n",
              "</table>\n",
              "</div>"
            ],
            "text/plain": [
              "             ph  Hardness    Solids  Chloramines       Sulfate  Conductivity  \\\n",
              "0 -1.027333e-14  0.259195 -0.139471     0.112415  9.613574e-01      1.708954   \n",
              "1 -2.289339e+00 -2.036414 -0.385987    -0.307694  1.415694e-14      2.062575   \n",
              "2  6.928678e-01  0.847665 -0.240047     1.360594  1.415694e-14     -0.094032   \n",
              "3  8.409504e-01  0.547651  0.000493     0.592008  6.395190e-01     -0.778830   \n",
              "4  1.368569e+00 -0.464429 -0.460249    -0.363698 -6.541765e-01     -0.343939   \n",
              "\n",
              "   Organic_carbon  Trihalomethanes  Turbidity  \n",
              "0       -1.180651         1.306149  -1.286298  \n",
              "1        0.270597        -0.638480   0.684218  \n",
              "2        0.781117         0.001509  -1.167365  \n",
              "3        1.255134         2.152874   0.848412  \n",
              "4       -0.824357        -2.181599   0.138786  "
            ]
          },
          "execution_count": 17,
          "metadata": {},
          "output_type": "execute_result"
        }
      ],
      "source": [
        "from sklearn.preprocessing import StandardScaler\n",
        "sc = StandardScaler()\n",
        "X_scaled = sc.fit_transform(X)\n",
        "\n",
        "scaled_water_data = pd.DataFrame(X_scaled, columns= X.columns)\n",
        "scaled_water_data.head()"
      ]
    },
    {
      "cell_type": "markdown",
      "id": "847ea0fe",
      "metadata": {
        "id": "847ea0fe"
      },
      "source": [
        "### ML Models"
      ]
    },
    {
      "cell_type": "code",
      "execution_count": null,
      "id": "eaaeffbf",
      "metadata": {
        "id": "eaaeffbf"
      },
      "outputs": [],
      "source": [
        "from sklearn.model_selection import train_test_split\n",
        "X_train, X_test, Y_train, Y_test = train_test_split(X, Y ,test_size=0.25, random_state = 0)"
      ]
    },
    {
      "cell_type": "markdown",
      "id": "7a30868a",
      "metadata": {
        "id": "7a30868a"
      },
      "source": [
        "#### Logistic Regression"
      ]
    },
    {
      "cell_type": "code",
      "execution_count": null,
      "id": "05c1f344",
      "metadata": {
        "id": "05c1f344",
        "outputId": "3435cb68-c59c-4c81-b07d-1b55a1cea03b"
      },
      "outputs": [
        {
          "data": {
            "text/plain": [
              "LogisticRegression(random_state=0)"
            ]
          },
          "execution_count": 19,
          "metadata": {},
          "output_type": "execute_result"
        }
      ],
      "source": [
        "from sklearn.linear_model import LogisticRegression\n",
        "lr = LogisticRegression(random_state = 0)\n",
        "lr.fit(X_train, Y_train)"
      ]
    },
    {
      "cell_type": "code",
      "execution_count": null,
      "id": "928d9de4",
      "metadata": {
        "id": "928d9de4"
      },
      "outputs": [],
      "source": [
        "pred1 = lr.predict(X_test)"
      ]
    },
    {
      "cell_type": "markdown",
      "id": "c2351a03",
      "metadata": {
        "id": "c2351a03"
      },
      "source": [
        "#### SVM "
      ]
    },
    {
      "cell_type": "code",
      "execution_count": null,
      "id": "a022dcd3",
      "metadata": {
        "id": "a022dcd3"
      },
      "outputs": [],
      "source": [
        "from sklearn.svm import SVC\n",
        "svm = SVC()\n",
        "svm.fit(X_train, Y_train)\n",
        "pred2 = svm.predict(X_test)"
      ]
    },
    {
      "cell_type": "markdown",
      "id": "b30140b7",
      "metadata": {
        "id": "b30140b7"
      },
      "source": [
        "#### Random Forest  Classifier"
      ]
    },
    {
      "cell_type": "code",
      "execution_count": null,
      "id": "010bd1a8",
      "metadata": {
        "id": "010bd1a8"
      },
      "outputs": [],
      "source": [
        "from sklearn.ensemble import RandomForestClassifier\n",
        "rf = RandomForestClassifier(n_estimators = 10 ,random_state=0)\n",
        "rf.fit(X_train, Y_train)\n",
        "pred3 = rf.predict(X_test)"
      ]
    },
    {
      "cell_type": "markdown",
      "id": "f47c2c54",
      "metadata": {
        "id": "f47c2c54"
      },
      "source": [
        "### Testing Models"
      ]
    },
    {
      "cell_type": "code",
      "execution_count": null,
      "id": "e97598c9",
      "metadata": {
        "id": "e97598c9"
      },
      "outputs": [],
      "source": [
        "from sklearn.metrics import accuracy_score, confusion_matrix"
      ]
    },
    {
      "cell_type": "code",
      "execution_count": null,
      "id": "6ed5b524",
      "metadata": {
        "id": "6ed5b524",
        "outputId": "02097519-93b5-41f8-b6d6-751649845349"
      },
      "outputs": [
        {
          "name": "stdout",
          "output_type": "stream",
          "text": [
            "[[501   1]\n",
            " [317   0]]\n"
          ]
        }
      ],
      "source": [
        "cm = confusion_matrix(Y_test, pred1)\n",
        "print(cm)"
      ]
    },
    {
      "cell_type": "code",
      "execution_count": null,
      "id": "59d863ce",
      "metadata": {
        "id": "59d863ce",
        "outputId": "9c66f963-9a98-42eb-b325-434723c93568"
      },
      "outputs": [
        {
          "name": "stdout",
          "output_type": "stream",
          "text": [
            "[[501   1]\n",
            " [317   0]]\n"
          ]
        }
      ],
      "source": [
        "cm_2 = confusion_matrix(Y_test, pred2)\n",
        "print(cm_2)"
      ]
    },
    {
      "cell_type": "code",
      "execution_count": null,
      "id": "0c6ab7a1",
      "metadata": {
        "id": "0c6ab7a1",
        "outputId": "aeee35dd-17d2-4e9a-e8db-bd2e7584a26e"
      },
      "outputs": [
        {
          "name": "stdout",
          "output_type": "stream",
          "text": [
            "[[444  58]\n",
            " [213 104]]\n"
          ]
        }
      ],
      "source": [
        "cm_3 = confusion_matrix(Y_test, pred3)\n",
        "print(cm_3)"
      ]
    },
    {
      "cell_type": "code",
      "execution_count": null,
      "id": "4e01e00f",
      "metadata": {
        "id": "4e01e00f",
        "outputId": "088387ac-73eb-4db8-f83a-84ccd2855d1c"
      },
      "outputs": [
        {
          "data": {
            "text/html": [
              "<div>\n",
              "<style scoped>\n",
              "    .dataframe tbody tr th:only-of-type {\n",
              "        vertical-align: middle;\n",
              "    }\n",
              "\n",
              "    .dataframe tbody tr th {\n",
              "        vertical-align: top;\n",
              "    }\n",
              "\n",
              "    .dataframe thead th {\n",
              "        text-align: right;\n",
              "    }\n",
              "</style>\n",
              "<table border=\"1\" class=\"dataframe\">\n",
              "  <thead>\n",
              "    <tr style=\"text-align: right;\">\n",
              "      <th></th>\n",
              "      <th>Model</th>\n",
              "      <th>Accuracy Score</th>\n",
              "    </tr>\n",
              "  </thead>\n",
              "  <tbody>\n",
              "    <tr>\n",
              "      <th>2</th>\n",
              "      <td>Random Forest Classification</td>\n",
              "      <td>0.669109</td>\n",
              "    </tr>\n",
              "    <tr>\n",
              "      <th>0</th>\n",
              "      <td>Logistic Regression</td>\n",
              "      <td>0.611722</td>\n",
              "    </tr>\n",
              "    <tr>\n",
              "      <th>1</th>\n",
              "      <td>SVM</td>\n",
              "      <td>0.611722</td>\n",
              "    </tr>\n",
              "  </tbody>\n",
              "</table>\n",
              "</div>"
            ],
            "text/plain": [
              "                          Model  Accuracy Score\n",
              "2  Random Forest Classification        0.669109\n",
              "0           Logistic Regression        0.611722\n",
              "1                           SVM        0.611722"
            ]
          },
          "execution_count": 24,
          "metadata": {},
          "output_type": "execute_result"
        }
      ],
      "source": [
        "models=pd.DataFrame({\n",
        "    'Model':['Logistic Regression', 'SVM', 'Random Forest Classification'],\n",
        "    'Accuracy Score':[accuracy_score(Y_test, pred1), accuracy_score(Y_test, pred2), accuracy_score(Y_test, pred3)]\n",
        "})\n",
        "models.sort_values(by ='Accuracy Score', ascending=False)"
      ]
    }
  ],
  "metadata": {
    "kernelspec": {
      "display_name": "Python 3 (ipykernel)",
      "language": "python",
      "name": "python3"
    },
    "language_info": {
      "codemirror_mode": {
        "name": "ipython",
        "version": 3
      },
      "file_extension": ".py",
      "mimetype": "text/x-python",
      "name": "python",
      "nbconvert_exporter": "python",
      "pygments_lexer": "ipython3",
      "version": "3.9.12"
    },
    "colab": {
      "name": "ML Project - On Drinking water potability.ipynb",
      "provenance": [],
      "include_colab_link": true
    }
  },
  "nbformat": 4,
  "nbformat_minor": 5
}