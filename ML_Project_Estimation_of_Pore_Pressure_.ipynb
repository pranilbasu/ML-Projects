{
  "cells": [
    {
      "cell_type": "markdown",
      "metadata": {
        "id": "view-in-github",
        "colab_type": "text"
      },
      "source": [
        "<a href=\"https://colab.research.google.com/github/pranilbasu/ML-Projects/blob/main/ML_Project_Estimation_of_Pore_Pressure_.ipynb\" target=\"_parent\"><img src=\"https://colab.research.google.com/assets/colab-badge.svg\" alt=\"Open In Colab\"/></a>"
      ]
    },
    {
      "cell_type": "markdown",
      "id": "15e32c9a",
      "metadata": {
        "id": "15e32c9a"
      },
      "source": [
        "# Estimation of Pore Pressure"
      ]
    },
    {
      "cell_type": "code",
      "execution_count": null,
      "id": "1bee17d6",
      "metadata": {
        "id": "1bee17d6"
      },
      "outputs": [],
      "source": [
        "#importing libraries\n",
        "import pandas as pd \n",
        "import numpy as np\n",
        "import matplotlib.pyplot as plt\n",
        "import seaborn as sns\n",
        "import warnings\n",
        "warnings.filterwarnings('ignore')\n",
        "%matplotlib inline"
      ]
    },
    {
      "cell_type": "code",
      "execution_count": null,
      "id": "34eba187",
      "metadata": {
        "id": "34eba187"
      },
      "outputs": [],
      "source": [
        "#importing datasets\n",
        "well1 = pd.read_csv('well 1.csv')\n",
        "well2 = pd.read_csv('well 2.csv')\n",
        "well3 = pd.read_csv('well 3.csv')\n",
        "well4 = pd.read_csv('well 4.csv')\n",
        "well5 = pd.read_csv('well 5.csv')\n",
        "well6 = pd.read_csv('well 6.csv')\n",
        "well7 = pd.read_csv('well 7.csv')\n",
        "well8 = pd.read_csv('well 8.csv')"
      ]
    },
    {
      "cell_type": "code",
      "execution_count": null,
      "id": "f854c986",
      "metadata": {
        "id": "f854c986"
      },
      "outputs": [],
      "source": [
        "well_data = pd.concat([well1,well2,well3,well4,well5,well6,well7,well8])  #concatenation of different well data"
      ]
    },
    {
      "cell_type": "markdown",
      "id": "840548ea",
      "metadata": {
        "id": "840548ea"
      },
      "source": [
        "###### Symbols: GR - Gamma Ray;  RHOB - Density; Vp - P-wave velocity; Vsh - S-wave velocity; PP - Pore Pressure"
      ]
    },
    {
      "cell_type": "code",
      "execution_count": null,
      "id": "7deb58d8",
      "metadata": {
        "id": "7deb58d8",
        "outputId": "540920d5-1d59-43fd-f81b-c1fd1c010dc5"
      },
      "outputs": [
        {
          "data": {
            "text/html": [
              "<div>\n",
              "<style scoped>\n",
              "    .dataframe tbody tr th:only-of-type {\n",
              "        vertical-align: middle;\n",
              "    }\n",
              "\n",
              "    .dataframe tbody tr th {\n",
              "        vertical-align: top;\n",
              "    }\n",
              "\n",
              "    .dataframe thead th {\n",
              "        text-align: right;\n",
              "    }\n",
              "</style>\n",
              "<table border=\"1\" class=\"dataframe\">\n",
              "  <thead>\n",
              "    <tr style=\"text-align: right;\">\n",
              "      <th></th>\n",
              "      <th>DEPTH</th>\n",
              "      <th>GR</th>\n",
              "      <th>RHOB</th>\n",
              "      <th>Vp</th>\n",
              "      <th>Vsh</th>\n",
              "      <th>Caliper</th>\n",
              "      <th>Porosity</th>\n",
              "      <th>Resistivity</th>\n",
              "      <th>Stress</th>\n",
              "      <th>PP</th>\n",
              "    </tr>\n",
              "  </thead>\n",
              "  <tbody>\n",
              "    <tr>\n",
              "      <th>0</th>\n",
              "      <td>22.0024</td>\n",
              "      <td>57.3820</td>\n",
              "      <td>1.4506</td>\n",
              "      <td>1.4614</td>\n",
              "      <td>0.033808</td>\n",
              "      <td>11.4844</td>\n",
              "      <td>66.1596</td>\n",
              "      <td>0.7881</td>\n",
              "      <td>312783.4781</td>\n",
              "      <td>1609.0</td>\n",
              "    </tr>\n",
              "    <tr>\n",
              "      <th>1</th>\n",
              "      <td>22.1548</td>\n",
              "      <td>58.0070</td>\n",
              "      <td>1.4506</td>\n",
              "      <td>1.4594</td>\n",
              "      <td>0.044766</td>\n",
              "      <td>11.4844</td>\n",
              "      <td>66.1591</td>\n",
              "      <td>0.7751</td>\n",
              "      <td>314949.9782</td>\n",
              "      <td>1609.0</td>\n",
              "    </tr>\n",
              "    <tr>\n",
              "      <th>2</th>\n",
              "      <td>22.3072</td>\n",
              "      <td>59.1046</td>\n",
              "      <td>1.4506</td>\n",
              "      <td>1.4577</td>\n",
              "      <td>0.064012</td>\n",
              "      <td>11.4844</td>\n",
              "      <td>66.1585</td>\n",
              "      <td>0.7798</td>\n",
              "      <td>317116.4783</td>\n",
              "      <td>1609.0</td>\n",
              "    </tr>\n",
              "    <tr>\n",
              "      <th>3</th>\n",
              "      <td>22.4596</td>\n",
              "      <td>59.2124</td>\n",
              "      <td>1.4506</td>\n",
              "      <td>1.4567</td>\n",
              "      <td>0.065902</td>\n",
              "      <td>11.4844</td>\n",
              "      <td>66.1581</td>\n",
              "      <td>0.7711</td>\n",
              "      <td>319282.9784</td>\n",
              "      <td>1609.0</td>\n",
              "    </tr>\n",
              "    <tr>\n",
              "      <th>4</th>\n",
              "      <td>22.6120</td>\n",
              "      <td>59.8294</td>\n",
              "      <td>1.4506</td>\n",
              "      <td>1.4564</td>\n",
              "      <td>0.076721</td>\n",
              "      <td>11.4844</td>\n",
              "      <td>66.1575</td>\n",
              "      <td>0.7446</td>\n",
              "      <td>321449.4786</td>\n",
              "      <td>1609.0</td>\n",
              "    </tr>\n",
              "    <tr>\n",
              "      <th>5</th>\n",
              "      <td>22.7644</td>\n",
              "      <td>57.6985</td>\n",
              "      <td>1.4506</td>\n",
              "      <td>1.4569</td>\n",
              "      <td>0.039357</td>\n",
              "      <td>11.4844</td>\n",
              "      <td>66.1571</td>\n",
              "      <td>0.7671</td>\n",
              "      <td>323615.9787</td>\n",
              "      <td>1609.0</td>\n",
              "    </tr>\n",
              "    <tr>\n",
              "      <th>6</th>\n",
              "      <td>22.9168</td>\n",
              "      <td>56.6422</td>\n",
              "      <td>1.4506</td>\n",
              "      <td>1.4581</td>\n",
              "      <td>0.020836</td>\n",
              "      <td>11.4844</td>\n",
              "      <td>66.1566</td>\n",
              "      <td>0.7528</td>\n",
              "      <td>325782.4788</td>\n",
              "      <td>1609.0</td>\n",
              "    </tr>\n",
              "  </tbody>\n",
              "</table>\n",
              "</div>"
            ],
            "text/plain": [
              "     DEPTH       GR    RHOB      Vp       Vsh  Caliper  Porosity  Resistivity  \\\n",
              "0  22.0024  57.3820  1.4506  1.4614  0.033808  11.4844   66.1596       0.7881   \n",
              "1  22.1548  58.0070  1.4506  1.4594  0.044766  11.4844   66.1591       0.7751   \n",
              "2  22.3072  59.1046  1.4506  1.4577  0.064012  11.4844   66.1585       0.7798   \n",
              "3  22.4596  59.2124  1.4506  1.4567  0.065902  11.4844   66.1581       0.7711   \n",
              "4  22.6120  59.8294  1.4506  1.4564  0.076721  11.4844   66.1575       0.7446   \n",
              "5  22.7644  57.6985  1.4506  1.4569  0.039357  11.4844   66.1571       0.7671   \n",
              "6  22.9168  56.6422  1.4506  1.4581  0.020836  11.4844   66.1566       0.7528   \n",
              "\n",
              "        Stress      PP  \n",
              "0  312783.4781  1609.0  \n",
              "1  314949.9782  1609.0  \n",
              "2  317116.4783  1609.0  \n",
              "3  319282.9784  1609.0  \n",
              "4  321449.4786  1609.0  \n",
              "5  323615.9787  1609.0  \n",
              "6  325782.4788  1609.0  "
            ]
          },
          "execution_count": 4,
          "metadata": {},
          "output_type": "execute_result"
        }
      ],
      "source": [
        "well_data.head(7)  #preview of data"
      ]
    },
    {
      "cell_type": "code",
      "execution_count": null,
      "id": "6aa1e31a",
      "metadata": {
        "id": "6aa1e31a",
        "outputId": "68eabaa6-f635-4521-ccc0-d93d7307886e"
      },
      "outputs": [
        {
          "data": {
            "text/plain": [
              "DEPTH          0\n",
              "GR             0\n",
              "RHOB           0\n",
              "Vp             0\n",
              "Vsh            0\n",
              "Caliper        0\n",
              "Porosity       0\n",
              "Resistivity    0\n",
              "Stress         0\n",
              "PP             0\n",
              "dtype: int64"
            ]
          },
          "execution_count": 5,
          "metadata": {},
          "output_type": "execute_result"
        }
      ],
      "source": [
        "well_data.isnull().sum()  # missing data (if any)"
      ]
    },
    {
      "cell_type": "markdown",
      "id": "22ff156b",
      "metadata": {
        "id": "22ff156b"
      },
      "source": [
        "### Dealing with Outliers"
      ]
    },
    {
      "cell_type": "code",
      "execution_count": null,
      "id": "d26b24cd",
      "metadata": {
        "id": "d26b24cd",
        "outputId": "2ff1373f-05ef-4be4-9188-272cc0baf5c9"
      },
      "outputs": [
        {
          "data": {
            "image/png": "[encoded data removed]",
            "text/plain": [
              "<Figure size 432x288 with 1 Axes>"
            ]
          },
          "metadata": {
            "needs_background": "light"
          },
          "output_type": "display_data"
        },
        {
          "data": {
            "image/png": "[encoded data removed]",
            "text/plain": [
              "<Figure size 432x288 with 1 Axes>"
            ]
          },
          "metadata": {
            "needs_background": "light"
          },
          "output_type": "display_data"
        },
        {
          "data": {
            "image/png": "[encoded data removed]",
            "text/plain": [
              "<Figure size 432x288 with 1 Axes>"
            ]
          },
          "metadata": {
            "needs_background": "light"
          },
          "output_type": "display_data"
        },
        {
          "data": {
            "image/png": "[encoded data removed]",
            "text/plain": [
              "<Figure size 432x288 with 1 Axes>"
            ]
          },
          "metadata": {
            "needs_background": "light"
          },
          "output_type": "display_data"
        },
        {
          "data": {
            "image/png": "[encoded data removed]",
            "text/plain": [
              "<Figure size 432x288 with 1 Axes>"
            ]
          },
          "metadata": {
            "needs_background": "light"
          },
          "output_type": "display_data"
        },
        {
          "data": {
            "image/png": "[encoded data removed]",
            "text/plain": [
              "<Figure size 432x288 with 1 Axes>"
            ]
          },
          "metadata": {
            "needs_background": "light"
          },
          "output_type": "display_data"
        },
        {
          "data": {
            "image/png": "[encoded data removed]",
            "text/plain": [
              "<Figure size 432x288 with 1 Axes>"
            ]
          },
          "metadata": {
            "needs_background": "light"
          },
          "output_type": "display_data"
        },
        {
          "data": {
            "image/png": "[encoded data removed]",
            "text/plain": [
              "<Figure size 432x288 with 1 Axes>"
            ]
          },
          "metadata": {
            "needs_background": "light"
          },
          "output_type": "display_data"
        },
        {
          "data": {
            "image/png": "[encoded data removed]",
            "text/plain": [
              "<Figure size 432x288 with 1 Axes>"
            ]
          },
          "metadata": {
            "needs_background": "light"
          },
          "output_type": "display_data"
        },
        {
          "data": {
            "image/png": "[encoded data removed]",
            "text/plain": [
              "<Figure size 432x288 with 1 Axes>"
            ]
          },
          "metadata": {
            "needs_background": "light"
          },
          "output_type": "display_data"
        }
      ],
      "source": [
        "cols= ['DEPTH', 'GR', 'RHOB', 'Vp', 'Vsh', 'Caliper', 'Porosity',\n",
        "       'Resistivity', 'PP','Stress']\n",
        "for col in cols :\n",
        "    plt.figure()\n",
        "    sns.distplot(well_data[col], kde = False)            #visualization of raw data"
      ]
    },
    {
      "cell_type": "code",
      "execution_count": null,
      "id": "59fb7d4b",
      "metadata": {
        "id": "59fb7d4b"
      },
      "outputs": [],
      "source": [
        "#Removal of outliers for each category (except stress, Depth & PP)\n",
        "\n",
        "# GR\n",
        "well_data['GR'][well_data['GR']<73]= np.nan\n",
        "# RHOB\n",
        "well_data['RHOB'][well_data['RHOB']<1.45] = np.nan\n",
        "# Vp\n",
        "well_data['Vp'][well_data['Vp']>1.70] = np.nan\n",
        "# Vsh\n",
        "well_data['Vsh'][well_data['Vsh']<0.37] = np.nan\n",
        "# Caliper\n",
        "well_data['Caliper'][well_data['Caliper']>11.3]= np.nan\n",
        "# Porosity\n",
        "well_data['Porosity'][well_data['Porosity']>77]= np.nan\n",
        "# Resistivity\n",
        "well_data['Resistivity'][well_data['Resistivity']>1.55]= np.nan"
      ]
    },
    {
      "cell_type": "code",
      "execution_count": null,
      "id": "578ad579",
      "metadata": {
        "id": "578ad579"
      },
      "outputs": [],
      "source": [
        "well_data = well_data.dropna()"
      ]
    },
    {
      "cell_type": "code",
      "execution_count": null,
      "id": "6724a1d0",
      "metadata": {
        "id": "6724a1d0",
        "outputId": "18b25178-a284-4f74-f505-7ed6e6e37189"
      },
      "outputs": [
        {
          "data": {
            "text/html": [
              "<div>\n",
              "<style scoped>\n",
              "    .dataframe tbody tr th:only-of-type {\n",
              "        vertical-align: middle;\n",
              "    }\n",
              "\n",
              "    .dataframe tbody tr th {\n",
              "        vertical-align: top;\n",
              "    }\n",
              "\n",
              "    .dataframe thead th {\n",
              "        text-align: right;\n",
              "    }\n",
              "</style>\n",
              "<table border=\"1\" class=\"dataframe\">\n",
              "  <thead>\n",
              "    <tr style=\"text-align: right;\">\n",
              "      <th></th>\n",
              "      <th>DEPTH</th>\n",
              "      <th>GR</th>\n",
              "      <th>RHOB</th>\n",
              "      <th>Vp</th>\n",
              "      <th>Vsh</th>\n",
              "      <th>Caliper</th>\n",
              "      <th>Porosity</th>\n",
              "      <th>Resistivity</th>\n",
              "      <th>Stress</th>\n",
              "      <th>PP</th>\n",
              "    </tr>\n",
              "  </thead>\n",
              "  <tbody>\n",
              "    <tr>\n",
              "      <th>68</th>\n",
              "      <td>32.3656</td>\n",
              "      <td>80.9292</td>\n",
              "      <td>1.5247</td>\n",
              "      <td>1.4885</td>\n",
              "      <td>0.370776</td>\n",
              "      <td>11.0806</td>\n",
              "      <td>67.8705</td>\n",
              "      <td>0.8250</td>\n",
              "      <td>4.836087e+05</td>\n",
              "      <td>1617.0</td>\n",
              "    </tr>\n",
              "    <tr>\n",
              "      <th>74</th>\n",
              "      <td>33.2800</td>\n",
              "      <td>74.3024</td>\n",
              "      <td>1.5540</td>\n",
              "      <td>1.4882</td>\n",
              "      <td>0.375210</td>\n",
              "      <td>10.9000</td>\n",
              "      <td>65.7560</td>\n",
              "      <td>0.7660</td>\n",
              "      <td>5.068278e+05</td>\n",
              "      <td>1617.0</td>\n",
              "    </tr>\n",
              "    <tr>\n",
              "      <th>75</th>\n",
              "      <td>33.4324</td>\n",
              "      <td>82.5181</td>\n",
              "      <td>1.5606</td>\n",
              "      <td>1.4904</td>\n",
              "      <td>0.497536</td>\n",
              "      <td>10.8887</td>\n",
              "      <td>68.3832</td>\n",
              "      <td>0.7877</td>\n",
              "      <td>5.113111e+05</td>\n",
              "      <td>1620.0</td>\n",
              "    </tr>\n",
              "    <tr>\n",
              "      <th>81</th>\n",
              "      <td>34.3468</td>\n",
              "      <td>85.4473</td>\n",
              "      <td>1.5604</td>\n",
              "      <td>1.4921</td>\n",
              "      <td>0.524082</td>\n",
              "      <td>11.0477</td>\n",
              "      <td>70.3602</td>\n",
              "      <td>0.7576</td>\n",
              "      <td>5.252285e+05</td>\n",
              "      <td>1621.0</td>\n",
              "    </tr>\n",
              "    <tr>\n",
              "      <th>86</th>\n",
              "      <td>35.1088</td>\n",
              "      <td>76.5998</td>\n",
              "      <td>1.5896</td>\n",
              "      <td>1.4961</td>\n",
              "      <td>0.525943</td>\n",
              "      <td>10.7758</td>\n",
              "      <td>67.0265</td>\n",
              "      <td>0.8186</td>\n",
              "      <td>5.469277e+05</td>\n",
              "      <td>1621.0</td>\n",
              "    </tr>\n",
              "    <tr>\n",
              "      <th>...</th>\n",
              "      <td>...</td>\n",
              "      <td>...</td>\n",
              "      <td>...</td>\n",
              "      <td>...</td>\n",
              "      <td>...</td>\n",
              "      <td>...</td>\n",
              "      <td>...</td>\n",
              "      <td>...</td>\n",
              "      <td>...</td>\n",
              "      <td>...</td>\n",
              "    </tr>\n",
              "    <tr>\n",
              "      <th>1038</th>\n",
              "      <td>181.3026</td>\n",
              "      <td>105.3357</td>\n",
              "      <td>1.8353</td>\n",
              "      <td>1.4914</td>\n",
              "      <td>0.898063</td>\n",
              "      <td>9.9461</td>\n",
              "      <td>51.5604</td>\n",
              "      <td>1.1152</td>\n",
              "      <td>3.260898e+06</td>\n",
              "      <td>1805.0</td>\n",
              "    </tr>\n",
              "    <tr>\n",
              "      <th>1039</th>\n",
              "      <td>181.4550</td>\n",
              "      <td>103.8500</td>\n",
              "      <td>1.8245</td>\n",
              "      <td>1.4815</td>\n",
              "      <td>0.876908</td>\n",
              "      <td>9.9117</td>\n",
              "      <td>54.9033</td>\n",
              "      <td>1.1240</td>\n",
              "      <td>3.244434e+06</td>\n",
              "      <td>1805.0</td>\n",
              "    </tr>\n",
              "    <tr>\n",
              "      <th>1040</th>\n",
              "      <td>181.6074</td>\n",
              "      <td>103.2400</td>\n",
              "      <td>1.8128</td>\n",
              "      <td>1.4755</td>\n",
              "      <td>0.868221</td>\n",
              "      <td>9.8249</td>\n",
              "      <td>52.2509</td>\n",
              "      <td>1.1346</td>\n",
              "      <td>3.226335e+06</td>\n",
              "      <td>1803.0</td>\n",
              "    </tr>\n",
              "    <tr>\n",
              "      <th>1041</th>\n",
              "      <td>181.7598</td>\n",
              "      <td>102.9838</td>\n",
              "      <td>1.7950</td>\n",
              "      <td>1.4691</td>\n",
              "      <td>0.864573</td>\n",
              "      <td>9.8545</td>\n",
              "      <td>53.2176</td>\n",
              "      <td>1.1472</td>\n",
              "      <td>3.197337e+06</td>\n",
              "      <td>1808.0</td>\n",
              "    </tr>\n",
              "    <tr>\n",
              "      <th>1042</th>\n",
              "      <td>181.9122</td>\n",
              "      <td>102.4681</td>\n",
              "      <td>1.7789</td>\n",
              "      <td>1.4668</td>\n",
              "      <td>0.857230</td>\n",
              "      <td>9.9515</td>\n",
              "      <td>51.5455</td>\n",
              "      <td>1.1467</td>\n",
              "      <td>3.171315e+06</td>\n",
              "      <td>1808.0</td>\n",
              "    </tr>\n",
              "  </tbody>\n",
              "</table>\n",
              "<p>10652 rows × 10 columns</p>\n",
              "</div>"
            ],
            "text/plain": [
              "         DEPTH        GR    RHOB      Vp       Vsh  Caliper  Porosity  \\\n",
              "68     32.3656   80.9292  1.5247  1.4885  0.370776  11.0806   67.8705   \n",
              "74     33.2800   74.3024  1.5540  1.4882  0.375210  10.9000   65.7560   \n",
              "75     33.4324   82.5181  1.5606  1.4904  0.497536  10.8887   68.3832   \n",
              "81     34.3468   85.4473  1.5604  1.4921  0.524082  11.0477   70.3602   \n",
              "86     35.1088   76.5998  1.5896  1.4961  0.525943  10.7758   67.0265   \n",
              "...        ...       ...     ...     ...       ...      ...       ...   \n",
              "1038  181.3026  105.3357  1.8353  1.4914  0.898063   9.9461   51.5604   \n",
              "1039  181.4550  103.8500  1.8245  1.4815  0.876908   9.9117   54.9033   \n",
              "1040  181.6074  103.2400  1.8128  1.4755  0.868221   9.8249   52.2509   \n",
              "1041  181.7598  102.9838  1.7950  1.4691  0.864573   9.8545   53.2176   \n",
              "1042  181.9122  102.4681  1.7789  1.4668  0.857230   9.9515   51.5455   \n",
              "\n",
              "      Resistivity        Stress      PP  \n",
              "68         0.8250  4.836087e+05  1617.0  \n",
              "74         0.7660  5.068278e+05  1617.0  \n",
              "75         0.7877  5.113111e+05  1620.0  \n",
              "81         0.7576  5.252285e+05  1621.0  \n",
              "86         0.8186  5.469277e+05  1621.0  \n",
              "...           ...           ...     ...  \n",
              "1038       1.1152  3.260898e+06  1805.0  \n",
              "1039       1.1240  3.244434e+06  1805.0  \n",
              "1040       1.1346  3.226335e+06  1803.0  \n",
              "1041       1.1472  3.197337e+06  1808.0  \n",
              "1042       1.1467  3.171315e+06  1808.0  \n",
              "\n",
              "[10652 rows x 10 columns]"
            ]
          },
          "execution_count": 9,
          "metadata": {},
          "output_type": "execute_result"
        }
      ],
      "source": [
        "well_data"
      ]
    },
    {
      "cell_type": "code",
      "execution_count": null,
      "id": "281cb600",
      "metadata": {
        "id": "281cb600",
        "outputId": "52240744-2f04-4889-9c92-1a98aa596c9d"
      },
      "outputs": [
        {
          "data": {
            "image/png": "[encoded data removed]",
            "text/plain": [
              "<Figure size 432x288 with 1 Axes>"
            ]
          },
          "metadata": {
            "needs_background": "light"
          },
          "output_type": "display_data"
        },
        {
          "data": {
            "image/png": "[encoded data removed]",
            "text/plain": [
              "<Figure size 432x288 with 1 Axes>"
            ]
          },
          "metadata": {
            "needs_background": "light"
          },
          "output_type": "display_data"
        },
        {
          "data": {
            "image/png": "[encoded data removed]",
            "text/plain": [
              "<Figure size 432x288 with 1 Axes>"
            ]
          },
          "metadata": {
            "needs_background": "light"
          },
          "output_type": "display_data"
        },
        {
          "data": {
            "image/png": "[encoded data removed]",
            "text/plain": [
              "<Figure size 432x288 with 1 Axes>"
            ]
          },
          "metadata": {
            "needs_background": "light"
          },
          "output_type": "display_data"
        },
        {
          "data": {
            "image/png": "[encoded data removed]",
            "text/plain": [
              "<Figure size 432x288 with 1 Axes>"
            ]
          },
          "metadata": {
            "needs_background": "light"
          },
          "output_type": "display_data"
        },
        {
          "data": {
            "image/png": "[encoded data removed]",
            "text/plain": [
              "<Figure size 432x288 with 1 Axes>"
            ]
          },
          "metadata": {
            "needs_background": "light"
          },
          "output_type": "display_data"
        },
        {
          "data": {
            "image/png": "[encoded data removed]",
            "text/plain": [
              "<Figure size 432x288 with 1 Axes>"
            ]
          },
          "metadata": {
            "needs_background": "light"
          },
          "output_type": "display_data"
        },
        {
          "data": {
            "image/png": "[encoded data removed]",
            "text/plain": [
              "<Figure size 432x288 with 1 Axes>"
            ]
          },
          "metadata": {
            "needs_background": "light"
          },
          "output_type": "display_data"
        },
        {
          "data": {
            "image/png": "[encoded data removed]",
            "text/plain": [
              "<Figure size 432x288 with 1 Axes>"
            ]
          },
          "metadata": {
            "needs_background": "light"
          },
          "output_type": "display_data"
        },
        {
          "data": {
            "image/png": "[encoded data removed]",
            "text/plain": [
              "<Figure size 432x288 with 1 Axes>"
            ]
          },
          "metadata": {
            "needs_background": "light"
          },
          "output_type": "display_data"
        }
      ],
      "source": [
        "for col in cols :\n",
        "    plt.figure()\n",
        "    sns.distplot(well_data[col], kde = False)  #visualization after removal of outliers"
      ]
    },
    {
      "cell_type": "markdown",
      "id": "9f8b9aa0",
      "metadata": {
        "id": "9f8b9aa0"
      },
      "source": [
        "### Scaling the values to (0,1)"
      ]
    },
    {
      "cell_type": "code",
      "execution_count": null,
      "id": "50b7fa06",
      "metadata": {
        "id": "50b7fa06"
      },
      "outputs": [],
      "source": [
        "from sklearn.preprocessing import MinMaxScaler\n",
        "scale = MinMaxScaler()\n",
        "cols = ['GR', 'RHOB', 'Vp', 'Vsh', 'Caliper', 'Porosity', 'Resistivity','Stress']   #only those categories are taken which will be scaled between 0 and 1\n",
        "scaled= scale.fit_transform(well_data[['GR', 'RHOB', 'Vp', 'Vsh', 'Caliper', 'Porosity','Resistivity','Stress']])\n",
        "scaled_wd= pd.DataFrame(scaled, columns= cols)"
      ]
    },
    {
      "cell_type": "code",
      "execution_count": null,
      "id": "63b0f1f6",
      "metadata": {
        "id": "63b0f1f6",
        "outputId": "ad8d4a62-8ef1-4b6d-ab8e-c53fd5d42cab"
      },
      "outputs": [
        {
          "data": {
            "text/html": [
              "<div>\n",
              "<style scoped>\n",
              "    .dataframe tbody tr th:only-of-type {\n",
              "        vertical-align: middle;\n",
              "    }\n",
              "\n",
              "    .dataframe tbody tr th {\n",
              "        vertical-align: top;\n",
              "    }\n",
              "\n",
              "    .dataframe thead th {\n",
              "        text-align: right;\n",
              "    }\n",
              "</style>\n",
              "<table border=\"1\" class=\"dataframe\">\n",
              "  <thead>\n",
              "    <tr style=\"text-align: right;\">\n",
              "      <th></th>\n",
              "      <th>GR</th>\n",
              "      <th>RHOB</th>\n",
              "      <th>Vp</th>\n",
              "      <th>Vsh</th>\n",
              "      <th>Caliper</th>\n",
              "      <th>Porosity</th>\n",
              "      <th>Resistivity</th>\n",
              "      <th>Stress</th>\n",
              "    </tr>\n",
              "  </thead>\n",
              "  <tbody>\n",
              "    <tr>\n",
              "      <th>0</th>\n",
              "      <td>0.188518</td>\n",
              "      <td>0.111261</td>\n",
              "      <td>0.999790</td>\n",
              "      <td>0.000000</td>\n",
              "      <td>0.885374</td>\n",
              "      <td>0.746356</td>\n",
              "      <td>0.352810</td>\n",
              "      <td>0.014843</td>\n",
              "    </tr>\n",
              "    <tr>\n",
              "      <th>1</th>\n",
              "      <td>0.030664</td>\n",
              "      <td>0.155196</td>\n",
              "      <td>0.999789</td>\n",
              "      <td>0.006670</td>\n",
              "      <td>0.789356</td>\n",
              "      <td>0.687240</td>\n",
              "      <td>0.300018</td>\n",
              "      <td>0.018390</td>\n",
              "    </tr>\n",
              "    <tr>\n",
              "      <th>2</th>\n",
              "      <td>0.226367</td>\n",
              "      <td>0.165092</td>\n",
              "      <td>0.999792</td>\n",
              "      <td>0.190662</td>\n",
              "      <td>0.783348</td>\n",
              "      <td>0.760690</td>\n",
              "      <td>0.319435</td>\n",
              "      <td>0.019075</td>\n",
              "    </tr>\n",
              "    <tr>\n",
              "      <th>3</th>\n",
              "      <td>0.296142</td>\n",
              "      <td>0.164792</td>\n",
              "      <td>0.999793</td>\n",
              "      <td>0.230592</td>\n",
              "      <td>0.867882</td>\n",
              "      <td>0.815963</td>\n",
              "      <td>0.292502</td>\n",
              "      <td>0.021201</td>\n",
              "    </tr>\n",
              "    <tr>\n",
              "      <th>4</th>\n",
              "      <td>0.085390</td>\n",
              "      <td>0.208577</td>\n",
              "      <td>0.999797</td>\n",
              "      <td>0.233390</td>\n",
              "      <td>0.723324</td>\n",
              "      <td>0.722760</td>\n",
              "      <td>0.347083</td>\n",
              "      <td>0.024515</td>\n",
              "    </tr>\n",
              "    <tr>\n",
              "      <th>...</th>\n",
              "      <td>...</td>\n",
              "      <td>...</td>\n",
              "      <td>...</td>\n",
              "      <td>...</td>\n",
              "      <td>...</td>\n",
              "      <td>...</td>\n",
              "      <td>...</td>\n",
              "      <td>...</td>\n",
              "    </tr>\n",
              "    <tr>\n",
              "      <th>10647</th>\n",
              "      <td>0.769896</td>\n",
              "      <td>0.576998</td>\n",
              "      <td>0.999793</td>\n",
              "      <td>0.793104</td>\n",
              "      <td>0.282205</td>\n",
              "      <td>0.290363</td>\n",
              "      <td>0.612473</td>\n",
              "      <td>0.439111</td>\n",
              "    </tr>\n",
              "    <tr>\n",
              "      <th>10648</th>\n",
              "      <td>0.734505</td>\n",
              "      <td>0.560804</td>\n",
              "      <td>0.999783</td>\n",
              "      <td>0.761283</td>\n",
              "      <td>0.263916</td>\n",
              "      <td>0.383823</td>\n",
              "      <td>0.620347</td>\n",
              "      <td>0.436596</td>\n",
              "    </tr>\n",
              "    <tr>\n",
              "      <th>10649</th>\n",
              "      <td>0.719975</td>\n",
              "      <td>0.543260</td>\n",
              "      <td>0.999777</td>\n",
              "      <td>0.748218</td>\n",
              "      <td>0.217768</td>\n",
              "      <td>0.309668</td>\n",
              "      <td>0.629832</td>\n",
              "      <td>0.433831</td>\n",
              "    </tr>\n",
              "    <tr>\n",
              "      <th>10650</th>\n",
              "      <td>0.713872</td>\n",
              "      <td>0.516569</td>\n",
              "      <td>0.999770</td>\n",
              "      <td>0.742731</td>\n",
              "      <td>0.233505</td>\n",
              "      <td>0.336695</td>\n",
              "      <td>0.641106</td>\n",
              "      <td>0.429401</td>\n",
              "    </tr>\n",
              "    <tr>\n",
              "      <th>10651</th>\n",
              "      <td>0.701588</td>\n",
              "      <td>0.492428</td>\n",
              "      <td>0.999768</td>\n",
              "      <td>0.731686</td>\n",
              "      <td>0.285076</td>\n",
              "      <td>0.289947</td>\n",
              "      <td>0.640659</td>\n",
              "      <td>0.425426</td>\n",
              "    </tr>\n",
              "  </tbody>\n",
              "</table>\n",
              "<p>10652 rows × 8 columns</p>\n",
              "</div>"
            ],
            "text/plain": [
              "             GR      RHOB        Vp       Vsh   Caliper  Porosity  \\\n",
              "0      0.188518  0.111261  0.999790  0.000000  0.885374  0.746356   \n",
              "1      0.030664  0.155196  0.999789  0.006670  0.789356  0.687240   \n",
              "2      0.226367  0.165092  0.999792  0.190662  0.783348  0.760690   \n",
              "3      0.296142  0.164792  0.999793  0.230592  0.867882  0.815963   \n",
              "4      0.085390  0.208577  0.999797  0.233390  0.723324  0.722760   \n",
              "...         ...       ...       ...       ...       ...       ...   \n",
              "10647  0.769896  0.576998  0.999793  0.793104  0.282205  0.290363   \n",
              "10648  0.734505  0.560804  0.999783  0.761283  0.263916  0.383823   \n",
              "10649  0.719975  0.543260  0.999777  0.748218  0.217768  0.309668   \n",
              "10650  0.713872  0.516569  0.999770  0.742731  0.233505  0.336695   \n",
              "10651  0.701588  0.492428  0.999768  0.731686  0.285076  0.289947   \n",
              "\n",
              "       Resistivity    Stress  \n",
              "0         0.352810  0.014843  \n",
              "1         0.300018  0.018390  \n",
              "2         0.319435  0.019075  \n",
              "3         0.292502  0.021201  \n",
              "4         0.347083  0.024515  \n",
              "...            ...       ...  \n",
              "10647     0.612473  0.439111  \n",
              "10648     0.620347  0.436596  \n",
              "10649     0.629832  0.433831  \n",
              "10650     0.641106  0.429401  \n",
              "10651     0.640659  0.425426  \n",
              "\n",
              "[10652 rows x 8 columns]"
            ]
          },
          "execution_count": 12,
          "metadata": {},
          "output_type": "execute_result"
        }
      ],
      "source": [
        "scaled_wd"
      ]
    },
    {
      "cell_type": "code",
      "execution_count": null,
      "id": "310cb4df",
      "metadata": {
        "id": "310cb4df"
      },
      "outputs": [],
      "source": [
        "well_data = well_data.reset_index()"
      ]
    },
    {
      "cell_type": "code",
      "execution_count": null,
      "id": "b9db2488",
      "metadata": {
        "id": "b9db2488"
      },
      "outputs": [],
      "source": [
        "merge= [well_data['DEPTH'], well_data['PP'], scaled_wd]"
      ]
    },
    {
      "cell_type": "code",
      "execution_count": null,
      "id": "3a5dbf89",
      "metadata": {
        "id": "3a5dbf89",
        "outputId": "9dfb5359-c41e-4672-a7a9-ca56b33bba9f"
      },
      "outputs": [
        {
          "data": {
            "text/html": [
              "<div>\n",
              "<style scoped>\n",
              "    .dataframe tbody tr th:only-of-type {\n",
              "        vertical-align: middle;\n",
              "    }\n",
              "\n",
              "    .dataframe tbody tr th {\n",
              "        vertical-align: top;\n",
              "    }\n",
              "\n",
              "    .dataframe thead th {\n",
              "        text-align: right;\n",
              "    }\n",
              "</style>\n",
              "<table border=\"1\" class=\"dataframe\">\n",
              "  <thead>\n",
              "    <tr style=\"text-align: right;\">\n",
              "      <th></th>\n",
              "      <th>DEPTH</th>\n",
              "      <th>PP</th>\n",
              "      <th>GR</th>\n",
              "      <th>RHOB</th>\n",
              "      <th>Vp</th>\n",
              "      <th>Vsh</th>\n",
              "      <th>Caliper</th>\n",
              "      <th>Porosity</th>\n",
              "      <th>Resistivity</th>\n",
              "      <th>Stress</th>\n",
              "    </tr>\n",
              "  </thead>\n",
              "  <tbody>\n",
              "    <tr>\n",
              "      <th>0</th>\n",
              "      <td>32.3656</td>\n",
              "      <td>1617.0</td>\n",
              "      <td>0.188518</td>\n",
              "      <td>0.111261</td>\n",
              "      <td>0.999790</td>\n",
              "      <td>0.000000</td>\n",
              "      <td>0.885374</td>\n",
              "      <td>0.746356</td>\n",
              "      <td>0.352810</td>\n",
              "      <td>0.014843</td>\n",
              "    </tr>\n",
              "    <tr>\n",
              "      <th>1</th>\n",
              "      <td>33.2800</td>\n",
              "      <td>1617.0</td>\n",
              "      <td>0.030664</td>\n",
              "      <td>0.155196</td>\n",
              "      <td>0.999789</td>\n",
              "      <td>0.006670</td>\n",
              "      <td>0.789356</td>\n",
              "      <td>0.687240</td>\n",
              "      <td>0.300018</td>\n",
              "      <td>0.018390</td>\n",
              "    </tr>\n",
              "    <tr>\n",
              "      <th>2</th>\n",
              "      <td>33.4324</td>\n",
              "      <td>1620.0</td>\n",
              "      <td>0.226367</td>\n",
              "      <td>0.165092</td>\n",
              "      <td>0.999792</td>\n",
              "      <td>0.190662</td>\n",
              "      <td>0.783348</td>\n",
              "      <td>0.760690</td>\n",
              "      <td>0.319435</td>\n",
              "      <td>0.019075</td>\n",
              "    </tr>\n",
              "    <tr>\n",
              "      <th>3</th>\n",
              "      <td>34.3468</td>\n",
              "      <td>1621.0</td>\n",
              "      <td>0.296142</td>\n",
              "      <td>0.164792</td>\n",
              "      <td>0.999793</td>\n",
              "      <td>0.230592</td>\n",
              "      <td>0.867882</td>\n",
              "      <td>0.815963</td>\n",
              "      <td>0.292502</td>\n",
              "      <td>0.021201</td>\n",
              "    </tr>\n",
              "    <tr>\n",
              "      <th>4</th>\n",
              "      <td>35.1088</td>\n",
              "      <td>1621.0</td>\n",
              "      <td>0.085390</td>\n",
              "      <td>0.208577</td>\n",
              "      <td>0.999797</td>\n",
              "      <td>0.233390</td>\n",
              "      <td>0.723324</td>\n",
              "      <td>0.722760</td>\n",
              "      <td>0.347083</td>\n",
              "      <td>0.024515</td>\n",
              "    </tr>\n",
              "    <tr>\n",
              "      <th>...</th>\n",
              "      <td>...</td>\n",
              "      <td>...</td>\n",
              "      <td>...</td>\n",
              "      <td>...</td>\n",
              "      <td>...</td>\n",
              "      <td>...</td>\n",
              "      <td>...</td>\n",
              "      <td>...</td>\n",
              "      <td>...</td>\n",
              "      <td>...</td>\n",
              "    </tr>\n",
              "    <tr>\n",
              "      <th>10647</th>\n",
              "      <td>181.3026</td>\n",
              "      <td>1805.0</td>\n",
              "      <td>0.769896</td>\n",
              "      <td>0.576998</td>\n",
              "      <td>0.999793</td>\n",
              "      <td>0.793104</td>\n",
              "      <td>0.282205</td>\n",
              "      <td>0.290363</td>\n",
              "      <td>0.612473</td>\n",
              "      <td>0.439111</td>\n",
              "    </tr>\n",
              "    <tr>\n",
              "      <th>10648</th>\n",
              "      <td>181.4550</td>\n",
              "      <td>1805.0</td>\n",
              "      <td>0.734505</td>\n",
              "      <td>0.560804</td>\n",
              "      <td>0.999783</td>\n",
              "      <td>0.761283</td>\n",
              "      <td>0.263916</td>\n",
              "      <td>0.383823</td>\n",
              "      <td>0.620347</td>\n",
              "      <td>0.436596</td>\n",
              "    </tr>\n",
              "    <tr>\n",
              "      <th>10649</th>\n",
              "      <td>181.6074</td>\n",
              "      <td>1803.0</td>\n",
              "      <td>0.719975</td>\n",
              "      <td>0.543260</td>\n",
              "      <td>0.999777</td>\n",
              "      <td>0.748218</td>\n",
              "      <td>0.217768</td>\n",
              "      <td>0.309668</td>\n",
              "      <td>0.629832</td>\n",
              "      <td>0.433831</td>\n",
              "    </tr>\n",
              "    <tr>\n",
              "      <th>10650</th>\n",
              "      <td>181.7598</td>\n",
              "      <td>1808.0</td>\n",
              "      <td>0.713872</td>\n",
              "      <td>0.516569</td>\n",
              "      <td>0.999770</td>\n",
              "      <td>0.742731</td>\n",
              "      <td>0.233505</td>\n",
              "      <td>0.336695</td>\n",
              "      <td>0.641106</td>\n",
              "      <td>0.429401</td>\n",
              "    </tr>\n",
              "    <tr>\n",
              "      <th>10651</th>\n",
              "      <td>181.9122</td>\n",
              "      <td>1808.0</td>\n",
              "      <td>0.701588</td>\n",
              "      <td>0.492428</td>\n",
              "      <td>0.999768</td>\n",
              "      <td>0.731686</td>\n",
              "      <td>0.285076</td>\n",
              "      <td>0.289947</td>\n",
              "      <td>0.640659</td>\n",
              "      <td>0.425426</td>\n",
              "    </tr>\n",
              "  </tbody>\n",
              "</table>\n",
              "<p>10652 rows × 10 columns</p>\n",
              "</div>"
            ],
            "text/plain": [
              "          DEPTH      PP        GR      RHOB        Vp       Vsh   Caliper  \\\n",
              "0       32.3656  1617.0  0.188518  0.111261  0.999790  0.000000  0.885374   \n",
              "1       33.2800  1617.0  0.030664  0.155196  0.999789  0.006670  0.789356   \n",
              "2       33.4324  1620.0  0.226367  0.165092  0.999792  0.190662  0.783348   \n",
              "3       34.3468  1621.0  0.296142  0.164792  0.999793  0.230592  0.867882   \n",
              "4       35.1088  1621.0  0.085390  0.208577  0.999797  0.233390  0.723324   \n",
              "...         ...     ...       ...       ...       ...       ...       ...   \n",
              "10647  181.3026  1805.0  0.769896  0.576998  0.999793  0.793104  0.282205   \n",
              "10648  181.4550  1805.0  0.734505  0.560804  0.999783  0.761283  0.263916   \n",
              "10649  181.6074  1803.0  0.719975  0.543260  0.999777  0.748218  0.217768   \n",
              "10650  181.7598  1808.0  0.713872  0.516569  0.999770  0.742731  0.233505   \n",
              "10651  181.9122  1808.0  0.701588  0.492428  0.999768  0.731686  0.285076   \n",
              "\n",
              "       Porosity  Resistivity    Stress  \n",
              "0      0.746356     0.352810  0.014843  \n",
              "1      0.687240     0.300018  0.018390  \n",
              "2      0.760690     0.319435  0.019075  \n",
              "3      0.815963     0.292502  0.021201  \n",
              "4      0.722760     0.347083  0.024515  \n",
              "...         ...          ...       ...  \n",
              "10647  0.290363     0.612473  0.439111  \n",
              "10648  0.383823     0.620347  0.436596  \n",
              "10649  0.309668     0.629832  0.433831  \n",
              "10650  0.336695     0.641106  0.429401  \n",
              "10651  0.289947     0.640659  0.425426  \n",
              "\n",
              "[10652 rows x 10 columns]"
            ]
          },
          "execution_count": 15,
          "metadata": {},
          "output_type": "execute_result"
        }
      ],
      "source": [
        "pd.concat(merge,axis=1)"
      ]
    },
    {
      "cell_type": "code",
      "execution_count": null,
      "id": "e476b1ff",
      "metadata": {
        "id": "e476b1ff"
      },
      "outputs": [],
      "source": [
        "wd_scaled= pd.concat(merge,axis=1)"
      ]
    },
    {
      "cell_type": "code",
      "execution_count": null,
      "id": "0ecf595d",
      "metadata": {
        "id": "0ecf595d",
        "outputId": "348ab45c-3bba-428c-84bd-4461045a19d9"
      },
      "outputs": [
        {
          "data": {
            "text/plain": [
              "<seaborn.axisgrid.FacetGrid at 0x21f9ed84c08>"
            ]
          },
          "execution_count": 17,
          "metadata": {},
          "output_type": "execute_result"
        },
        {
          "data": {
            "image/png": "[encoded data removed]",
            "text/plain": [
              "<Figure size 447.125x360 with 1 Axes>"
            ]
          },
          "metadata": {
            "needs_background": "light"
          },
          "output_type": "display_data"
        }
      ],
      "source": [
        "sns.displot(wd_scaled[['GR', 'RHOB', 'Vp', 'Vsh', 'Caliper', 'Porosity','Resistivity','Stress']], kde = False)"
      ]
    },
    {
      "cell_type": "code",
      "execution_count": null,
      "id": "c0c6ba44",
      "metadata": {
        "id": "c0c6ba44",
        "outputId": "423d85fe-5f55-4383-ea5d-55340138a807"
      },
      "outputs": [
        {
          "data": {
            "text/html": [
              "<div>\n",
              "<style scoped>\n",
              "    .dataframe tbody tr th:only-of-type {\n",
              "        vertical-align: middle;\n",
              "    }\n",
              "\n",
              "    .dataframe tbody tr th {\n",
              "        vertical-align: top;\n",
              "    }\n",
              "\n",
              "    .dataframe thead th {\n",
              "        text-align: right;\n",
              "    }\n",
              "</style>\n",
              "<table border=\"1\" class=\"dataframe\">\n",
              "  <thead>\n",
              "    <tr style=\"text-align: right;\">\n",
              "      <th></th>\n",
              "      <th>DEPTH</th>\n",
              "      <th>PP</th>\n",
              "      <th>GR</th>\n",
              "      <th>RHOB</th>\n",
              "      <th>Vsh</th>\n",
              "      <th>Caliper</th>\n",
              "      <th>Porosity</th>\n",
              "      <th>Resistivity</th>\n",
              "      <th>Stress</th>\n",
              "    </tr>\n",
              "  </thead>\n",
              "  <tbody>\n",
              "    <tr>\n",
              "      <th>0</th>\n",
              "      <td>32.3656</td>\n",
              "      <td>1617.0</td>\n",
              "      <td>0.188518</td>\n",
              "      <td>0.111261</td>\n",
              "      <td>0.000000</td>\n",
              "      <td>0.885374</td>\n",
              "      <td>0.746356</td>\n",
              "      <td>0.352810</td>\n",
              "      <td>0.014843</td>\n",
              "    </tr>\n",
              "    <tr>\n",
              "      <th>1</th>\n",
              "      <td>33.2800</td>\n",
              "      <td>1617.0</td>\n",
              "      <td>0.030664</td>\n",
              "      <td>0.155196</td>\n",
              "      <td>0.006670</td>\n",
              "      <td>0.789356</td>\n",
              "      <td>0.687240</td>\n",
              "      <td>0.300018</td>\n",
              "      <td>0.018390</td>\n",
              "    </tr>\n",
              "    <tr>\n",
              "      <th>2</th>\n",
              "      <td>33.4324</td>\n",
              "      <td>1620.0</td>\n",
              "      <td>0.226367</td>\n",
              "      <td>0.165092</td>\n",
              "      <td>0.190662</td>\n",
              "      <td>0.783348</td>\n",
              "      <td>0.760690</td>\n",
              "      <td>0.319435</td>\n",
              "      <td>0.019075</td>\n",
              "    </tr>\n",
              "    <tr>\n",
              "      <th>3</th>\n",
              "      <td>34.3468</td>\n",
              "      <td>1621.0</td>\n",
              "      <td>0.296142</td>\n",
              "      <td>0.164792</td>\n",
              "      <td>0.230592</td>\n",
              "      <td>0.867882</td>\n",
              "      <td>0.815963</td>\n",
              "      <td>0.292502</td>\n",
              "      <td>0.021201</td>\n",
              "    </tr>\n",
              "    <tr>\n",
              "      <th>4</th>\n",
              "      <td>35.1088</td>\n",
              "      <td>1621.0</td>\n",
              "      <td>0.085390</td>\n",
              "      <td>0.208577</td>\n",
              "      <td>0.233390</td>\n",
              "      <td>0.723324</td>\n",
              "      <td>0.722760</td>\n",
              "      <td>0.347083</td>\n",
              "      <td>0.024515</td>\n",
              "    </tr>\n",
              "    <tr>\n",
              "      <th>...</th>\n",
              "      <td>...</td>\n",
              "      <td>...</td>\n",
              "      <td>...</td>\n",
              "      <td>...</td>\n",
              "      <td>...</td>\n",
              "      <td>...</td>\n",
              "      <td>...</td>\n",
              "      <td>...</td>\n",
              "      <td>...</td>\n",
              "    </tr>\n",
              "    <tr>\n",
              "      <th>10647</th>\n",
              "      <td>181.3026</td>\n",
              "      <td>1805.0</td>\n",
              "      <td>0.769896</td>\n",
              "      <td>0.576998</td>\n",
              "      <td>0.793104</td>\n",
              "      <td>0.282205</td>\n",
              "      <td>0.290363</td>\n",
              "      <td>0.612473</td>\n",
              "      <td>0.439111</td>\n",
              "    </tr>\n",
              "    <tr>\n",
              "      <th>10648</th>\n",
              "      <td>181.4550</td>\n",
              "      <td>1805.0</td>\n",
              "      <td>0.734505</td>\n",
              "      <td>0.560804</td>\n",
              "      <td>0.761283</td>\n",
              "      <td>0.263916</td>\n",
              "      <td>0.383823</td>\n",
              "      <td>0.620347</td>\n",
              "      <td>0.436596</td>\n",
              "    </tr>\n",
              "    <tr>\n",
              "      <th>10649</th>\n",
              "      <td>181.6074</td>\n",
              "      <td>1803.0</td>\n",
              "      <td>0.719975</td>\n",
              "      <td>0.543260</td>\n",
              "      <td>0.748218</td>\n",
              "      <td>0.217768</td>\n",
              "      <td>0.309668</td>\n",
              "      <td>0.629832</td>\n",
              "      <td>0.433831</td>\n",
              "    </tr>\n",
              "    <tr>\n",
              "      <th>10650</th>\n",
              "      <td>181.7598</td>\n",
              "      <td>1808.0</td>\n",
              "      <td>0.713872</td>\n",
              "      <td>0.516569</td>\n",
              "      <td>0.742731</td>\n",
              "      <td>0.233505</td>\n",
              "      <td>0.336695</td>\n",
              "      <td>0.641106</td>\n",
              "      <td>0.429401</td>\n",
              "    </tr>\n",
              "    <tr>\n",
              "      <th>10651</th>\n",
              "      <td>181.9122</td>\n",
              "      <td>1808.0</td>\n",
              "      <td>0.701588</td>\n",
              "      <td>0.492428</td>\n",
              "      <td>0.731686</td>\n",
              "      <td>0.285076</td>\n",
              "      <td>0.289947</td>\n",
              "      <td>0.640659</td>\n",
              "      <td>0.425426</td>\n",
              "    </tr>\n",
              "  </tbody>\n",
              "</table>\n",
              "<p>10652 rows × 9 columns</p>\n",
              "</div>"
            ],
            "text/plain": [
              "          DEPTH      PP        GR      RHOB       Vsh   Caliper  Porosity  \\\n",
              "0       32.3656  1617.0  0.188518  0.111261  0.000000  0.885374  0.746356   \n",
              "1       33.2800  1617.0  0.030664  0.155196  0.006670  0.789356  0.687240   \n",
              "2       33.4324  1620.0  0.226367  0.165092  0.190662  0.783348  0.760690   \n",
              "3       34.3468  1621.0  0.296142  0.164792  0.230592  0.867882  0.815963   \n",
              "4       35.1088  1621.0  0.085390  0.208577  0.233390  0.723324  0.722760   \n",
              "...         ...     ...       ...       ...       ...       ...       ...   \n",
              "10647  181.3026  1805.0  0.769896  0.576998  0.793104  0.282205  0.290363   \n",
              "10648  181.4550  1805.0  0.734505  0.560804  0.761283  0.263916  0.383823   \n",
              "10649  181.6074  1803.0  0.719975  0.543260  0.748218  0.217768  0.309668   \n",
              "10650  181.7598  1808.0  0.713872  0.516569  0.742731  0.233505  0.336695   \n",
              "10651  181.9122  1808.0  0.701588  0.492428  0.731686  0.285076  0.289947   \n",
              "\n",
              "       Resistivity    Stress  \n",
              "0         0.352810  0.014843  \n",
              "1         0.300018  0.018390  \n",
              "2         0.319435  0.019075  \n",
              "3         0.292502  0.021201  \n",
              "4         0.347083  0.024515  \n",
              "...            ...       ...  \n",
              "10647     0.612473  0.439111  \n",
              "10648     0.620347  0.436596  \n",
              "10649     0.629832  0.433831  \n",
              "10650     0.641106  0.429401  \n",
              "10651     0.640659  0.425426  \n",
              "\n",
              "[10652 rows x 9 columns]"
            ]
          },
          "execution_count": 18,
          "metadata": {},
          "output_type": "execute_result"
        }
      ],
      "source": [
        "well_data = wd_scaled.drop(['Vp'],axis=1)    #dropping P-wave velocity\n",
        "well_data"
      ]
    },
    {
      "cell_type": "code",
      "execution_count": null,
      "id": "a164fba3",
      "metadata": {
        "id": "a164fba3",
        "outputId": "7f6b4c9a-d3e5-43f4-8eaa-fbd579fc0dac"
      },
      "outputs": [
        {
          "data": {
            "text/html": [
              "<div>\n",
              "<style scoped>\n",
              "    .dataframe tbody tr th:only-of-type {\n",
              "        vertical-align: middle;\n",
              "    }\n",
              "\n",
              "    .dataframe tbody tr th {\n",
              "        vertical-align: top;\n",
              "    }\n",
              "\n",
              "    .dataframe thead th {\n",
              "        text-align: right;\n",
              "    }\n",
              "</style>\n",
              "<table border=\"1\" class=\"dataframe\">\n",
              "  <thead>\n",
              "    <tr style=\"text-align: right;\">\n",
              "      <th></th>\n",
              "      <th>DEPTH</th>\n",
              "      <th>PP</th>\n",
              "      <th>GR</th>\n",
              "      <th>RHOB</th>\n",
              "      <th>Vsh</th>\n",
              "      <th>Caliper</th>\n",
              "      <th>Porosity</th>\n",
              "      <th>Resistivity</th>\n",
              "      <th>Stress</th>\n",
              "    </tr>\n",
              "  </thead>\n",
              "  <tbody>\n",
              "    <tr>\n",
              "      <th>DEPTH</th>\n",
              "      <td>1.000000</td>\n",
              "      <td>0.715753</td>\n",
              "      <td>0.244107</td>\n",
              "      <td>0.607687</td>\n",
              "      <td>0.202665</td>\n",
              "      <td>-0.485182</td>\n",
              "      <td>-0.537115</td>\n",
              "      <td>0.522179</td>\n",
              "      <td>0.995358</td>\n",
              "    </tr>\n",
              "    <tr>\n",
              "      <th>PP</th>\n",
              "      <td>0.715753</td>\n",
              "      <td>1.000000</td>\n",
              "      <td>0.310814</td>\n",
              "      <td>0.623625</td>\n",
              "      <td>0.343630</td>\n",
              "      <td>-0.475480</td>\n",
              "      <td>-0.568016</td>\n",
              "      <td>0.662104</td>\n",
              "      <td>0.730961</td>\n",
              "    </tr>\n",
              "    <tr>\n",
              "      <th>GR</th>\n",
              "      <td>0.244107</td>\n",
              "      <td>0.310814</td>\n",
              "      <td>1.000000</td>\n",
              "      <td>0.460947</td>\n",
              "      <td>0.929378</td>\n",
              "      <td>-0.240240</td>\n",
              "      <td>-0.435976</td>\n",
              "      <td>0.213618</td>\n",
              "      <td>0.264849</td>\n",
              "    </tr>\n",
              "    <tr>\n",
              "      <th>RHOB</th>\n",
              "      <td>0.607687</td>\n",
              "      <td>0.623625</td>\n",
              "      <td>0.460947</td>\n",
              "      <td>1.000000</td>\n",
              "      <td>0.462018</td>\n",
              "      <td>-0.526879</td>\n",
              "      <td>-0.867769</td>\n",
              "      <td>0.452958</td>\n",
              "      <td>0.662407</td>\n",
              "    </tr>\n",
              "    <tr>\n",
              "      <th>Vsh</th>\n",
              "      <td>0.202665</td>\n",
              "      <td>0.343630</td>\n",
              "      <td>0.929378</td>\n",
              "      <td>0.462018</td>\n",
              "      <td>1.000000</td>\n",
              "      <td>-0.263800</td>\n",
              "      <td>-0.444774</td>\n",
              "      <td>0.251630</td>\n",
              "      <td>0.225491</td>\n",
              "    </tr>\n",
              "    <tr>\n",
              "      <th>Caliper</th>\n",
              "      <td>-0.485182</td>\n",
              "      <td>-0.475480</td>\n",
              "      <td>-0.240240</td>\n",
              "      <td>-0.526879</td>\n",
              "      <td>-0.263800</td>\n",
              "      <td>1.000000</td>\n",
              "      <td>0.397251</td>\n",
              "      <td>-0.413744</td>\n",
              "      <td>-0.486818</td>\n",
              "    </tr>\n",
              "    <tr>\n",
              "      <th>Porosity</th>\n",
              "      <td>-0.537115</td>\n",
              "      <td>-0.568016</td>\n",
              "      <td>-0.435976</td>\n",
              "      <td>-0.867769</td>\n",
              "      <td>-0.444774</td>\n",
              "      <td>0.397251</td>\n",
              "      <td>1.000000</td>\n",
              "      <td>-0.419563</td>\n",
              "      <td>-0.585925</td>\n",
              "    </tr>\n",
              "    <tr>\n",
              "      <th>Resistivity</th>\n",
              "      <td>0.522179</td>\n",
              "      <td>0.662104</td>\n",
              "      <td>0.213618</td>\n",
              "      <td>0.452958</td>\n",
              "      <td>0.251630</td>\n",
              "      <td>-0.413744</td>\n",
              "      <td>-0.419563</td>\n",
              "      <td>1.000000</td>\n",
              "      <td>0.532117</td>\n",
              "    </tr>\n",
              "    <tr>\n",
              "      <th>Stress</th>\n",
              "      <td>0.995358</td>\n",
              "      <td>0.730961</td>\n",
              "      <td>0.264849</td>\n",
              "      <td>0.662407</td>\n",
              "      <td>0.225491</td>\n",
              "      <td>-0.486818</td>\n",
              "      <td>-0.585925</td>\n",
              "      <td>0.532117</td>\n",
              "      <td>1.000000</td>\n",
              "    </tr>\n",
              "  </tbody>\n",
              "</table>\n",
              "</div>"
            ],
            "text/plain": [
              "                DEPTH        PP        GR      RHOB       Vsh   Caliper  \\\n",
              "DEPTH        1.000000  0.715753  0.244107  0.607687  0.202665 -0.485182   \n",
              "PP           0.715753  1.000000  0.310814  0.623625  0.343630 -0.475480   \n",
              "GR           0.244107  0.310814  1.000000  0.460947  0.929378 -0.240240   \n",
              "RHOB         0.607687  0.623625  0.460947  1.000000  0.462018 -0.526879   \n",
              "Vsh          0.202665  0.343630  0.929378  0.462018  1.000000 -0.263800   \n",
              "Caliper     -0.485182 -0.475480 -0.240240 -0.526879 -0.263800  1.000000   \n",
              "Porosity    -0.537115 -0.568016 -0.435976 -0.867769 -0.444774  0.397251   \n",
              "Resistivity  0.522179  0.662104  0.213618  0.452958  0.251630 -0.413744   \n",
              "Stress       0.995358  0.730961  0.264849  0.662407  0.225491 -0.486818   \n",
              "\n",
              "             Porosity  Resistivity    Stress  \n",
              "DEPTH       -0.537115     0.522179  0.995358  \n",
              "PP          -0.568016     0.662104  0.730961  \n",
              "GR          -0.435976     0.213618  0.264849  \n",
              "RHOB        -0.867769     0.452958  0.662407  \n",
              "Vsh         -0.444774     0.251630  0.225491  \n",
              "Caliper      0.397251    -0.413744 -0.486818  \n",
              "Porosity     1.000000    -0.419563 -0.585925  \n",
              "Resistivity -0.419563     1.000000  0.532117  \n",
              "Stress      -0.585925     0.532117  1.000000  "
            ]
          },
          "execution_count": 19,
          "metadata": {},
          "output_type": "execute_result"
        }
      ],
      "source": [
        "well_data.corr()   #correlation between different features"
      ]
    },
    {
      "cell_type": "code",
      "execution_count": null,
      "id": "e2e5ff21",
      "metadata": {
        "id": "e2e5ff21",
        "outputId": "66692bd4-deac-4c84-a0b2-354ee3f1b62d"
      },
      "outputs": [
        {
          "data": {
            "image/png": "[encoded data removed]",
            "text/plain": [
              "<Figure size 864x576 with 2 Axes>"
            ]
          },
          "metadata": {
            "needs_background": "light"
          },
          "output_type": "display_data"
        }
      ],
      "source": [
        "plt.figure(figsize=(12,8)) \n",
        "sns.heatmap(well_data.corr(), annot=True, cmap='Dark2_r', linewidths = 2)\n",
        "plt.show()"
      ]
    },
    {
      "cell_type": "markdown",
      "id": "71ebd0a7",
      "metadata": {
        "id": "71ebd0a7"
      },
      "source": [
        "## ML Models"
      ]
    },
    {
      "cell_type": "code",
      "execution_count": null,
      "id": "27b2f4a2",
      "metadata": {
        "id": "27b2f4a2"
      },
      "outputs": [],
      "source": [
        "from sklearn.model_selection import train_test_split\n",
        "X = well_data.drop(['DEPTH', 'PP'], axis = 1)  #independent varibales are taken\n",
        "Y = well_data['PP']  #dependent varibales"
      ]
    },
    {
      "cell_type": "code",
      "execution_count": null,
      "id": "c101b1a3",
      "metadata": {
        "id": "c101b1a3"
      },
      "outputs": [],
      "source": [
        "X_train, X_test, Y_train, Y_test = train_test_split(X, Y, test_size = 0.25, random_state = 42) #splitting into training and test sets"
      ]
    },
    {
      "cell_type": "code",
      "execution_count": null,
      "id": "b1098c59",
      "metadata": {
        "id": "b1098c59",
        "outputId": "f0e94458-f2fe-4fde-def2-1b8c8647fe2c"
      },
      "outputs": [
        {
          "name": "stdout",
          "output_type": "stream",
          "text": [
            "(7989, 7)\n"
          ]
        }
      ],
      "source": [
        "print(X_train.shape)"
      ]
    },
    {
      "cell_type": "code",
      "execution_count": null,
      "id": "018bb21b",
      "metadata": {
        "id": "018bb21b",
        "outputId": "18642603-3a5e-47e3-95cf-a37a4a8b195f"
      },
      "outputs": [
        {
          "name": "stdout",
          "output_type": "stream",
          "text": [
            "(2663, 7)\n"
          ]
        }
      ],
      "source": [
        "print(X_test.shape)"
      ]
    },
    {
      "cell_type": "markdown",
      "id": "8d69d5c5",
      "metadata": {
        "id": "8d69d5c5"
      },
      "source": [
        "#### Multiple Linear Regression"
      ]
    },
    {
      "cell_type": "code",
      "execution_count": null,
      "id": "992eb38a",
      "metadata": {
        "id": "992eb38a"
      },
      "outputs": [],
      "source": [
        "from sklearn.linear_model import LinearRegression\n",
        "\n",
        "model1 = LinearRegression(fit_intercept = True, normalize = True)\n",
        "model1.fit(X_train, Y_train)\n",
        "pred_ml = model1.predict(X_test)"
      ]
    },
    {
      "cell_type": "code",
      "execution_count": null,
      "id": "fff7148c",
      "metadata": {
        "id": "fff7148c",
        "outputId": "1645394a-041f-41cf-cbc7-a498f5eba12a"
      },
      "outputs": [
        {
          "data": {
            "image/png": "[encoded data removed]",
            "text/plain": [
              "<Figure size 432x288 with 1 Axes>"
            ]
          },
          "metadata": {
            "needs_background": "light"
          },
          "output_type": "display_data"
        }
      ],
      "source": [
        "# visualization of the difference between the actual and predicted pore pressure in multiple linear regression\n",
        "plt.scatter(Y_test, pred_ml)\n",
        "plt.xlabel(\"Actual Pore Pressure\")\n",
        "plt.ylabel(\"Predicted Pore Pressure\")\n",
        "plt.title(\"Predicted Vs Actual for Multiple Linear Regression\")\n",
        "plt.show()"
      ]
    },
    {
      "cell_type": "markdown",
      "id": "4f108eb8",
      "metadata": {
        "id": "4f108eb8"
      },
      "source": [
        "#### XGBoost Regression"
      ]
    },
    {
      "cell_type": "code",
      "execution_count": null,
      "id": "e2823f7c",
      "metadata": {
        "id": "e2823f7c"
      },
      "outputs": [],
      "source": [
        "from xgboost import XGBRegressor\n",
        "xreg=XGBRegressor()\n",
        "xreg.fit(X_train, Y_train)\n",
        "pred2 = xreg.predict(X_test)"
      ]
    },
    {
      "cell_type": "code",
      "execution_count": null,
      "id": "642da84e",
      "metadata": {
        "id": "642da84e",
        "outputId": "810657f8-70c4-424d-c2ef-fa87f2def0fc"
      },
      "outputs": [
        {
          "data": {
            "image/png": "[encoded data removed]",
            "text/plain": [
              "<Figure size 432x288 with 1 Axes>"
            ]
          },
          "metadata": {
            "needs_background": "light"
          },
          "output_type": "display_data"
        }
      ],
      "source": [
        "# visualization of the difference between the actual and predicted pore pressure for XGBoost Regression \n",
        "plt.scatter(Y_test, pred2)\n",
        "plt.xlabel(\"Actual Pore Pressure\")\n",
        "plt.ylabel(\"Predicted Pore Pressure\")\n",
        "plt.title(\"Predicted Vs Actual for XGB \")\n",
        "plt.show()"
      ]
    },
    {
      "cell_type": "markdown",
      "id": "5fb0d1df",
      "metadata": {
        "id": "5fb0d1df"
      },
      "source": [
        "#### SVM Regressor"
      ]
    },
    {
      "cell_type": "code",
      "execution_count": null,
      "id": "0cedc3c9",
      "metadata": {
        "id": "0cedc3c9"
      },
      "outputs": [],
      "source": [
        "from sklearn import svm\n",
        "svmreg = svm.SVR()\n",
        "svmreg.fit(X_train, Y_train)\n",
        "pred3 = svmreg.predict(X_test)"
      ]
    },
    {
      "cell_type": "code",
      "execution_count": null,
      "id": "6b80fd29",
      "metadata": {
        "id": "6b80fd29",
        "outputId": "25e09adf-5ac3-4416-b7a8-6410772543b5"
      },
      "outputs": [
        {
          "data": {
            "image/png": "[encoded data removed]",
            "text/plain": [
              "<Figure size 432x288 with 1 Axes>"
            ]
          },
          "metadata": {
            "needs_background": "light"
          },
          "output_type": "display_data"
        }
      ],
      "source": [
        "# visualization of the difference between the actual and predicted pore pressure for SVM Regression\n",
        "plt.scatter(Y_test, pred3)\n",
        "plt.xlabel(\"Actual Pore Pressure\")\n",
        "plt.ylabel(\"Predicted Pore Pressure\")\n",
        "plt.title(\"Predicted Vs Actual for SVM \")\n",
        "plt.show()"
      ]
    },
    {
      "cell_type": "markdown",
      "id": "98050045",
      "metadata": {
        "id": "98050045"
      },
      "source": [
        "#### Random Forest Regression"
      ]
    },
    {
      "cell_type": "code",
      "execution_count": null,
      "id": "daa5cb6a",
      "metadata": {
        "id": "daa5cb6a"
      },
      "outputs": [],
      "source": [
        "from sklearn.ensemble import RandomForestRegressor\n",
        "rnfreg = RandomForestRegressor()\n",
        "rnfreg.fit(X_train, Y_train)\n",
        "pred4 = rnfreg.predict(X_test)"
      ]
    },
    {
      "cell_type": "code",
      "execution_count": null,
      "id": "ae0d0686",
      "metadata": {
        "id": "ae0d0686",
        "outputId": "abe5b7b9-3cf0-44d3-e571-4ad700c40458"
      },
      "outputs": [
        {
          "data": {
            "image/png": "[encoded data removed]",
            "text/plain": [
              "<Figure size 432x288 with 1 Axes>"
            ]
          },
          "metadata": {
            "needs_background": "light"
          },
          "output_type": "display_data"
        }
      ],
      "source": [
        "# visualization of the difference between the actual and predicted pore pressure for Random Forest Regression\n",
        "plt.scatter(Y_test, pred4)\n",
        "plt.xlabel(\"Actual Pore Pressure\")\n",
        "plt.ylabel(\"Predicted Pore Pressure\")\n",
        "plt.title(\"Predicted Vs Actual for Random Forest Regression \")\n",
        "plt.show()"
      ]
    },
    {
      "cell_type": "markdown",
      "id": "18aa973a",
      "metadata": {
        "id": "18aa973a"
      },
      "source": [
        "#### Artificial Neural Network Regressor"
      ]
    },
    {
      "cell_type": "code",
      "execution_count": null,
      "id": "fe15012e",
      "metadata": {
        "id": "fe15012e"
      },
      "outputs": [],
      "source": [
        "import tensorflow as tf"
      ]
    },
    {
      "cell_type": "code",
      "execution_count": null,
      "id": "d45d13d6",
      "metadata": {
        "id": "d45d13d6"
      },
      "outputs": [],
      "source": [
        "# Initializing ANN \n",
        "ann_model = tf.keras.models.Sequential()\n",
        "\n",
        "# Adding the first hidden layer\n",
        "ann_model.add(tf.keras.layers.Dense(units = 200, input_dim = 7, kernel_initializer = 'normal', activation = 'relu'))\n",
        "ann_model.add(tf.keras.layers.Dense(units = 100, kernel_initializer = 'normal', activation = 'relu')) # second hidden layer\n",
        "ann_model.add(tf.keras.layers.Dense(units = 50, kernel_initializer = 'normal', activation = 'relu'))  # hird hidden layer\n",
        "ann_model.add(tf.keras.layers.Dense(units = 25, kernel_initializer = 'normal', activation = 'relu'))  # fourth hidden layer\n",
        "ann_model.add(tf.keras.layers.Dense(units = 1, kernel_initializer = 'normal'))     # output layer"
      ]
    },
    {
      "cell_type": "code",
      "execution_count": null,
      "id": "61353813",
      "metadata": {
        "id": "61353813"
      },
      "outputs": [],
      "source": [
        "# Complilation of ANN\n",
        "ann_model.compile(loss = 'mean_squared_error') "
      ]
    },
    {
      "cell_type": "code",
      "execution_count": null,
      "id": "5be628f4",
      "metadata": {
        "id": "5be628f4",
        "outputId": "87fe7e2d-aa0e-40b1-8f99-f5b77ac140d9"
      },
      "outputs": [
        {
          "name": "stdout",
          "output_type": "stream",
          "text": [
            "Epoch 1/100\n",
            "799/799 [==============================] - 1s 1ms/step - loss: 396767.2500\n",
            "Epoch 2/100\n",
            "799/799 [==============================] - 1s 2ms/step - loss: 18846.4922\n",
            "Epoch 3/100\n",
            "799/799 [==============================] - 1s 1ms/step - loss: 17777.0859\n",
            "Epoch 4/100\n",
            "799/799 [==============================] - 1s 974us/step - loss: 17293.2324\n",
            "Epoch 5/100\n",
            "799/799 [==============================] - 1s 934us/step - loss: 16605.5332\n",
            "Epoch 6/100\n",
            "799/799 [==============================] - 1s 1ms/step - loss: 16000.3701\n",
            "Epoch 7/100\n",
            "799/799 [==============================] - 1s 1ms/step - loss: 15707.7031\n",
            "Epoch 8/100\n",
            "799/799 [==============================] - 1s 946us/step - loss: 15333.8545\n",
            "Epoch 9/100\n",
            "799/799 [==============================] - 1s 933us/step - loss: 15009.7666\n",
            "Epoch 10/100\n",
            "799/799 [==============================] - 1s 1ms/step - loss: 14737.6660\n",
            "Epoch 11/100\n",
            "799/799 [==============================] - 1s 914us/step - loss: 14547.5928\n",
            "Epoch 12/100\n",
            "799/799 [==============================] - 1s 1ms/step - loss: 14379.2861\n",
            "Epoch 13/100\n",
            "799/799 [==============================] - 1s 1ms/step - loss: 14351.8867\n",
            "Epoch 14/100\n",
            "799/799 [==============================] - 1s 2ms/step - loss: 14140.5703\n",
            "Epoch 15/100\n",
            "799/799 [==============================] - 2s 2ms/step - loss: 14032.0068\n",
            "Epoch 16/100\n",
            "799/799 [==============================] - 1s 1ms/step - loss: 13978.3906\n",
            "Epoch 17/100\n",
            "799/799 [==============================] - 1s 1ms/step - loss: 13771.9219\n",
            "Epoch 18/100\n",
            "799/799 [==============================] - 1s 725us/step - loss: 13687.1318\n",
            "Epoch 19/100\n",
            "799/799 [==============================] - 1s 863us/step - loss: 13529.5303\n",
            "Epoch 20/100\n",
            "799/799 [==============================] - 1s 1ms/step - loss: 13453.0332\n",
            "Epoch 21/100\n",
            "799/799 [==============================] - 1s 1ms/step - loss: 13346.3193\n",
            "Epoch 22/100\n",
            "799/799 [==============================] - 1s 1ms/step - loss: 13378.5742\n",
            "Epoch 23/100\n",
            "799/799 [==============================] - 1s 1ms/step - loss: 13140.9912\n",
            "Epoch 24/100\n",
            "799/799 [==============================] - 1s 967us/step - loss: 12954.1045\n",
            "Epoch 25/100\n",
            "799/799 [==============================] - 1s 2ms/step - loss: 12980.4629\n",
            "Epoch 26/100\n",
            "799/799 [==============================] - 1s 804us/step - loss: 12948.5000\n",
            "Epoch 27/100\n",
            "799/799 [==============================] - 1s 1ms/step - loss: 12792.9756\n",
            "Epoch 28/100\n",
            "799/799 [==============================] - 1s 914us/step - loss: 12820.2617\n",
            "Epoch 29/100\n",
            "799/799 [==============================] - 1s 774us/step - loss: 12577.1445\n",
            "Epoch 30/100\n",
            "799/799 [==============================] - 1s 784us/step - loss: 12407.0430\n",
            "Epoch 31/100\n",
            "799/799 [==============================] - 1s 1ms/step - loss: 12515.4375\n",
            "Epoch 32/100\n",
            "799/799 [==============================] - 1s 997us/step - loss: 12469.3779\n",
            "Epoch 33/100\n",
            "799/799 [==============================] - 1s 996us/step - loss: 12369.0898\n",
            "Epoch 34/100\n",
            "799/799 [==============================] - 1s 1ms/step - loss: 12308.3057\n",
            "Epoch 35/100\n",
            "799/799 [==============================] - 1s 963us/step - loss: 12269.1123\n",
            "Epoch 36/100\n",
            "799/799 [==============================] - 1s 941us/step - loss: 12217.6250\n",
            "Epoch 37/100\n",
            "799/799 [==============================] - 1s 864us/step - loss: 12255.7314\n",
            "Epoch 38/100\n",
            "799/799 [==============================] - 1s 1ms/step - loss: 12018.2627\n",
            "Epoch 39/100\n",
            "799/799 [==============================] - 1s 909us/step - loss: 12144.6475\n",
            "Epoch 40/100\n",
            "799/799 [==============================] - 1s 742us/step - loss: 12049.4658\n",
            "Epoch 41/100\n",
            "799/799 [==============================] - 1s 1ms/step - loss: 11970.8623\n",
            "Epoch 42/100\n",
            "799/799 [==============================] - 1s 1ms/step - loss: 11998.2705\n",
            "Epoch 43/100\n",
            "799/799 [==============================] - 1s 1ms/step - loss: 11879.3037\n",
            "Epoch 44/100\n",
            "799/799 [==============================] - 1s 950us/step - loss: 11872.5684\n",
            "Epoch 45/100\n",
            "799/799 [==============================] - 1s 863us/step - loss: 11829.8828\n",
            "Epoch 46/100\n",
            "799/799 [==============================] - 1s 961us/step - loss: 11623.6143\n",
            "Epoch 47/100\n",
            "799/799 [==============================] - 1s 887us/step - loss: 11619.3359\n",
            "Epoch 48/100\n",
            "799/799 [==============================] - 1s 1ms/step - loss: 11547.9336\n",
            "Epoch 49/100\n",
            "799/799 [==============================] - 1s 997us/step - loss: 11455.6074\n",
            "Epoch 50/100\n",
            "799/799 [==============================] - 1s 875us/step - loss: 11322.3594\n",
            "Epoch 51/100\n",
            "799/799 [==============================] - 1s 1ms/step - loss: 11177.4131\n",
            "Epoch 52/100\n",
            "799/799 [==============================] - 1s 922us/step - loss: 11120.9336\n",
            "Epoch 53/100\n",
            "799/799 [==============================] - 1s 1ms/step - loss: 10945.2598\n",
            "Epoch 54/100\n",
            "799/799 [==============================] - 1s 935us/step - loss: 11041.6758\n",
            "Epoch 55/100\n",
            "799/799 [==============================] - 1s 656us/step - loss: 10832.0039\n",
            "Epoch 56/100\n",
            "799/799 [==============================] - 1s 770us/step - loss: 10796.5195\n",
            "Epoch 57/100\n",
            "799/799 [==============================] - 1s 973us/step - loss: 10771.8262\n",
            "Epoch 58/100\n",
            "799/799 [==============================] - 1s 888us/step - loss: 10535.2256\n",
            "Epoch 59/100\n",
            "799/799 [==============================] - 1s 868us/step - loss: 10367.0635\n",
            "Epoch 60/100\n",
            "799/799 [==============================] - 1s 908us/step - loss: 10437.4492\n",
            "Epoch 61/100\n",
            "799/799 [==============================] - 1s 867us/step - loss: 10273.5859\n",
            "Epoch 62/100\n",
            "799/799 [==============================] - 1s 1ms/step - loss: 10268.6240\n",
            "Epoch 63/100\n",
            "799/799 [==============================] - 1s 906us/step - loss: 10113.0400\n",
            "Epoch 64/100\n",
            "799/799 [==============================] - 1s 1ms/step - loss: 10107.9033\n",
            "Epoch 65/100\n",
            "799/799 [==============================] - 1s 1ms/step - loss: 10075.2070\n",
            "Epoch 66/100\n",
            "799/799 [==============================] - 1s 834us/step - loss: 9966.7314\n",
            "Epoch 67/100\n",
            "799/799 [==============================] - 1s 1ms/step - loss: 9894.5703\n",
            "Epoch 68/100\n",
            "799/799 [==============================] - 1s 921us/step - loss: 9872.2949\n",
            "Epoch 69/100\n",
            "799/799 [==============================] - 1s 731us/step - loss: 9838.5713\n",
            "Epoch 70/100\n",
            "799/799 [==============================] - 1s 662us/step - loss: 9564.1846\n",
            "Epoch 71/100\n",
            "799/799 [==============================] - 1s 798us/step - loss: 9620.6143\n",
            "Epoch 72/100\n",
            "799/799 [==============================] - 1s 966us/step - loss: 9555.4023\n",
            "Epoch 73/100\n",
            "799/799 [==============================] - 1s 803us/step - loss: 9454.9570\n",
            "Epoch 74/100\n",
            "799/799 [==============================] - 1s 914us/step - loss: 9407.9932\n",
            "Epoch 75/100\n",
            "799/799 [==============================] - 1s 1ms/step - loss: 9332.7910\n",
            "Epoch 76/100\n",
            "799/799 [==============================] - 1s 797us/step - loss: 9371.2178\n",
            "Epoch 77/100\n",
            "799/799 [==============================] - 1s 722us/step - loss: 9270.5000\n",
            "Epoch 78/100\n",
            "799/799 [==============================] - 1s 941us/step - loss: 9213.6094\n",
            "Epoch 79/100\n",
            "799/799 [==============================] - 1s 984us/step - loss: 9176.8389\n",
            "Epoch 80/100\n",
            "799/799 [==============================] - 1s 773us/step - loss: 9140.1631\n",
            "Epoch 81/100\n",
            "799/799 [==============================] - 1s 1ms/step - loss: 9029.1074\n",
            "Epoch 82/100\n",
            "799/799 [==============================] - 1s 1ms/step - loss: 9080.5293\n",
            "Epoch 83/100\n",
            "799/799 [==============================] - 1s 976us/step - loss: 8872.7852\n",
            "Epoch 84/100\n",
            "799/799 [==============================] - 1s 959us/step - loss: 8930.2500\n",
            "Epoch 85/100\n",
            "799/799 [==============================] - 1s 921us/step - loss: 8885.3643\n",
            "Epoch 86/100\n",
            "799/799 [==============================] - 1s 1ms/step - loss: 8805.8887\n",
            "Epoch 87/100\n",
            "799/799 [==============================] - 1s 1ms/step - loss: 8814.4902\n",
            "Epoch 88/100\n",
            "799/799 [==============================] - 1s 1ms/step - loss: 8611.1289\n",
            "Epoch 89/100\n",
            "799/799 [==============================] - 1s 844us/step - loss: 8567.2334\n",
            "Epoch 90/100\n",
            "799/799 [==============================] - 1s 824us/step - loss: 8432.8740\n",
            "Epoch 91/100\n",
            "799/799 [==============================] - 1s 1ms/step - loss: 8568.2119\n",
            "Epoch 92/100\n",
            "799/799 [==============================] - 1s 1ms/step - loss: 8512.8438\n",
            "Epoch 93/100\n",
            "799/799 [==============================] - 1s 2ms/step - loss: 8567.4609\n",
            "Epoch 94/100\n",
            "799/799 [==============================] - 1s 1ms/step - loss: 8333.6348\n",
            "Epoch 95/100\n",
            "799/799 [==============================] - 1s 929us/step - loss: 8304.22950s - loss: 8\n",
            "Epoch 96/100\n",
            "799/799 [==============================] - 1s 1ms/step - loss: 8361.7500\n",
            "Epoch 97/100\n",
            "799/799 [==============================] - 1s 969us/step - loss: 8218.1377\n",
            "Epoch 98/100\n",
            "799/799 [==============================] - 1s 1ms/step - loss: 8165.4238\n",
            "Epoch 99/100\n",
            "799/799 [==============================] - 1s 1ms/step - loss: 8187.9297\n",
            "Epoch 100/100\n",
            "799/799 [==============================] - 1s 988us/step - loss: 8133.0537\n"
          ]
        },
        {
          "data": {
            "text/plain": [
              "<tensorflow.python.keras.callbacks.History at 0x21fafe74d88>"
            ]
          },
          "execution_count": 36,
          "metadata": {},
          "output_type": "execute_result"
        }
      ],
      "source": [
        "ann_model.fit(np.array(X_train), np.array(Y_train), epochs=100, batch_size = 10)"
      ]
    },
    {
      "cell_type": "code",
      "execution_count": null,
      "id": "d58e0845",
      "metadata": {
        "id": "d58e0845"
      },
      "outputs": [],
      "source": [
        "pred5 = ann_model.predict(X_test)"
      ]
    },
    {
      "cell_type": "code",
      "execution_count": null,
      "id": "7d9bd25d",
      "metadata": {
        "id": "7d9bd25d",
        "outputId": "b67966e4-d40a-483c-b4cf-d5c019832e1a"
      },
      "outputs": [
        {
          "data": {
            "image/png": "[encoded data removed]",
            "text/plain": [
              "<Figure size 432x288 with 1 Axes>"
            ]
          },
          "metadata": {
            "needs_background": "light"
          },
          "output_type": "display_data"
        }
      ],
      "source": [
        "# visualization of the difference between the actual and predicted pore pressure for ANN Regression\n",
        "plt.scatter(Y_test, pred5)\n",
        "plt.xlabel(\"Actual Pore Pressure\")\n",
        "plt.ylabel(\"Predicted Pore Pressure\")\n",
        "plt.title(\"Predicted Vs Actual for ANN \")\n",
        "plt.show()"
      ]
    },
    {
      "cell_type": "markdown",
      "id": "84daba5a",
      "metadata": {
        "id": "84daba5a"
      },
      "source": [
        "### Testing the Models"
      ]
    },
    {
      "cell_type": "code",
      "execution_count": null,
      "id": "cf3b4010",
      "metadata": {
        "id": "cf3b4010"
      },
      "outputs": [],
      "source": [
        "from sklearn import metrics"
      ]
    },
    {
      "cell_type": "code",
      "execution_count": null,
      "id": "a5f9a9e1",
      "metadata": {
        "id": "a5f9a9e1",
        "outputId": "9a2c87ab-0ff2-4304-b4d3-b0361f2eec7e"
      },
      "outputs": [
        {
          "data": {
            "text/html": [
              "<div>\n",
              "<style scoped>\n",
              "    .dataframe tbody tr th:only-of-type {\n",
              "        vertical-align: middle;\n",
              "    }\n",
              "\n",
              "    .dataframe tbody tr th {\n",
              "        vertical-align: top;\n",
              "    }\n",
              "\n",
              "    .dataframe thead th {\n",
              "        text-align: right;\n",
              "    }\n",
              "</style>\n",
              "<table border=\"1\" class=\"dataframe\">\n",
              "  <thead>\n",
              "    <tr style=\"text-align: right;\">\n",
              "      <th></th>\n",
              "      <th>Model</th>\n",
              "      <th>R_squared Score</th>\n",
              "    </tr>\n",
              "  </thead>\n",
              "  <tbody>\n",
              "    <tr>\n",
              "      <th>1</th>\n",
              "      <td>Random Forest</td>\n",
              "      <td>94.098961</td>\n",
              "    </tr>\n",
              "    <tr>\n",
              "      <th>2</th>\n",
              "      <td>XGBoost</td>\n",
              "      <td>92.660989</td>\n",
              "    </tr>\n",
              "    <tr>\n",
              "      <th>4</th>\n",
              "      <td>ANN</td>\n",
              "      <td>70.318743</td>\n",
              "    </tr>\n",
              "    <tr>\n",
              "      <th>3</th>\n",
              "      <td>Support Vector Machine</td>\n",
              "      <td>65.629860</td>\n",
              "    </tr>\n",
              "    <tr>\n",
              "      <th>0</th>\n",
              "      <td>Linear Regression</td>\n",
              "      <td>65.487990</td>\n",
              "    </tr>\n",
              "  </tbody>\n",
              "</table>\n",
              "</div>"
            ],
            "text/plain": [
              "                    Model  R_squared Score\n",
              "1           Random Forest        94.098961\n",
              "2                 XGBoost        92.660989\n",
              "4                     ANN        70.318743\n",
              "3  Support Vector Machine        65.629860\n",
              "0       Linear Regression        65.487990"
            ]
          },
          "execution_count": 40,
          "metadata": {},
          "output_type": "execute_result"
        }
      ],
      "source": [
        "models=pd.DataFrame({\n",
        "    'Model':['Linear Regression', 'Random Forest', 'XGBoost', 'Support Vector Machine', 'ANN'],\n",
        "    'R_squared Score':[metrics.r2_score(Y_test, pred_ml)*100, metrics.r2_score(Y_test, pred4)*100, metrics.r2_score(Y_test, pred2)*100, metrics.r2_score(Y_test, pred3)*100, metrics.r2_score(Y_test, pred5)*100]\n",
        "})\n",
        "models.sort_values(by ='R_squared Score', ascending=False)"
      ]
    }
  ],
  "metadata": {
    "kernelspec": {
      "display_name": "Python 3 (ipykernel)",
      "language": "python",
      "name": "python3"
    },
    "language_info": {
      "codemirror_mode": {
        "name": "ipython",
        "version": 3
      },
      "file_extension": ".py",
      "mimetype": "text/x-python",
      "name": "python",
      "nbconvert_exporter": "python",
      "pygments_lexer": "ipython3",
      "version": "3.7.13"
    },
    "colab": {
      "name": "ML Project - Estimation of Pore Pressure .ipynb",
      "provenance": [],
      "include_colab_link": true
    }
  },
  "nbformat": 4,
  "nbformat_minor": 5
}