{
  "cells": [
    {
      "cell_type": "markdown",
      "metadata": {
        "id": "view-in-github",
        "colab_type": "text"
      },
      "source": [
        "<a href=\"https://colab.research.google.com/github/pranilbasu/ML-Projects/blob/main/ML_Project_Prediction_of_Energy_Output_of_Power_Plant.ipynb\" target=\"_parent\"><img src=\"https://colab.research.google.com/assets/colab-badge.svg\" alt=\"Open In Colab\"/></a>"
      ]
    },
    {
      "cell_type": "markdown",
      "id": "748f103e",
      "metadata": {
        "id": "748f103e"
      },
      "source": [
        "# Prediction of Energy Output"
      ]
    },
    {
      "cell_type": "code",
      "execution_count": null,
      "id": "46ae8cd6",
      "metadata": {
        "id": "46ae8cd6"
      },
      "outputs": [],
      "source": [
        "# importing libraries\n",
        "import numpy as np\n",
        "import pandas as pd\n",
        "import tensorflow as tf"
      ]
    },
    {
      "cell_type": "code",
      "execution_count": null,
      "id": "3a4ebcf0",
      "metadata": {
        "id": "3a4ebcf0"
      },
      "outputs": [],
      "source": [
        "dataset = pd.read_excel('Folds5x2_pp.xlsx')\n",
        "X = dataset.iloc[:, :-1].values # matrix of features\n",
        "Y = dataset.iloc[:, -1].values  # dependent variables"
      ]
    },
    {
      "cell_type": "code",
      "execution_count": null,
      "id": "82a72894",
      "metadata": {
        "id": "82a72894",
        "outputId": "489745af-bc39-4753-b951-8aa1a9f50d56"
      },
      "outputs": [
        {
          "data": {
            "text/html": [
              "<div>\n",
              "<style scoped>\n",
              "    .dataframe tbody tr th:only-of-type {\n",
              "        vertical-align: middle;\n",
              "    }\n",
              "\n",
              "    .dataframe tbody tr th {\n",
              "        vertical-align: top;\n",
              "    }\n",
              "\n",
              "    .dataframe thead th {\n",
              "        text-align: right;\n",
              "    }\n",
              "</style>\n",
              "<table border=\"1\" class=\"dataframe\">\n",
              "  <thead>\n",
              "    <tr style=\"text-align: right;\">\n",
              "      <th></th>\n",
              "      <th>AT</th>\n",
              "      <th>V</th>\n",
              "      <th>AP</th>\n",
              "      <th>RH</th>\n",
              "      <th>PE</th>\n",
              "    </tr>\n",
              "  </thead>\n",
              "  <tbody>\n",
              "    <tr>\n",
              "      <th>0</th>\n",
              "      <td>14.96</td>\n",
              "      <td>41.76</td>\n",
              "      <td>1024.07</td>\n",
              "      <td>73.17</td>\n",
              "      <td>463.26</td>\n",
              "    </tr>\n",
              "    <tr>\n",
              "      <th>1</th>\n",
              "      <td>25.18</td>\n",
              "      <td>62.96</td>\n",
              "      <td>1020.04</td>\n",
              "      <td>59.08</td>\n",
              "      <td>444.37</td>\n",
              "    </tr>\n",
              "    <tr>\n",
              "      <th>2</th>\n",
              "      <td>5.11</td>\n",
              "      <td>39.40</td>\n",
              "      <td>1012.16</td>\n",
              "      <td>92.14</td>\n",
              "      <td>488.56</td>\n",
              "    </tr>\n",
              "    <tr>\n",
              "      <th>3</th>\n",
              "      <td>20.86</td>\n",
              "      <td>57.32</td>\n",
              "      <td>1010.24</td>\n",
              "      <td>76.64</td>\n",
              "      <td>446.48</td>\n",
              "    </tr>\n",
              "    <tr>\n",
              "      <th>4</th>\n",
              "      <td>10.82</td>\n",
              "      <td>37.50</td>\n",
              "      <td>1009.23</td>\n",
              "      <td>96.62</td>\n",
              "      <td>473.90</td>\n",
              "    </tr>\n",
              "  </tbody>\n",
              "</table>\n",
              "</div>"
            ],
            "text/plain": [
              "      AT      V       AP     RH      PE\n",
              "0  14.96  41.76  1024.07  73.17  463.26\n",
              "1  25.18  62.96  1020.04  59.08  444.37\n",
              "2   5.11  39.40  1012.16  92.14  488.56\n",
              "3  20.86  57.32  1010.24  76.64  446.48\n",
              "4  10.82  37.50  1009.23  96.62  473.90"
            ]
          },
          "execution_count": 3,
          "metadata": {},
          "output_type": "execute_result"
        }
      ],
      "source": [
        "dataset.head()  "
      ]
    },
    {
      "cell_type": "markdown",
      "id": "9e82246d",
      "metadata": {
        "id": "9e82246d"
      },
      "source": [
        "#### Abbreviations :\n",
        "###### AT - Ambient Temperature (in degree Celcius)\n",
        "###### AP - Ambient Pressure (in milibar)\n",
        "###### V - Exhaust Vaccum (in cm Hg)\n",
        "###### RH - Relative Humidity (in %)\n",
        "###### PE - Hourly Energy Output (in MW)"
      ]
    },
    {
      "cell_type": "code",
      "execution_count": null,
      "id": "3add8224",
      "metadata": {
        "id": "3add8224"
      },
      "outputs": [],
      "source": [
        "from sklearn.model_selection import train_test_split\n",
        "X_train, X_test, Y_train, Y_test = train_test_split(X, Y, test_size = 0.25, random_state = 0)"
      ]
    },
    {
      "cell_type": "markdown",
      "id": "41d86399",
      "metadata": {
        "id": "41d86399"
      },
      "source": [
        "### Building ANN "
      ]
    },
    {
      "cell_type": "code",
      "execution_count": null,
      "id": "411367fb",
      "metadata": {
        "id": "411367fb"
      },
      "outputs": [],
      "source": [
        "ann = tf.keras.models.Sequential()   #initializing ANN"
      ]
    },
    {
      "cell_type": "code",
      "execution_count": null,
      "id": "b85f63e7",
      "metadata": {
        "id": "b85f63e7"
      },
      "outputs": [],
      "source": [
        "ann.add(tf.keras.layers.Dense(units=6, activation='relu'))   # adding the input layer and first hidden layer"
      ]
    },
    {
      "cell_type": "code",
      "execution_count": null,
      "id": "a5075ad8",
      "metadata": {
        "id": "a5075ad8"
      },
      "outputs": [],
      "source": [
        "ann.add(tf.keras.layers.Dense(units=6, activation='relu'))   # adding the second hidden layer"
      ]
    },
    {
      "cell_type": "code",
      "execution_count": null,
      "id": "491dd701",
      "metadata": {
        "id": "491dd701"
      },
      "outputs": [],
      "source": [
        "ann.add(tf.keras.layers.Dense(units=1))  # output layer"
      ]
    },
    {
      "cell_type": "code",
      "execution_count": null,
      "id": "f4bb2896",
      "metadata": {
        "id": "f4bb2896"
      },
      "outputs": [],
      "source": [
        "ann.compile(optimizer = 'adam', loss = 'mean_squared_error')  # compiling the ANN"
      ]
    },
    {
      "cell_type": "code",
      "execution_count": null,
      "id": "1c05c361",
      "metadata": {
        "id": "1c05c361",
        "outputId": "ece0340c-1062-4ae6-9a87-7705ae6bb5db"
      },
      "outputs": [
        {
          "name": "stdout",
          "output_type": "stream",
          "text": [
            "Epoch 1/100\n",
            "225/225 [==============================] - 0s 2ms/step - loss: 11136.5195\n",
            "Epoch 2/100\n",
            "225/225 [==============================] - 0s 2ms/step - loss: 539.2022\n",
            "Epoch 3/100\n",
            "225/225 [==============================] - 0s 2ms/step - loss: 507.0764\n",
            "Epoch 4/100\n",
            "225/225 [==============================] - 0s 2ms/step - loss: 468.9082\n",
            "Epoch 5/100\n",
            "225/225 [==============================] - 0s 2ms/step - loss: 426.6269\n",
            "Epoch 6/100\n",
            "225/225 [==============================] - 0s 2ms/step - loss: 382.0860\n",
            "Epoch 7/100\n",
            "225/225 [==============================] - 0s 2ms/step - loss: 336.2481\n",
            "Epoch 8/100\n",
            "225/225 [==============================] - 0s 2ms/step - loss: 292.2154\n",
            "Epoch 9/100\n",
            "225/225 [==============================] - 0s 2ms/step - loss: 249.2684\n",
            "Epoch 10/100\n",
            "225/225 [==============================] - 0s 2ms/step - loss: 209.0123\n",
            "Epoch 11/100\n",
            "225/225 [==============================] - 0s 2ms/step - loss: 172.0010\n",
            "Epoch 12/100\n",
            "225/225 [==============================] - 0s 2ms/step - loss: 139.8178\n",
            "Epoch 13/100\n",
            "225/225 [==============================] - 0s 2ms/step - loss: 111.3918\n",
            "Epoch 14/100\n",
            "225/225 [==============================] - 0s 2ms/step - loss: 88.0939\n",
            "Epoch 15/100\n",
            "225/225 [==============================] - 0s 2ms/step - loss: 69.4213\n",
            "Epoch 16/100\n",
            "225/225 [==============================] - 0s 2ms/step - loss: 55.2383\n",
            "Epoch 17/100\n",
            "225/225 [==============================] - 0s 2ms/step - loss: 44.9032\n",
            "Epoch 18/100\n",
            "225/225 [==============================] - 0s 2ms/step - loss: 37.9600\n",
            "Epoch 19/100\n",
            "225/225 [==============================] - 0s 2ms/step - loss: 33.3870\n",
            "Epoch 20/100\n",
            "225/225 [==============================] - 0s 2ms/step - loss: 30.5397\n",
            "Epoch 21/100\n",
            "225/225 [==============================] - 0s 2ms/step - loss: 29.0408\n",
            "Epoch 22/100\n",
            "225/225 [==============================] - 0s 2ms/step - loss: 28.0288\n",
            "Epoch 23/100\n",
            "225/225 [==============================] - 0s 2ms/step - loss: 27.3381\n",
            "Epoch 24/100\n",
            "225/225 [==============================] - 0s 2ms/step - loss: 27.2554\n",
            "Epoch 25/100\n",
            "225/225 [==============================] - 0s 2ms/step - loss: 27.0637\n",
            "Epoch 26/100\n",
            "225/225 [==============================] - 0s 2ms/step - loss: 26.6533\n",
            "Epoch 27/100\n",
            "225/225 [==============================] - 0s 2ms/step - loss: 26.8195\n",
            "Epoch 28/100\n",
            "225/225 [==============================] - 0s 2ms/step - loss: 26.7290\n",
            "Epoch 29/100\n",
            "225/225 [==============================] - 0s 2ms/step - loss: 26.6617\n",
            "Epoch 30/100\n",
            "225/225 [==============================] - 0s 2ms/step - loss: 27.0730\n",
            "Epoch 31/100\n",
            "225/225 [==============================] - 0s 2ms/step - loss: 26.8828\n",
            "Epoch 32/100\n",
            "225/225 [==============================] - 0s 2ms/step - loss: 26.4111\n",
            "Epoch 33/100\n",
            "225/225 [==============================] - 0s 2ms/step - loss: 26.8074\n",
            "Epoch 34/100\n",
            "225/225 [==============================] - 0s 2ms/step - loss: 26.8176\n",
            "Epoch 35/100\n",
            "225/225 [==============================] - 0s 2ms/step - loss: 26.5113\n",
            "Epoch 36/100\n",
            "225/225 [==============================] - 0s 2ms/step - loss: 26.8421\n",
            "Epoch 37/100\n",
            "225/225 [==============================] - 0s 2ms/step - loss: 26.2564\n",
            "Epoch 38/100\n",
            "225/225 [==============================] - 0s 2ms/step - loss: 27.1490\n",
            "Epoch 39/100\n",
            "225/225 [==============================] - 0s 2ms/step - loss: 26.3600\n",
            "Epoch 40/100\n",
            "225/225 [==============================] - 0s 2ms/step - loss: 26.8158\n",
            "Epoch 41/100\n",
            "225/225 [==============================] - 0s 2ms/step - loss: 26.7125\n",
            "Epoch 42/100\n",
            "225/225 [==============================] - 0s 2ms/step - loss: 26.6516\n",
            "Epoch 43/100\n",
            "225/225 [==============================] - 0s 2ms/step - loss: 26.5505\n",
            "Epoch 44/100\n",
            "225/225 [==============================] - 0s 2ms/step - loss: 26.9074\n",
            "Epoch 45/100\n",
            "225/225 [==============================] - 0s 2ms/step - loss: 26.5133\n",
            "Epoch 46/100\n",
            "225/225 [==============================] - 0s 2ms/step - loss: 26.7758\n",
            "Epoch 47/100\n",
            "225/225 [==============================] - 0s 2ms/step - loss: 26.5248\n",
            "Epoch 48/100\n",
            "225/225 [==============================] - 0s 2ms/step - loss: 26.3799\n",
            "Epoch 49/100\n",
            "225/225 [==============================] - 0s 2ms/step - loss: 26.5923\n",
            "Epoch 50/100\n",
            "225/225 [==============================] - 0s 2ms/step - loss: 26.7282\n",
            "Epoch 51/100\n",
            "225/225 [==============================] - 0s 2ms/step - loss: 26.7017\n",
            "Epoch 52/100\n",
            "225/225 [==============================] - 0s 2ms/step - loss: 26.4375\n",
            "Epoch 53/100\n",
            "225/225 [==============================] - 0s 2ms/step - loss: 26.4189\n",
            "Epoch 54/100\n",
            "225/225 [==============================] - 0s 2ms/step - loss: 26.2637\n",
            "Epoch 55/100\n",
            "225/225 [==============================] - 0s 2ms/step - loss: 26.5010\n",
            "Epoch 56/100\n",
            "225/225 [==============================] - 0s 2ms/step - loss: 27.3627\n",
            "Epoch 57/100\n",
            "225/225 [==============================] - 0s 2ms/step - loss: 26.7063\n",
            "Epoch 58/100\n",
            "225/225 [==============================] - 0s 2ms/step - loss: 26.5711\n",
            "Epoch 59/100\n",
            "225/225 [==============================] - 0s 2ms/step - loss: 26.6591\n",
            "Epoch 60/100\n",
            "225/225 [==============================] - 0s 2ms/step - loss: 26.5618\n",
            "Epoch 61/100\n",
            "225/225 [==============================] - 0s 2ms/step - loss: 26.6683\n",
            "Epoch 62/100\n",
            "225/225 [==============================] - 0s 2ms/step - loss: 26.5839\n",
            "Epoch 63/100\n",
            "225/225 [==============================] - 0s 2ms/step - loss: 26.6190\n",
            "Epoch 64/100\n",
            "225/225 [==============================] - 0s 2ms/step - loss: 27.0641\n",
            "Epoch 65/100\n",
            "225/225 [==============================] - 0s 2ms/step - loss: 26.8518\n",
            "Epoch 66/100\n",
            "225/225 [==============================] - 0s 2ms/step - loss: 26.6404\n",
            "Epoch 67/100\n",
            "225/225 [==============================] - 0s 2ms/step - loss: 26.4229\n",
            "Epoch 68/100\n",
            "225/225 [==============================] - 0s 2ms/step - loss: 27.2240\n",
            "Epoch 69/100\n",
            "225/225 [==============================] - 0s 2ms/step - loss: 26.4221\n",
            "Epoch 70/100\n",
            "225/225 [==============================] - 0s 2ms/step - loss: 26.6117\n",
            "Epoch 71/100\n",
            "225/225 [==============================] - 0s 2ms/step - loss: 27.0139\n",
            "Epoch 72/100\n",
            "225/225 [==============================] - 0s 2ms/step - loss: 26.2676\n",
            "Epoch 73/100\n",
            "225/225 [==============================] - 0s 2ms/step - loss: 26.6115\n",
            "Epoch 74/100\n",
            "225/225 [==============================] - 0s 2ms/step - loss: 26.8057\n",
            "Epoch 75/100\n",
            "225/225 [==============================] - 0s 2ms/step - loss: 27.2089\n",
            "Epoch 76/100\n",
            "225/225 [==============================] - 0s 2ms/step - loss: 26.8762\n",
            "Epoch 77/100\n",
            "225/225 [==============================] - 0s 2ms/step - loss: 26.3061\n",
            "Epoch 78/100\n",
            "225/225 [==============================] - 0s 2ms/step - loss: 26.8384\n",
            "Epoch 79/100\n",
            "225/225 [==============================] - 0s 2ms/step - loss: 26.4733\n",
            "Epoch 80/100\n",
            "225/225 [==============================] - 0s 2ms/step - loss: 26.7343\n",
            "Epoch 81/100\n",
            "225/225 [==============================] - 0s 2ms/step - loss: 26.3652\n",
            "Epoch 82/100\n",
            "225/225 [==============================] - 0s 2ms/step - loss: 26.5007\n",
            "Epoch 83/100\n",
            "225/225 [==============================] - 0s 2ms/step - loss: 26.5218\n",
            "Epoch 84/100\n",
            "225/225 [==============================] - 0s 2ms/step - loss: 26.5389\n",
            "Epoch 85/100\n",
            "225/225 [==============================] - 0s 2ms/step - loss: 26.3558\n",
            "Epoch 86/100\n",
            "225/225 [==============================] - 0s 2ms/step - loss: 26.8477\n",
            "Epoch 87/100\n",
            "225/225 [==============================] - 0s 2ms/step - loss: 26.3294\n",
            "Epoch 88/100\n",
            "225/225 [==============================] - 0s 2ms/step - loss: 26.4197\n",
            "Epoch 89/100\n",
            "225/225 [==============================] - 0s 2ms/step - loss: 26.5852\n",
            "Epoch 90/100\n",
            "225/225 [==============================] - 0s 2ms/step - loss: 26.4164\n",
            "Epoch 91/100\n",
            "225/225 [==============================] - 0s 2ms/step - loss: 26.6168\n",
            "Epoch 92/100\n",
            "225/225 [==============================] - 0s 2ms/step - loss: 26.8050\n",
            "Epoch 93/100\n",
            "225/225 [==============================] - 0s 2ms/step - loss: 26.7306\n",
            "Epoch 94/100\n",
            "225/225 [==============================] - 0s 2ms/step - loss: 26.3084\n",
            "Epoch 95/100\n",
            "225/225 [==============================] - 0s 2ms/step - loss: 26.6551\n",
            "Epoch 96/100\n",
            "225/225 [==============================] - 0s 2ms/step - loss: 26.5890\n",
            "Epoch 97/100\n",
            "225/225 [==============================] - 0s 2ms/step - loss: 26.4428\n",
            "Epoch 98/100\n",
            "225/225 [==============================] - 0s 2ms/step - loss: 26.7789\n",
            "Epoch 99/100\n",
            "225/225 [==============================] - 0s 2ms/step - loss: 26.3879\n",
            "Epoch 100/100\n",
            "225/225 [==============================] - 0s 2ms/step - loss: 26.5159\n"
          ]
        },
        {
          "data": {
            "text/plain": [
              "<tensorflow.python.keras.callbacks.History at 0x18699c13348>"
            ]
          },
          "execution_count": 10,
          "metadata": {},
          "output_type": "execute_result"
        }
      ],
      "source": [
        "ann.fit(X_train, Y_train, batch_size = 32, epochs = 100)  # training the ANN"
      ]
    },
    {
      "cell_type": "markdown",
      "id": "6007b1e5",
      "metadata": {
        "id": "6007b1e5"
      },
      "source": [
        "#### Predicting the results of test set"
      ]
    },
    {
      "cell_type": "code",
      "execution_count": null,
      "id": "9f1f6750",
      "metadata": {
        "id": "9f1f6750",
        "outputId": "40f137b6-0876-46fb-d039-65acdeb284a6"
      },
      "outputs": [
        {
          "name": "stdout",
          "output_type": "stream",
          "text": [
            "[[431.0575 ]\n",
            " [462.10336]\n",
            " [465.59763]\n",
            " ...\n",
            " [472.04056]\n",
            " [476.26263]\n",
            " [440.6898 ]]\n"
          ]
        }
      ],
      "source": [
        "Y_pred = ann.predict(X_test)\n",
        "print(Y_pred)"
      ]
    },
    {
      "cell_type": "code",
      "execution_count": null,
      "id": "f72ba94b",
      "metadata": {
        "id": "f72ba94b",
        "outputId": "95a8f1fb-fe0a-49fd-9518-ba3e009fb590"
      },
      "outputs": [
        {
          "data": {
            "image/png": "[encoded data removed]",
            "text/plain": [
              "<Figure size 432x288 with 1 Axes>"
            ]
          },
          "metadata": {
            "needs_background": "light"
          },
          "output_type": "display_data"
        }
      ],
      "source": [
        "import matplotlib.pyplot as plt\n",
        "# visualization of the difference between the actual and predicted EP values for ANN Regression\n",
        "plt.scatter(Y_test, Y_pred)\n",
        "plt.xlabel(\"Actual EP\")\n",
        "plt.ylabel(\"Predicted EP\")\n",
        "plt.title(\"Predicted Vs Actual for ANN \")\n",
        "plt.show()"
      ]
    },
    {
      "cell_type": "markdown",
      "id": "5086437c",
      "metadata": {
        "id": "5086437c"
      },
      "source": [
        "### Testing the Model"
      ]
    },
    {
      "cell_type": "code",
      "execution_count": null,
      "id": "e874dae2",
      "metadata": {
        "id": "e874dae2",
        "outputId": "8d127a1e-c008-4d7f-c8c3-2e928e7ea4e7"
      },
      "outputs": [
        {
          "data": {
            "text/plain": [
              "91.49343459612585"
            ]
          },
          "execution_count": 13,
          "metadata": {},
          "output_type": "execute_result"
        }
      ],
      "source": [
        "from sklearn import metrics\n",
        "metrics.r2_score(Y_test, Y_pred)*100"
      ]
    }
  ],
  "metadata": {
    "kernelspec": {
      "display_name": "Python 3 (ipykernel)",
      "language": "python",
      "name": "python3"
    },
    "language_info": {
      "codemirror_mode": {
        "name": "ipython",
        "version": 3
      },
      "file_extension": ".py",
      "mimetype": "text/x-python",
      "name": "python",
      "nbconvert_exporter": "python",
      "pygments_lexer": "ipython3",
      "version": "3.7.13"
    },
    "colab": {
      "name": "ML Project - Prediction of Energy Output of Power Plant.ipynb",
      "provenance": [],
      "include_colab_link": true
    }
  },
  "nbformat": 4,
  "nbformat_minor": 5
}